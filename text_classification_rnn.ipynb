{
  "nbformat": 4,
  "nbformat_minor": 0,
  "metadata": {
    "accelerator": "GPU",
    "colab": {
      "name": "text_classification_rnn.ipynb",
      "provenance": [],
      "collapsed_sections": [],
      "toc_visible": true,
      "include_colab_link": true
    },
    "kernelspec": {
      "display_name": "Python 3",
      "name": "python3"
    }
  },
  "cells": [
    {
      "cell_type": "markdown",
      "metadata": {
        "id": "view-in-github",
        "colab_type": "text"
      },
      "source": [
        "<a href=\"https://colab.research.google.com/github/yshan9/deep_learning/blob/master/text_classification_rnn.ipynb\" target=\"_parent\"><img src=\"https://colab.research.google.com/assets/colab-badge.svg\" alt=\"Open In Colab\"/></a>"
      ]
    },
    {
      "cell_type": "markdown",
      "metadata": {
        "id": "hX4n9TsbGw-f"
      },
      "source": [
        "##### Copyright 2018 The TensorFlow Authors."
      ]
    },
    {
      "cell_type": "code",
      "metadata": {
        "cellView": "form",
        "id": "0nbI5DtDGw-i"
      },
      "source": [
        "#@title Licensed under the Apache License, Version 2.0 (the \"License\");\n",
        "# you may not use this file except in compliance with the License.\n",
        "# You may obtain a copy of the License at\n",
        "#\n",
        "# https://www.apache.org/licenses/LICENSE-2.0\n",
        "#\n",
        "# Unless required by applicable law or agreed to in writing, software\n",
        "# distributed under the License is distributed on an \"AS IS\" BASIS,\n",
        "# WITHOUT WARRANTIES OR CONDITIONS OF ANY KIND, either express or implied.\n",
        "# See the License for the specific language governing permissions and\n",
        "# limitations under the License."
      ],
      "execution_count": 1,
      "outputs": []
    },
    {
      "cell_type": "markdown",
      "metadata": {
        "id": "9TnJztDZGw-n"
      },
      "source": [
        "# Text classification with an RNN"
      ]
    },
    {
      "cell_type": "markdown",
      "metadata": {
        "id": "AfN3bMR5Gw-o"
      },
      "source": [
        "<table class=\"tfo-notebook-buttons\" align=\"left\">\n",
        "  <td>\n",
        "    <a target=\"_blank\" href=\"https://www.tensorflow.org/tutorials/text/text_classification_rnn\"><img src=\"https://www.tensorflow.org/images/tf_logo_32px.png\" />View on TensorFlow.org</a>\n",
        "  </td>\n",
        "  <td>\n",
        "    <a target=\"_blank\" href=\"https://colab.research.google.com/github/tensorflow/docs/blob/master/site/en/tutorials/text/text_classification_rnn.ipynb\"><img src=\"https://www.tensorflow.org/images/colab_logo_32px.png\" />Run in Google Colab</a>\n",
        "  </td>\n",
        "  <td>\n",
        "    <a target=\"_blank\" href=\"https://github.com/tensorflow/docs/blob/master/site/en/tutorials/text/text_classification_rnn.ipynb\"><img src=\"https://www.tensorflow.org/images/GitHub-Mark-32px.png\" />View source on GitHub</a>\n",
        "  </td>\n",
        "  <td>\n",
        "    <a href=\"https://storage.googleapis.com/tensorflow_docs/docs/site/en/tutorials/text/text_classification_rnn.ipynb\"><img src=\"https://www.tensorflow.org/images/download_logo_32px.png\" />Download notebook</a>\n",
        "  </td>\n",
        "</table>"
      ]
    },
    {
      "cell_type": "markdown",
      "metadata": {
        "id": "m21LJQJatl0s"
      },
      "source": [
        "https://www.tensorflow.org/tutorials/text/text_classification_rnn\n"
      ]
    },
    {
      "cell_type": "markdown",
      "metadata": {
        "id": "ZbztfQrNtnDX"
      },
      "source": [
        ""
      ]
    },
    {
      "cell_type": "markdown",
      "metadata": {
        "id": "lUWearf0Gw-p"
      },
      "source": [
        "This text classification tutorial trains a [recurrent neural network](https://developers.google.com/machine-learning/glossary/#recurrent_neural_network) on the [IMDB large movie review dataset](http://ai.stanford.edu/~amaas/data/sentiment/) for sentiment analysis."
      ]
    },
    {
      "cell_type": "markdown",
      "metadata": {
        "id": "_2VQo4bajwUU"
      },
      "source": [
        "## Setup"
      ]
    },
    {
      "cell_type": "code",
      "metadata": {
        "id": "vH_FAfIz5dEw"
      },
      "source": [
        "!pip install -q tensorflow_datasets"
      ],
      "execution_count": 2,
      "outputs": []
    },
    {
      "cell_type": "code",
      "metadata": {
        "id": "z682XYsrjkY9"
      },
      "source": [
        "import numpy as np\n",
        "\n",
        "import tensorflow_datasets as tfds\n",
        "import tensorflow as tf\n",
        "\n",
        "tfds.disable_progress_bar()"
      ],
      "execution_count": 3,
      "outputs": []
    },
    {
      "cell_type": "markdown",
      "metadata": {
        "id": "1rXHa-w9JZhb"
      },
      "source": [
        "Import `matplotlib` and create a helper function to plot graphs:"
      ]
    },
    {
      "cell_type": "code",
      "metadata": {
        "id": "Mp1Z7P9pYRSK"
      },
      "source": [
        "import matplotlib.pyplot as plt\n",
        "\n",
        "def plot_graphs(history, metric):\n",
        "  plt.plot(history.history[metric])\n",
        "  plt.plot(history.history['val_'+metric], '')\n",
        "  plt.xlabel(\"Epochs\")\n",
        "  plt.ylabel(metric)\n",
        "  plt.legend([metric, 'val_'+metric])"
      ],
      "execution_count": 4,
      "outputs": []
    },
    {
      "cell_type": "markdown",
      "metadata": {
        "id": "pRmMubr0jrE2"
      },
      "source": [
        "## Setup input pipeline\n",
        "\n",
        "\n",
        "The IMDB large movie review dataset is a *binary classification* dataset—all the reviews have either a *positive* or *negative* sentiment.\n",
        "\n",
        "Download the dataset using [TFDS](https://www.tensorflow.org/datasets). See the [loading text tutorial](../load_data/text.ipynb) for details on how to load this sort of data manually.\n"
      ]
    },
    {
      "cell_type": "code",
      "metadata": {
        "id": "SHRwRoP2nVHX",
        "colab": {
          "base_uri": "https://localhost:8080/"
        },
        "outputId": "79d54ce9-d944-4672-d444-a047bd0c94c4"
      },
      "source": [
        "dataset, info = tfds.load('imdb_reviews', with_info=True,\n",
        "                          as_supervised=True)\n",
        "train_dataset, test_dataset = dataset['train'], dataset['test']\n",
        "\n",
        "train_dataset.element_spec"
      ],
      "execution_count": 5,
      "outputs": [
        {
          "output_type": "stream",
          "text": [
            "\u001b[1mDownloading and preparing dataset imdb_reviews/plain_text/1.0.0 (download: 80.23 MiB, generated: Unknown size, total: 80.23 MiB) to /root/tensorflow_datasets/imdb_reviews/plain_text/1.0.0...\u001b[0m\n",
            "Shuffling and writing examples to /root/tensorflow_datasets/imdb_reviews/plain_text/1.0.0.incomplete3FTUOU/imdb_reviews-train.tfrecord\n",
            "Shuffling and writing examples to /root/tensorflow_datasets/imdb_reviews/plain_text/1.0.0.incomplete3FTUOU/imdb_reviews-test.tfrecord\n"
          ],
          "name": "stdout"
        },
        {
          "output_type": "stream",
          "text": [
            "WARNING:absl:Dataset is using deprecated text encoder API which will be removed soon. Please use the plain_text version of the dataset and migrate to `tensorflow_text`.\n"
          ],
          "name": "stderr"
        },
        {
          "output_type": "stream",
          "text": [
            "Shuffling and writing examples to /root/tensorflow_datasets/imdb_reviews/plain_text/1.0.0.incomplete3FTUOU/imdb_reviews-unsupervised.tfrecord\n",
            "\u001b[1mDataset imdb_reviews downloaded and prepared to /root/tensorflow_datasets/imdb_reviews/plain_text/1.0.0. Subsequent calls will reuse this data.\u001b[0m\n"
          ],
          "name": "stdout"
        },
        {
          "output_type": "execute_result",
          "data": {
            "text/plain": [
              "(TensorSpec(shape=(), dtype=tf.string, name=None),\n",
              " TensorSpec(shape=(), dtype=tf.int64, name=None))"
            ]
          },
          "metadata": {
            "tags": []
          },
          "execution_count": 5
        }
      ]
    },
    {
      "cell_type": "markdown",
      "metadata": {
        "id": "nWA4c2ir7g6p"
      },
      "source": [
        "Initially this returns a dataset of (text, label pairs):"
      ]
    },
    {
      "cell_type": "code",
      "metadata": {
        "id": "vd4_BGKyurao",
        "colab": {
          "base_uri": "https://localhost:8080/"
        },
        "outputId": "9ed74e04-bd40-42a0-cd99-f8115f1b79c8"
      },
      "source": [
        "for example, label in train_dataset.take(1):\n",
        "  print('text: ', example.numpy())\n",
        "  print('label: ', label.numpy())"
      ],
      "execution_count": 6,
      "outputs": [
        {
          "output_type": "stream",
          "text": [
            "text:  b\"This was an absolutely terrible movie. Don't be lured in by Christopher Walken or Michael Ironside. Both are great actors, but this must simply be their worst role in history. Even their great acting could not redeem this movie's ridiculous storyline. This movie is an early nineties US propaganda piece. The most pathetic scenes were those when the Columbian rebels were making their cases for revolutions. Maria Conchita Alonso appeared phony, and her pseudo-love affair with Walken was nothing but a pathetic emotional plug in a movie that was devoid of any real meaning. I am disappointed that there are movies like this, ruining actor's like Christopher Walken's good name. I could barely sit through it.\"\n",
            "label:  0\n"
          ],
          "name": "stdout"
        }
      ]
    },
    {
      "cell_type": "markdown",
      "metadata": {
        "id": "z2qVJzcEluH_"
      },
      "source": [
        "Next shuffle the data for training and create batches of these `(text, label)` pairs:"
      ]
    },
    {
      "cell_type": "code",
      "metadata": {
        "id": "dDsCaZCDYZgm"
      },
      "source": [
        "BUFFER_SIZE = 10000\n",
        "BATCH_SIZE = 64"
      ],
      "execution_count": 7,
      "outputs": []
    },
    {
      "cell_type": "code",
      "metadata": {
        "id": "VznrltNOnUc5"
      },
      "source": [
        "train_dataset = train_dataset.shuffle(BUFFER_SIZE).batch(BATCH_SIZE).prefetch(tf.data.experimental.AUTOTUNE)\n",
        "test_dataset = test_dataset.batch(BATCH_SIZE).prefetch(tf.data.experimental.AUTOTUNE)"
      ],
      "execution_count": 8,
      "outputs": []
    },
    {
      "cell_type": "code",
      "metadata": {
        "id": "jqkvdcFv41wC",
        "colab": {
          "base_uri": "https://localhost:8080/"
        },
        "outputId": "eefc25f5-87a0-4146-d982-b35a2d6924e5"
      },
      "source": [
        "for example, label in train_dataset.take(1):\n",
        "  print('texts: ', example.numpy()[:3])\n",
        "  print()\n",
        "  print('labels: ', label.numpy()[:3])"
      ],
      "execution_count": 9,
      "outputs": [
        {
          "output_type": "stream",
          "text": [
            "texts:  [b'I, like many die-hard Trekkers (or Trekkies, i don\\'t care!) suffered through seven seasons of \"Star Trek Voyager\", dreaming of a better show when it was over, lamenting the end of \"Deep Space Nine\" in 1999. prayers, answered. \"Enterprise\" is fantastic. Fresh perspective, radically different characters, stunning new visuals, a pop-song for the intro. (I was shocked!) I can\\'t think of anything I didn\\'t like. sign me up for 10 seasons of this show. \"Star Trek\" is back - \"Voyager,\" nobody misses you! Keep on Trekkin\\'!<br /><br />>'\n",
            " b'A female vampire kills young women and paints with their blood. She has an assistant who doesn\\'t want to be a vampire, so he has to do what she orders or be turned into a blood sucker. After a few kills, the assistant gets remorse and falls in love with a homeless girl.<br /><br />What can I say about this movie ? That its pacing is over-slow, that it has some strange sound effects (never a bite sounded so strange) and ambiance (new jazz here I come) and that lights don\\'t seem to be included on the set. It looks like an \"auteur\" horror movie with all the self-sufficiency inside.<br /><br />The plot is completely stupid and as you can guess, it\\'s the female vampire who explains how to kill her even if she doesn\\'t have to do it; of course, crosses, light, garlic and sticks don\\'t work.<br /><br />It\\'s not even a funny lousy movie. Perhaps with some friends and a lot of beers, it can\\'t have its funny sides (to be honest, it\\'s funny during 10 - 15 minutes near the end of the movie). Don\\'t be fooled by the Troma sticker, it\\'s one the bad movie they present.'\n",
            " b'Movies like this one, and C.R.A.Z.Y., make me very sad for American films with a gay subject matter. With the exception of Parting Glances and Brokeback Mountain, there are few other notable American films with the kind of depth and sincerity as this movie, The Bubble. This movie centers on two men, Noam and Ashwar, an Israle and Palestinian respectively. Their relationship is complicated by the tension between the Jews and Arabs in Israel. Couples, in the early stages of their relationships will struggle with who will call who next, or who will say \"I love you\" first. Noam and Ashwar\\'s early love is complicated by suicide bombings, armed security check points, and racism. While Noam\\'s friends accept and like Ashwar, who is Arab, it is clear that most of Tel Aviv\\'s citizens probably don\\'t.<br /><br />One of the most touching moments, and there are many in this film, is when Noam and Ashwar attend a production of \"Bent\". We, as movie goers, see them watching this play, and the affect it has on the two of them is profoundly captured in their eyes. And ultimately, this touching moment is played out in a very sad way in the finale of the movie.<br /><br />Ohad Knoller and Youseff \\'Joe\\' Sweid are outstanding as Noam and Ashwar. Director Eytan Fox is brilliant in creating a cogent and interesting retelling of the Shakespeare classic Romeo and Juliet. And while most movies today have sex in them, (almost as a sport), this one goes back to the old tried and true version of sex with love and passion combined. It is so refreshing. Also refreshing is seeing two gay men being portrayed as people and not cartoons. There are cartoonish characters in this movie. It just doesn\\'t happen to be the two gay guys for a change. Somewhere on this site I think I read a comparison between this movie and \"Friends\". Well, not really. Yes, these are youthful characters stumbling through their first uneasy steps into adulthood and relationships. But I don\\'t recall getting \"blowed up\" as a backdrop to the insipid story lines in \"Friends\".<br /><br />This is a very good movie. It has heart, and heartbreak. And like all good love stories love does win out. But not in it\\'s intact glory of full bloom . Still, it\\'s a very satisfying movie to watch.']\n",
            "\n",
            "labels:  [1 0 1]\n"
          ],
          "name": "stdout"
        }
      ]
    },
    {
      "cell_type": "markdown",
      "metadata": {
        "id": "s5eWCo88voPY"
      },
      "source": [
        "## Create the text encoder"
      ]
    },
    {
      "cell_type": "markdown",
      "metadata": {
        "id": "TFevcItw15P_"
      },
      "source": [
        "The raw text loaded by `tfds` needs to be processed before it can be used in a model. The simplest way to process text for training is using the `experimental.preprocessing.TextVectorization` layer. This layer has many capabilities, but this tutorial sticks to the default behavior.\n",
        "\n",
        "Create the layer, and pass the dataset's text to the layer's `.adapt` method:"
      ]
    },
    {
      "cell_type": "code",
      "metadata": {
        "id": "uC25Lu1Yvuqy"
      },
      "source": [
        "VOCAB_SIZE=1000\n",
        "encoder = tf.keras.layers.experimental.preprocessing.TextVectorization(\n",
        "    max_tokens=VOCAB_SIZE)\n",
        "encoder.adapt(train_dataset.map(lambda text, label: text))"
      ],
      "execution_count": 10,
      "outputs": []
    },
    {
      "cell_type": "markdown",
      "metadata": {
        "id": "IuQzVBbe3Ldu"
      },
      "source": [
        "The `.adapt` method sets the layer's vocabulary. Here are the first 20 tokens. After the padding and unknown tokens they're sorted by frequency: "
      ]
    },
    {
      "cell_type": "code",
      "metadata": {
        "id": "tBoyjjWg0Ac9",
        "colab": {
          "base_uri": "https://localhost:8080/"
        },
        "outputId": "f45686a0-28aa-4ac7-80f8-caf6b746155d"
      },
      "source": [
        "vocab = np.array(encoder.get_vocabulary())\n",
        "vocab[:20]"
      ],
      "execution_count": 11,
      "outputs": [
        {
          "output_type": "execute_result",
          "data": {
            "text/plain": [
              "array(['', '[UNK]', 'the', 'and', 'a', 'of', 'to', 'is', 'in', 'it', 'i',\n",
              "       'this', 'that', 'br', 'was', 'as', 'for', 'with', 'movie', 'but'],\n",
              "      dtype='<U14')"
            ]
          },
          "metadata": {
            "tags": []
          },
          "execution_count": 11
        }
      ]
    },
    {
      "cell_type": "markdown",
      "metadata": {
        "id": "mjId5pua3jHQ"
      },
      "source": [
        "Once the vocabulary is set, the layer can encode text into indices. The tensors of indices are 0-padded to the longest sequence in the batch (unless you set a fixed `output_sequence_length`):"
      ]
    },
    {
      "cell_type": "code",
      "metadata": {
        "id": "RGc7C9WiwRWs",
        "colab": {
          "base_uri": "https://localhost:8080/"
        },
        "outputId": "c86bdcf1-3cd2-4edb-e877-0c572ddc8112"
      },
      "source": [
        "encoded_example = encoder(example)[:3].numpy()\n",
        "encoded_example"
      ],
      "execution_count": 12,
      "outputs": [
        {
          "output_type": "execute_result",
          "data": {
            "text/plain": [
              "array([[ 10,  39, 106, ...,   0,   0,   0],\n",
              "       [  4, 653,   1, ...,   0,   0,   0],\n",
              "       [ 93,  39,  11, ...,   0,   0,   0]])"
            ]
          },
          "metadata": {
            "tags": []
          },
          "execution_count": 12
        }
      ]
    },
    {
      "cell_type": "markdown",
      "metadata": {
        "id": "F5cjz0bS39IN"
      },
      "source": [
        "With the default settings, the process is not completely reversible. There are three main reasns for that:\n",
        "\n",
        "1. The default value for `preprocessing.TextVectorization`'s `standardize` argument is `\"lower_and_strip_punctuation\"`.\n",
        "2. The limited vocabulary size and lack of character-based fallback results in some unknown tokens."
      ]
    },
    {
      "cell_type": "code",
      "metadata": {
        "id": "N_tD0QY5wXaK",
        "colab": {
          "base_uri": "https://localhost:8080/"
        },
        "outputId": "0f3f6012-1bec-476c-8ffd-6628cfd729ef"
      },
      "source": [
        "for n in range(3):\n",
        "  print(\"Original: \", example[n].numpy())\n",
        "  print(\"Round-trip: \", \" \".join(vocab[encoded_example[n]]))\n",
        "  print()"
      ],
      "execution_count": 13,
      "outputs": [
        {
          "output_type": "stream",
          "text": [
            "Original:  b'I, like many die-hard Trekkers (or Trekkies, i don\\'t care!) suffered through seven seasons of \"Star Trek Voyager\", dreaming of a better show when it was over, lamenting the end of \"Deep Space Nine\" in 1999. prayers, answered. \"Enterprise\" is fantastic. Fresh perspective, radically different characters, stunning new visuals, a pop-song for the intro. (I was shocked!) I can\\'t think of anything I didn\\'t like. sign me up for 10 seasons of this show. \"Star Trek\" is back - \"Voyager,\" nobody misses you! Keep on Trekkin\\'!<br /><br />>'\n",
            "Round-trip:  i like many [UNK] [UNK] or [UNK] i dont care [UNK] through [UNK] [UNK] of star [UNK] [UNK] [UNK] of a better show when it was over [UNK] the end of deep space [UNK] in [UNK] [UNK] [UNK] [UNK] is fantastic [UNK] [UNK] [UNK] different characters [UNK] new [UNK] a [UNK] for the [UNK] i was [UNK] i cant think of anything i didnt like [UNK] me up for 10 [UNK] of this show star [UNK] is back [UNK] [UNK] [UNK] you keep on [UNK] br                                                                                                                                                                                                                                                                                                                                                                                                                                                                                                                                                                                                                                                                                                                                                                                                                                                                                                                             \n",
            "\n",
            "Original:  b'A female vampire kills young women and paints with their blood. She has an assistant who doesn\\'t want to be a vampire, so he has to do what she orders or be turned into a blood sucker. After a few kills, the assistant gets remorse and falls in love with a homeless girl.<br /><br />What can I say about this movie ? That its pacing is over-slow, that it has some strange sound effects (never a bite sounded so strange) and ambiance (new jazz here I come) and that lights don\\'t seem to be included on the set. It looks like an \"auteur\" horror movie with all the self-sufficiency inside.<br /><br />The plot is completely stupid and as you can guess, it\\'s the female vampire who explains how to kill her even if she doesn\\'t have to do it; of course, crosses, light, garlic and sticks don\\'t work.<br /><br />It\\'s not even a funny lousy movie. Perhaps with some friends and a lot of beers, it can\\'t have its funny sides (to be honest, it\\'s funny during 10 - 15 minutes near the end of the movie). Don\\'t be fooled by the Troma sticker, it\\'s one the bad movie they present.'\n",
            "Round-trip:  a female [UNK] [UNK] young women and [UNK] with their blood she has an [UNK] who doesnt want to be a [UNK] so he has to do what she [UNK] or be turned into a blood [UNK] after a few [UNK] the [UNK] gets [UNK] and falls in love with a [UNK] [UNK] br what can i say about this movie that its [UNK] is [UNK] that it has some strange sound effects never a [UNK] [UNK] so strange and [UNK] new [UNK] here i come and that [UNK] dont seem to be [UNK] on the set it looks like an [UNK] horror movie with all the [UNK] [UNK] br the plot is completely stupid and as you can guess its the female [UNK] who [UNK] how to kill her even if she doesnt have to do it of course [UNK] light [UNK] and [UNK] dont [UNK] br its not even a funny [UNK] movie perhaps with some friends and a lot of [UNK] it cant have its funny [UNK] to be [UNK] its funny during 10 [UNK] minutes near the end of the movie dont be [UNK] by the [UNK] [UNK] its one the bad movie they present                                                                                                                                                                                                                                                                                                                                                                                                                                                                                                                                                                                                                                                                                                                                                                                                            \n",
            "\n",
            "Original:  b'Movies like this one, and C.R.A.Z.Y., make me very sad for American films with a gay subject matter. With the exception of Parting Glances and Brokeback Mountain, there are few other notable American films with the kind of depth and sincerity as this movie, The Bubble. This movie centers on two men, Noam and Ashwar, an Israle and Palestinian respectively. Their relationship is complicated by the tension between the Jews and Arabs in Israel. Couples, in the early stages of their relationships will struggle with who will call who next, or who will say \"I love you\" first. Noam and Ashwar\\'s early love is complicated by suicide bombings, armed security check points, and racism. While Noam\\'s friends accept and like Ashwar, who is Arab, it is clear that most of Tel Aviv\\'s citizens probably don\\'t.<br /><br />One of the most touching moments, and there are many in this film, is when Noam and Ashwar attend a production of \"Bent\". We, as movie goers, see them watching this play, and the affect it has on the two of them is profoundly captured in their eyes. And ultimately, this touching moment is played out in a very sad way in the finale of the movie.<br /><br />Ohad Knoller and Youseff \\'Joe\\' Sweid are outstanding as Noam and Ashwar. Director Eytan Fox is brilliant in creating a cogent and interesting retelling of the Shakespeare classic Romeo and Juliet. And while most movies today have sex in them, (almost as a sport), this one goes back to the old tried and true version of sex with love and passion combined. It is so refreshing. Also refreshing is seeing two gay men being portrayed as people and not cartoons. There are cartoonish characters in this movie. It just doesn\\'t happen to be the two gay guys for a change. Somewhere on this site I think I read a comparison between this movie and \"Friends\". Well, not really. Yes, these are youthful characters stumbling through their first uneasy steps into adulthood and relationships. But I don\\'t recall getting \"blowed up\" as a backdrop to the insipid story lines in \"Friends\".<br /><br />This is a very good movie. It has heart, and heartbreak. And like all good love stories love does win out. But not in it\\'s intact glory of full bloom . Still, it\\'s a very satisfying movie to watch.'\n",
            "Round-trip:  movies like this one and crazy make me very sad for american films with a [UNK] subject matter with the [UNK] of [UNK] [UNK] and [UNK] [UNK] there are few other [UNK] american films with the kind of [UNK] and [UNK] as this movie the [UNK] this movie [UNK] on two men [UNK] and [UNK] an [UNK] and [UNK] [UNK] their relationship is [UNK] by the [UNK] between the [UNK] and [UNK] in [UNK] [UNK] in the early [UNK] of their [UNK] will [UNK] with who will call who next or who will say i love you first [UNK] and [UNK] early love is [UNK] by [UNK] [UNK] [UNK] [UNK] check points and [UNK] while [UNK] friends [UNK] and like [UNK] who is [UNK] it is clear that most of [UNK] [UNK] [UNK] probably [UNK] br one of the most [UNK] moments and there are many in this film is when [UNK] and [UNK] [UNK] a production of [UNK] we as movie [UNK] see them watching this play and the [UNK] it has on the two of them is [UNK] [UNK] in their eyes and [UNK] this [UNK] moment is played out in a very sad way in the [UNK] of the moviebr br [UNK] [UNK] and [UNK] joe [UNK] are [UNK] as [UNK] and [UNK] director [UNK] [UNK] is brilliant in [UNK] a [UNK] and interesting [UNK] of the [UNK] classic [UNK] and [UNK] and while most movies today have sex in them almost as a [UNK] this one goes back to the old tried and true version of sex with love and [UNK] [UNK] it is so [UNK] also [UNK] is seeing two [UNK] men being portrayed as people and not [UNK] there are [UNK] characters in this movie it just doesnt happen to be the two [UNK] guys for a change [UNK] on this [UNK] i think i read a [UNK] between this movie and friends well not really yes these are [UNK] characters [UNK] through their first [UNK] [UNK] into [UNK] and [UNK] but i dont [UNK] getting [UNK] up as a [UNK] to the [UNK] story lines in [UNK] br this is a very good movie it has heart and [UNK] and like all good love stories love does [UNK] out but not in its [UNK] [UNK] of full [UNK] still its a very [UNK] movie to watch                                                                                                                                                                                                                                                                                                                                                                                                                                                                                                                                                                                                          \n",
            "\n"
          ],
          "name": "stdout"
        }
      ]
    },
    {
      "cell_type": "markdown",
      "metadata": {
        "id": "bjUqGVBxGw-t"
      },
      "source": [
        "## Create the model"
      ]
    },
    {
      "cell_type": "markdown",
      "metadata": {
        "id": "W7zsmInBOCPO"
      },
      "source": [
        "![A drawing of the information flow in the model](https://github.com/tensorflow/docs/blob/master/site/en/tutorials/text/images/bidirectional.png?raw=1)"
      ]
    },
    {
      "cell_type": "markdown",
      "metadata": {
        "id": "bgs6nnSTGw-t"
      },
      "source": [
        "Above is a diagram of the model. \n",
        "\n",
        "1. This model can be build as a `tf.keras.Sequential`.\n",
        "\n",
        "1. The first layer is the `encoder`, which converts the text to a sequence of token indices.\n",
        "\n",
        "2. After the encoder is an embedding layer. An embedding layer stores one vector per word. When called, it converts the sequences of word indices to sequences of vectors. These vectors are trainable. After training (on enough data), words with similar meanings often have similar vectors.\n",
        "\n",
        "  This index-lookup is much more efficient than the equivalent operation of passing a one-hot encoded vector through a `tf.keras.layers.Dense` layer.\n",
        "\n",
        "3. A recurrent neural network (RNN) processes sequence input by iterating through the elements. RNNs pass the outputs from one timestep to their input on the next timestep.\n",
        "\n",
        "  The `tf.keras.layers.Bidirectional` wrapper can also be used with an RNN layer. This propagates the input forward and backwards through the RNN layer and then concatenates the final output. \n",
        "\n",
        "  * The main advantage to a bidirectional RNN is that the signal from the beginning of the input doesn't need to be processed all the way through every timestep to affect the output.  \n",
        "\n",
        "  * The main disadvantage of a bidirectional RNN is that you can't efficiently stream predictions as words are being added to the end.\n",
        "\n",
        "1. After the RNN has converted the sequence to a single vector the two `layers.Dense` do some final processing, and convert from this vector representation to a single logit as the classification output. \n"
      ]
    },
    {
      "cell_type": "markdown",
      "metadata": {
        "id": "V4fodCI7soQi"
      },
      "source": [
        "The code to implement this is below:"
      ]
    },
    {
      "cell_type": "code",
      "metadata": {
        "id": "LwfoBkmRYcP3"
      },
      "source": [
        "model = tf.keras.Sequential([\n",
        "    encoder,\n",
        "    tf.keras.layers.Embedding(\n",
        "        input_dim=len(encoder.get_vocabulary()),\n",
        "        output_dim=64,\n",
        "        # Use masking to handle the variable sequence lengths\n",
        "        mask_zero=True),\n",
        "    tf.keras.layers.Bidirectional(tf.keras.layers.LSTM(64)),\n",
        "    tf.keras.layers.Dense(64, activation='relu'),\n",
        "    tf.keras.layers.Dense(1)\n",
        "])"
      ],
      "execution_count": 14,
      "outputs": []
    },
    {
      "cell_type": "markdown",
      "metadata": {
        "id": "QIGmIGkkouUb"
      },
      "source": [
        "Please note that Keras sequential model is used here since all the layers in the model only have single input and produce single output. In case you want to use stateful RNN layer, you might want to build your model with Keras functional API or model subclassing so that you can retrieve and reuse the RNN layer states. Please check [Keras RNN guide](https://www.tensorflow.org/guide/keras/rnn#rnn_state_reuse) for more details."
      ]
    },
    {
      "cell_type": "markdown",
      "metadata": {
        "id": "kF-PsCk1LwjY"
      },
      "source": [
        "The embedding layer [uses masking](../../guide/keras/masking_and_padding) to handle the varying sequence-lengths. All the layers after the `Embedding` support masking:"
      ]
    },
    {
      "cell_type": "code",
      "metadata": {
        "id": "87a8-CwfKebw",
        "colab": {
          "base_uri": "https://localhost:8080/"
        },
        "outputId": "c741ecca-dbd8-4132-d9c7-075fb35db658"
      },
      "source": [
        "print([layer.supports_masking for layer in model.layers])"
      ],
      "execution_count": 15,
      "outputs": [
        {
          "output_type": "stream",
          "text": [
            "[False, True, True, True, True]\n"
          ],
          "name": "stdout"
        }
      ]
    },
    {
      "cell_type": "markdown",
      "metadata": {
        "id": "ZlS0iaUIWLpI"
      },
      "source": [
        "To confirm that this works as expected, evaluate a sentence twice. First, alone so there's no padding to mask:"
      ]
    },
    {
      "cell_type": "code",
      "metadata": {
        "id": "O41gw3KfWHus",
        "colab": {
          "base_uri": "https://localhost:8080/"
        },
        "outputId": "df8ba6ca-48d3-42a5-a0d0-9a384ce3aa0a"
      },
      "source": [
        "# predict on a sample text without padding.\n",
        "\n",
        "sample_text = ('The movie was cool. The animation and the graphics '\n",
        "               'were out of this world. I would recommend this movie.')\n",
        "predictions = model.predict(np.array([sample_text]))\n",
        "print(predictions[0])"
      ],
      "execution_count": 16,
      "outputs": [
        {
          "output_type": "stream",
          "text": [
            "[-0.01145474]\n"
          ],
          "name": "stdout"
        }
      ]
    },
    {
      "cell_type": "markdown",
      "metadata": {
        "id": "K0VQmGnEWcuz"
      },
      "source": [
        "Now, evaluate it again in a batch with a longer sentence. The result should be identical:"
      ]
    },
    {
      "cell_type": "code",
      "metadata": {
        "id": "UIgpuTeFNDzq",
        "colab": {
          "base_uri": "https://localhost:8080/"
        },
        "outputId": "2c8cf267-5b3a-455f-ac29-d115532534d2"
      },
      "source": [
        "# predict on a sample text with padding\n",
        "\n",
        "padding = \"the \" * 2000\n",
        "predictions = model.predict(np.array([sample_text, padding]))\n",
        "print(predictions[0])"
      ],
      "execution_count": 17,
      "outputs": [
        {
          "output_type": "stream",
          "text": [
            "[-0.01145474]\n"
          ],
          "name": "stdout"
        }
      ]
    },
    {
      "cell_type": "markdown",
      "metadata": {
        "id": "sRI776ZcH3Tf"
      },
      "source": [
        "Compile the Keras model to configure the training process:"
      ]
    },
    {
      "cell_type": "code",
      "metadata": {
        "id": "kj2xei41YZjC"
      },
      "source": [
        "model.compile(loss=tf.keras.losses.BinaryCrossentropy(from_logits=True),\n",
        "              optimizer=tf.keras.optimizers.Adam(1e-4),\n",
        "              metrics=['accuracy'])"
      ],
      "execution_count": 18,
      "outputs": []
    },
    {
      "cell_type": "markdown",
      "metadata": {
        "id": "zIwH3nto596k"
      },
      "source": [
        "## Train the model"
      ]
    },
    {
      "cell_type": "code",
      "metadata": {
        "id": "hw86wWS4YgR2",
        "colab": {
          "base_uri": "https://localhost:8080/"
        },
        "outputId": "0d735d70-3d25-43f3-ca0c-a38301993dc8"
      },
      "source": [
        "history = model.fit(train_dataset, epochs=10,\n",
        "                    validation_data=test_dataset, \n",
        "                    validation_steps=30)"
      ],
      "execution_count": 19,
      "outputs": [
        {
          "output_type": "stream",
          "text": [
            "Epoch 1/10\n",
            "391/391 [==============================] - 32s 83ms/step - loss: 0.6479 - accuracy: 0.5519 - val_loss: 0.5087 - val_accuracy: 0.7552\n",
            "Epoch 2/10\n",
            "391/391 [==============================] - 31s 79ms/step - loss: 0.4244 - accuracy: 0.7993 - val_loss: 0.3780 - val_accuracy: 0.8266\n",
            "Epoch 3/10\n",
            "391/391 [==============================] - 31s 79ms/step - loss: 0.3503 - accuracy: 0.8454 - val_loss: 0.3435 - val_accuracy: 0.8464\n",
            "Epoch 4/10\n",
            "391/391 [==============================] - 31s 79ms/step - loss: 0.3228 - accuracy: 0.8588 - val_loss: 0.3287 - val_accuracy: 0.8536\n",
            "Epoch 5/10\n",
            "391/391 [==============================] - 31s 79ms/step - loss: 0.3135 - accuracy: 0.8628 - val_loss: 0.3285 - val_accuracy: 0.8620\n",
            "Epoch 6/10\n",
            "391/391 [==============================] - 31s 79ms/step - loss: 0.3057 - accuracy: 0.8657 - val_loss: 0.3328 - val_accuracy: 0.8385\n",
            "Epoch 7/10\n",
            "391/391 [==============================] - 31s 79ms/step - loss: 0.3018 - accuracy: 0.8680 - val_loss: 0.3330 - val_accuracy: 0.8630\n",
            "Epoch 8/10\n",
            "391/391 [==============================] - 32s 81ms/step - loss: 0.3011 - accuracy: 0.8711 - val_loss: 0.3176 - val_accuracy: 0.8583\n",
            "Epoch 9/10\n",
            "391/391 [==============================] - 31s 80ms/step - loss: 0.2971 - accuracy: 0.8718 - val_loss: 0.3178 - val_accuracy: 0.8573\n",
            "Epoch 10/10\n",
            "391/391 [==============================] - 31s 80ms/step - loss: 0.2959 - accuracy: 0.8728 - val_loss: 0.3219 - val_accuracy: 0.8589\n"
          ],
          "name": "stdout"
        }
      ]
    },
    {
      "cell_type": "code",
      "metadata": {
        "id": "BaNbXi43YgUT",
        "colab": {
          "base_uri": "https://localhost:8080/"
        },
        "outputId": "a7b920b3-eec7-4b55-b59e-6c5b39e9aae4"
      },
      "source": [
        "test_loss, test_acc = model.evaluate(test_dataset)\n",
        "\n",
        "print('Test Loss: {}'.format(test_loss))\n",
        "print('Test Accuracy: {}'.format(test_acc))"
      ],
      "execution_count": 20,
      "outputs": [
        {
          "output_type": "stream",
          "text": [
            "391/391 [==============================] - 16s 40ms/step - loss: 0.3210 - accuracy: 0.8560\n",
            "Test Loss: 0.32096144556999207\n",
            "Test Accuracy: 0.8559600114822388\n"
          ],
          "name": "stdout"
        }
      ]
    },
    {
      "cell_type": "code",
      "metadata": {
        "id": "OZmwt_mzaQJk",
        "colab": {
          "base_uri": "https://localhost:8080/",
          "height": 518
        },
        "outputId": "6c255f28-cba6-4452-d5b3-d67cec4373d0"
      },
      "source": [
        "plt.figure(figsize=(16,8))\n",
        "plt.subplot(1,2,1)\n",
        "plot_graphs(history, 'accuracy')\n",
        "plt.ylim(None,1)\n",
        "plt.subplot(1,2,2)\n",
        "plot_graphs(history, 'loss')\n",
        "plt.ylim(0,None)"
      ],
      "execution_count": 21,
      "outputs": [
        {
          "output_type": "execute_result",
          "data": {
            "text/plain": [
              "(0.0, 0.6655360236763954)"
            ]
          },
          "metadata": {
            "tags": []
          },
          "execution_count": 21
        },
        {
          "output_type": "display_data",
          "data": {
            "image/png": "[encoded data removed]",
            "text/plain": [
              "<Figure size 1152x576 with 2 Axes>"
            ]
          },
          "metadata": {
            "tags": [],
            "needs_background": "light"
          }
        }
      ]
    },
    {
      "cell_type": "markdown",
      "metadata": {
        "id": "DwSE_386uhxD"
      },
      "source": [
        "Run a prediction on a neew sentence:\n",
        "\n",
        "If the prediction is >= 0.0, it is positive else it is negative."
      ]
    },
    {
      "cell_type": "code",
      "metadata": {
        "id": "ZXgfQSgRW6zU"
      },
      "source": [
        "sample_text = ('The movie was cool. The animation and the graphics '\n",
        "               'were out of this world. I would recommend this movie.')\n",
        "predictions = model.predict(np.array([sample_text]))"
      ],
      "execution_count": 22,
      "outputs": []
    },
    {
      "cell_type": "markdown",
      "metadata": {
        "id": "7g1evcaRpTKm"
      },
      "source": [
        "## Stack two or more LSTM layers\n",
        "\n",
        "Keras recurrent layers have two available modes that are controlled by the `return_sequences` constructor argument:\n",
        "\n",
        "* If `False` it returns only the last output for each input sequence (a 2D tensor of shape (batch_size, output_features)). This is the default, used in the previous model.\n",
        "\n",
        "* If `True` the full sequences of successive outputs for each timestep is returned (a 3D tensor of shape `(batch_size, timesteps, output_features)`).\n",
        "\n",
        "Here is what the flow of information looks like with `return_sequences=True`:\n",
        "\n",
        "![layered_bidirectional](https://github.com/tensorflow/docs/blob/master/site/en/tutorials/text/images/layered_bidirectional.ipynb?raw=1)"
      ]
    },
    {
      "cell_type": "markdown",
      "metadata": {
        "id": "wbSClCrG1z8l"
      },
      "source": [
        "The interesting thing about using an `RNN` with `return_sequences=True` is that the output still has 3-axes, like the input, so it can be passed to another RNN layer, like this:"
      ]
    },
    {
      "cell_type": "code",
      "metadata": {
        "id": "jo1jjO3vn0jo"
      },
      "source": [
        "model = tf.keras.Sequential([\n",
        "    encoder,\n",
        "    tf.keras.layers.Embedding(len(encoder.get_vocabulary()), 64, mask_zero=True),\n",
        "    tf.keras.layers.Bidirectional(tf.keras.layers.LSTM(64,  return_sequences=True)),\n",
        "    tf.keras.layers.Bidirectional(tf.keras.layers.LSTM(32)),\n",
        "    tf.keras.layers.Dense(64, activation='relu'),\n",
        "    tf.keras.layers.Dropout(0.5),\n",
        "    tf.keras.layers.Dense(1)\n",
        "])"
      ],
      "execution_count": 23,
      "outputs": []
    },
    {
      "cell_type": "code",
      "metadata": {
        "id": "hEPV5jVGp-is"
      },
      "source": [
        "model.compile(loss=tf.keras.losses.BinaryCrossentropy(from_logits=True),\n",
        "              optimizer=tf.keras.optimizers.Adam(1e-4),\n",
        "              metrics=['accuracy'])"
      ],
      "execution_count": 24,
      "outputs": []
    },
    {
      "cell_type": "code",
      "metadata": {
        "id": "LeSE-YjdqAeN",
        "colab": {
          "base_uri": "https://localhost:8080/"
        },
        "outputId": "9975a622-c799-467c-a2b8-2cd41e6e2857"
      },
      "source": [
        "history = model.fit(train_dataset, epochs=10,\n",
        "                    validation_data=test_dataset,\n",
        "                    validation_steps=30)"
      ],
      "execution_count": 25,
      "outputs": [
        {
          "output_type": "stream",
          "text": [
            "Epoch 1/10\n",
            "391/391 [==============================] - 58s 148ms/step - loss: 0.6135 - accuracy: 0.5975 - val_loss: 0.4594 - val_accuracy: 0.8052\n",
            "Epoch 2/10\n",
            "391/391 [==============================] - 55s 140ms/step - loss: 0.3778 - accuracy: 0.8316 - val_loss: 0.3586 - val_accuracy: 0.8292\n",
            "Epoch 3/10\n",
            "391/391 [==============================] - 55s 140ms/step - loss: 0.3331 - accuracy: 0.8553 - val_loss: 0.3350 - val_accuracy: 0.8568\n",
            "Epoch 4/10\n",
            "391/391 [==============================] - 53s 137ms/step - loss: 0.3182 - accuracy: 0.8626 - val_loss: 0.3252 - val_accuracy: 0.8552\n",
            "Epoch 5/10\n",
            "391/391 [==============================] - 54s 138ms/step - loss: 0.3116 - accuracy: 0.8654 - val_loss: 0.3187 - val_accuracy: 0.8594\n",
            "Epoch 6/10\n",
            "391/391 [==============================] - 55s 141ms/step - loss: 0.3069 - accuracy: 0.8684 - val_loss: 0.3292 - val_accuracy: 0.8406\n",
            "Epoch 7/10\n",
            "391/391 [==============================] - 53s 136ms/step - loss: 0.3009 - accuracy: 0.8704 - val_loss: 0.3201 - val_accuracy: 0.8500\n",
            "Epoch 8/10\n",
            "391/391 [==============================] - 54s 137ms/step - loss: 0.2992 - accuracy: 0.8713 - val_loss: 0.3227 - val_accuracy: 0.8609\n",
            "Epoch 9/10\n",
            "391/391 [==============================] - 53s 136ms/step - loss: 0.2964 - accuracy: 0.8706 - val_loss: 0.3190 - val_accuracy: 0.8542\n",
            "Epoch 10/10\n",
            "391/391 [==============================] - 54s 138ms/step - loss: 0.2957 - accuracy: 0.8734 - val_loss: 0.3286 - val_accuracy: 0.8536\n"
          ],
          "name": "stdout"
        }
      ]
    },
    {
      "cell_type": "code",
      "metadata": {
        "id": "_LdwilM1qPM3",
        "colab": {
          "base_uri": "https://localhost:8080/"
        },
        "outputId": "d1452b63-9217-4282-b366-b485c727b413"
      },
      "source": [
        "test_loss, test_acc = model.evaluate(test_dataset)\n",
        "\n",
        "print('Test Loss: {}'.format(test_loss))\n",
        "print('Test Accuracy: {}'.format(test_acc))"
      ],
      "execution_count": 26,
      "outputs": [
        {
          "output_type": "stream",
          "text": [
            "391/391 [==============================] - 26s 67ms/step - loss: 0.3239 - accuracy: 0.8562\n",
            "Test Loss: 0.3239382803440094\n",
            "Test Accuracy: 0.8561999797821045\n"
          ],
          "name": "stdout"
        }
      ]
    },
    {
      "cell_type": "code",
      "metadata": {
        "id": "ykUKnAoqbycW",
        "colab": {
          "base_uri": "https://localhost:8080/"
        },
        "outputId": "6b8d3942-e089-4648-983b-de6bd53a62f9"
      },
      "source": [
        "# predict on a sample text without padding.\n",
        "\n",
        "sample_text = ('The movie was not good. The animation and the graphics '\n",
        "                    'were terrible. I would not recommend this movie.')\n",
        "predictions = model.predict(np.array([sample_text]))\n",
        "print(predictions)"
      ],
      "execution_count": 27,
      "outputs": [
        {
          "output_type": "stream",
          "text": [
            "[[-2.2572734]]\n"
          ],
          "name": "stdout"
        }
      ]
    },
    {
      "cell_type": "code",
      "metadata": {
        "id": "_YYub0EDtwCu",
        "colab": {
          "base_uri": "https://localhost:8080/",
          "height": 388
        },
        "outputId": "8d2f76bb-6569-455b-d401-dfb18c7237fc"
      },
      "source": [
        "plt.figure(figsize=(16,6))\n",
        "plt.subplot(1,2,1)\n",
        "plot_graphs(history, 'accuracy')\n",
        "plt.subplot(1,2,2)\n",
        "plot_graphs(history, 'loss')"
      ],
      "execution_count": 28,
      "outputs": [
        {
          "output_type": "display_data",
          "data": {
            "image/png": "[encoded data removed]",
            "text/plain": [
              "<Figure size 1152x432 with 2 Axes>"
            ]
          },
          "metadata": {
            "tags": [],
            "needs_background": "light"
          }
        }
      ]
    },
    {
      "cell_type": "markdown",
      "metadata": {
        "id": "9xvpE3BaGw_V"
      },
      "source": [
        "Check out other existing recurrent layers such as [GRU layers](https://www.tensorflow.org/api_docs/python/tf/keras/layers/GRU).\n",
        "\n",
        "If you're interestied in building custom RNNs, see the [Keras RNN Guide](../../guide/keras/rnn.ipynb).\n"
      ]
    }
  ]
}