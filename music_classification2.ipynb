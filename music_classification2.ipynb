{
  "nbformat": 4,
  "nbformat_minor": 0,
  "metadata": {
    "colab": {
      "name": "music_classifi3.ipynb",
      "provenance": [],
      "collapsed_sections": [],
      "authorship_tag": "ABX9TyMsYNEQfz4c146yZl0fgGNq",
      "include_colab_link": true
    },
    "kernelspec": {
      "name": "python3",
      "display_name": "Python 3"
    }
  },
  "cells": [
    {
      "cell_type": "markdown",
      "metadata": {
        "id": "view-in-github",
        "colab_type": "text"
      },
      "source": [
        "<a href=\"https://colab.research.google.com/github/yshan9/deep_learning/blob/master/music_classification2.ipynb\" target=\"_parent\"><img src=\"https://colab.research.google.com/assets/colab-badge.svg\" alt=\"Open In Colab\"/></a>"
      ]
    },
    {
      "cell_type": "code",
      "metadata": {
        "colab": {
          "base_uri": "https://localhost:8080/"
        },
        "id": "EqXC2rMl-TS3",
        "outputId": "678cfa0c-dccf-4a8e-b0dc-17d3f4e08274"
      },
      "source": [
        "!pip install matplotlib-venn"
      ],
      "execution_count": 2,
      "outputs": [
        {
          "output_type": "stream",
          "text": [
            "Requirement already satisfied: matplotlib-venn in /usr/local/lib/python3.6/dist-packages (0.11.6)\n",
            "Requirement already satisfied: numpy in /usr/local/lib/python3.6/dist-packages (from matplotlib-venn) (1.18.5)\n",
            "Requirement already satisfied: scipy in /usr/local/lib/python3.6/dist-packages (from matplotlib-venn) (1.4.1)\n",
            "Requirement already satisfied: matplotlib in /usr/local/lib/python3.6/dist-packages (from matplotlib-venn) (3.2.2)\n",
            "Requirement already satisfied: python-dateutil>=2.1 in /usr/local/lib/python3.6/dist-packages (from matplotlib->matplotlib-venn) (2.8.1)\n",
            "Requirement already satisfied: pyparsing!=2.0.4,!=2.1.2,!=2.1.6,>=2.0.1 in /usr/local/lib/python3.6/dist-packages (from matplotlib->matplotlib-venn) (2.4.7)\n",
            "Requirement already satisfied: kiwisolver>=1.0.1 in /usr/local/lib/python3.6/dist-packages (from matplotlib->matplotlib-venn) (1.3.1)\n",
            "Requirement already satisfied: cycler>=0.10 in /usr/local/lib/python3.6/dist-packages (from matplotlib->matplotlib-venn) (0.10.0)\n",
            "Requirement already satisfied: six>=1.5 in /usr/local/lib/python3.6/dist-packages (from python-dateutil>=2.1->matplotlib->matplotlib-venn) (1.15.0)\n"
          ],
          "name": "stdout"
        }
      ]
    },
    {
      "cell_type": "code",
      "metadata": {
        "colab": {
          "base_uri": "https://localhost:8080/"
        },
        "id": "_bPESB1S-UTW",
        "outputId": "74900eab-4648-4670-805f-d0eef6ce9ee6"
      },
      "source": [
        "!apt-get -qq install -y libfluidsynth1"
      ],
      "execution_count": 3,
      "outputs": [
        {
          "output_type": "stream",
          "text": [
            "Selecting previously unselected package libfluidsynth1:amd64.\n",
            "(Reading database ... 144793 files and directories currently installed.)\n",
            "Preparing to unpack .../libfluidsynth1_1.1.9-1_amd64.deb ...\n",
            "Unpacking libfluidsynth1:amd64 (1.1.9-1) ...\n",
            "Setting up libfluidsynth1:amd64 (1.1.9-1) ...\n",
            "Processing triggers for libc-bin (2.27-3ubuntu1.2) ...\n",
            "/sbin/ldconfig.real: /usr/local/lib/python3.6/dist-packages/ideep4py/lib/libmkldnn.so.0 is not a symbolic link\n",
            "\n"
          ],
          "name": "stdout"
        }
      ]
    },
    {
      "cell_type": "code",
      "metadata": {
        "colab": {
          "base_uri": "https://localhost:8080/",
          "height": 1000
        },
        "id": "um9ph3Q1-W46",
        "outputId": "1eb68664-d241-4388-b24c-43b882ccd0b7"
      },
      "source": [
        "# To determine which version you're using:\n",
        "!pip show tensorflow\n",
        "\n",
        "# For the current version: \n",
        "!pip install --upgrade tensorflow\n",
        "\n",
        "# For a specific version:\n",
        "!pip install tensorflow==1.2\n",
        "\n",
        "# For the latest nightly build:\n",
        "!pip install tf-nightly"
      ],
      "execution_count": 4,
      "outputs": [
        {
          "output_type": "stream",
          "text": [
            "Name: tensorflow\n",
            "Version: 2.3.0\n",
            "Summary: TensorFlow is an open source machine learning framework for everyone.\n",
            "Home-page: https://www.tensorflow.org/\n",
            "Author: Google Inc.\n",
            "Author-email: packages@tensorflow.org\n",
            "License: Apache 2.0\n",
            "Location: /usr/local/lib/python3.6/dist-packages\n",
            "Requires: tensorboard, wheel, h5py, gast, opt-einsum, six, keras-preprocessing, numpy, protobuf, absl-py, termcolor, scipy, astunparse, google-pasta, wrapt, grpcio, tensorflow-estimator\n",
            "Required-by: fancyimpute\n",
            "Collecting tensorflow\n",
            "\u001b[?25l  Downloading https://files.pythonhosted.org/packages/ad/ad/769c195c72ac72040635c66cd9ba7b0f4b4fc1ac67e59b99fa6988446c22/tensorflow-2.3.1-cp36-cp36m-manylinux2010_x86_64.whl (320.4MB)\n",
            "\u001b[K     |████████████████████████████████| 320.4MB 47kB/s \n",
            "\u001b[?25hRequirement already satisfied, skipping upgrade: protobuf>=3.9.2 in /usr/local/lib/python3.6/dist-packages (from tensorflow) (3.12.4)\n",
            "Requirement already satisfied, skipping upgrade: six>=1.12.0 in /usr/local/lib/python3.6/dist-packages (from tensorflow) (1.15.0)\n",
            "Requirement already satisfied, skipping upgrade: opt-einsum>=2.3.2 in /usr/local/lib/python3.6/dist-packages (from tensorflow) (3.3.0)\n",
            "Requirement already satisfied, skipping upgrade: google-pasta>=0.1.8 in /usr/local/lib/python3.6/dist-packages (from tensorflow) (0.2.0)\n",
            "Requirement already satisfied, skipping upgrade: tensorflow-estimator<2.4.0,>=2.3.0 in /usr/local/lib/python3.6/dist-packages (from tensorflow) (2.3.0)\n",
            "Requirement already satisfied, skipping upgrade: termcolor>=1.1.0 in /usr/local/lib/python3.6/dist-packages (from tensorflow) (1.1.0)\n",
            "Requirement already satisfied, skipping upgrade: h5py<2.11.0,>=2.10.0 in /usr/local/lib/python3.6/dist-packages (from tensorflow) (2.10.0)\n",
            "Requirement already satisfied, skipping upgrade: tensorboard<3,>=2.3.0 in /usr/local/lib/python3.6/dist-packages (from tensorflow) (2.3.0)\n",
            "Requirement already satisfied, skipping upgrade: wheel>=0.26 in /usr/local/lib/python3.6/dist-packages (from tensorflow) (0.35.1)\n",
            "Requirement already satisfied, skipping upgrade: astunparse==1.6.3 in /usr/local/lib/python3.6/dist-packages (from tensorflow) (1.6.3)\n",
            "Requirement already satisfied, skipping upgrade: gast==0.3.3 in /usr/local/lib/python3.6/dist-packages (from tensorflow) (0.3.3)\n",
            "Requirement already satisfied, skipping upgrade: wrapt>=1.11.1 in /usr/local/lib/python3.6/dist-packages (from tensorflow) (1.12.1)\n",
            "Requirement already satisfied, skipping upgrade: absl-py>=0.7.0 in /usr/local/lib/python3.6/dist-packages (from tensorflow) (0.10.0)\n",
            "Requirement already satisfied, skipping upgrade: keras-preprocessing<1.2,>=1.1.1 in /usr/local/lib/python3.6/dist-packages (from tensorflow) (1.1.2)\n",
            "Requirement already satisfied, skipping upgrade: grpcio>=1.8.6 in /usr/local/lib/python3.6/dist-packages (from tensorflow) (1.33.2)\n",
            "Requirement already satisfied, skipping upgrade: numpy<1.19.0,>=1.16.0 in /usr/local/lib/python3.6/dist-packages (from tensorflow) (1.18.5)\n",
            "Requirement already satisfied, skipping upgrade: setuptools in /usr/local/lib/python3.6/dist-packages (from protobuf>=3.9.2->tensorflow) (50.3.2)\n",
            "Requirement already satisfied, skipping upgrade: tensorboard-plugin-wit>=1.6.0 in /usr/local/lib/python3.6/dist-packages (from tensorboard<3,>=2.3.0->tensorflow) (1.7.0)\n",
            "Requirement already satisfied, skipping upgrade: google-auth-oauthlib<0.5,>=0.4.1 in /usr/local/lib/python3.6/dist-packages (from tensorboard<3,>=2.3.0->tensorflow) (0.4.2)\n",
            "Requirement already satisfied, skipping upgrade: requests<3,>=2.21.0 in /usr/local/lib/python3.6/dist-packages (from tensorboard<3,>=2.3.0->tensorflow) (2.23.0)\n",
            "Requirement already satisfied, skipping upgrade: werkzeug>=0.11.15 in /usr/local/lib/python3.6/dist-packages (from tensorboard<3,>=2.3.0->tensorflow) (1.0.1)\n",
            "Requirement already satisfied, skipping upgrade: markdown>=2.6.8 in /usr/local/lib/python3.6/dist-packages (from tensorboard<3,>=2.3.0->tensorflow) (3.3.3)\n",
            "Requirement already satisfied, skipping upgrade: google-auth<2,>=1.6.3 in /usr/local/lib/python3.6/dist-packages (from tensorboard<3,>=2.3.0->tensorflow) (1.17.2)\n",
            "Requirement already satisfied, skipping upgrade: requests-oauthlib>=0.7.0 in /usr/local/lib/python3.6/dist-packages (from google-auth-oauthlib<0.5,>=0.4.1->tensorboard<3,>=2.3.0->tensorflow) (1.3.0)\n",
            "Requirement already satisfied, skipping upgrade: chardet<4,>=3.0.2 in /usr/local/lib/python3.6/dist-packages (from requests<3,>=2.21.0->tensorboard<3,>=2.3.0->tensorflow) (3.0.4)\n",
            "Requirement already satisfied, skipping upgrade: idna<3,>=2.5 in /usr/local/lib/python3.6/dist-packages (from requests<3,>=2.21.0->tensorboard<3,>=2.3.0->tensorflow) (2.10)\n",
            "Requirement already satisfied, skipping upgrade: urllib3!=1.25.0,!=1.25.1,<1.26,>=1.21.1 in /usr/local/lib/python3.6/dist-packages (from requests<3,>=2.21.0->tensorboard<3,>=2.3.0->tensorflow) (1.24.3)\n",
            "Requirement already satisfied, skipping upgrade: certifi>=2017.4.17 in /usr/local/lib/python3.6/dist-packages (from requests<3,>=2.21.0->tensorboard<3,>=2.3.0->tensorflow) (2020.11.8)\n",
            "Requirement already satisfied, skipping upgrade: importlib-metadata; python_version < \"3.8\" in /usr/local/lib/python3.6/dist-packages (from markdown>=2.6.8->tensorboard<3,>=2.3.0->tensorflow) (2.0.0)\n",
            "Requirement already satisfied, skipping upgrade: rsa<5,>=3.1.4; python_version >= \"3\" in /usr/local/lib/python3.6/dist-packages (from google-auth<2,>=1.6.3->tensorboard<3,>=2.3.0->tensorflow) (4.6)\n",
            "Requirement already satisfied, skipping upgrade: pyasn1-modules>=0.2.1 in /usr/local/lib/python3.6/dist-packages (from google-auth<2,>=1.6.3->tensorboard<3,>=2.3.0->tensorflow) (0.2.8)\n",
            "Requirement already satisfied, skipping upgrade: cachetools<5.0,>=2.0.0 in /usr/local/lib/python3.6/dist-packages (from google-auth<2,>=1.6.3->tensorboard<3,>=2.3.0->tensorflow) (4.1.1)\n",
            "Requirement already satisfied, skipping upgrade: oauthlib>=3.0.0 in /usr/local/lib/python3.6/dist-packages (from requests-oauthlib>=0.7.0->google-auth-oauthlib<0.5,>=0.4.1->tensorboard<3,>=2.3.0->tensorflow) (3.1.0)\n",
            "Requirement already satisfied, skipping upgrade: zipp>=0.5 in /usr/local/lib/python3.6/dist-packages (from importlib-metadata; python_version < \"3.8\"->markdown>=2.6.8->tensorboard<3,>=2.3.0->tensorflow) (3.4.0)\n",
            "Requirement already satisfied, skipping upgrade: pyasn1>=0.1.3 in /usr/local/lib/python3.6/dist-packages (from rsa<5,>=3.1.4; python_version >= \"3\"->google-auth<2,>=1.6.3->tensorboard<3,>=2.3.0->tensorflow) (0.4.8)\n",
            "Installing collected packages: tensorflow\n",
            "  Found existing installation: tensorflow 2.3.0\n",
            "    Uninstalling tensorflow-2.3.0:\n",
            "      Successfully uninstalled tensorflow-2.3.0\n",
            "Successfully installed tensorflow-2.3.1\n",
            "Collecting tensorflow==1.2\n",
            "\u001b[?25l  Downloading https://files.pythonhosted.org/packages/5e/55/7995cc1e9e60fa37ea90e6777d832e75026fde5c6109215d892aaff2e9b7/tensorflow-1.2.0-cp36-cp36m-manylinux1_x86_64.whl (35.0MB)\n",
            "\u001b[K     |████████████████████████████████| 35.0MB 128kB/s \n",
            "\u001b[?25hCollecting bleach==1.5.0\n",
            "  Downloading https://files.pythonhosted.org/packages/33/70/86c5fec937ea4964184d4d6c4f0b9551564f821e1c3575907639036d9b90/bleach-1.5.0-py2.py3-none-any.whl\n",
            "Collecting html5lib==0.9999999\n",
            "\u001b[?25l  Downloading https://files.pythonhosted.org/packages/ae/ae/bcb60402c60932b32dfaf19bb53870b29eda2cd17551ba5639219fb5ebf9/html5lib-0.9999999.tar.gz (889kB)\n",
            "\u001b[K     |████████████████████████████████| 890kB 46.3MB/s \n",
            "\u001b[?25hRequirement already satisfied: protobuf>=3.2.0 in /usr/local/lib/python3.6/dist-packages (from tensorflow==1.2) (3.12.4)\n",
            "Collecting markdown==2.2.0\n",
            "\u001b[?25l  Downloading https://files.pythonhosted.org/packages/ac/99/288a81a38526a42c98b5b9832c6e339ca8d5dd38b19a53abfac7c8037c7f/Markdown-2.2.0.tar.gz (236kB)\n",
            "\u001b[K     |████████████████████████████████| 245kB 41.0MB/s \n",
            "\u001b[?25hRequirement already satisfied: werkzeug>=0.11.10 in /usr/local/lib/python3.6/dist-packages (from tensorflow==1.2) (1.0.1)\n",
            "Requirement already satisfied: six>=1.10.0 in /usr/local/lib/python3.6/dist-packages (from tensorflow==1.2) (1.15.0)\n",
            "Requirement already satisfied: wheel>=0.26 in /usr/local/lib/python3.6/dist-packages (from tensorflow==1.2) (0.35.1)\n",
            "Collecting backports.weakref==1.0rc1\n",
            "  Downloading https://files.pythonhosted.org/packages/6a/f7/ae34b6818b603e264f26fe7db2bd07850ce331ce2fde74b266d61f4a2d87/backports.weakref-1.0rc1-py3-none-any.whl\n",
            "Requirement already satisfied: numpy>=1.11.0 in /usr/local/lib/python3.6/dist-packages (from tensorflow==1.2) (1.18.5)\n",
            "Requirement already satisfied: setuptools in /usr/local/lib/python3.6/dist-packages (from protobuf>=3.2.0->tensorflow==1.2) (50.3.2)\n",
            "Building wheels for collected packages: html5lib, markdown\n",
            "  Building wheel for html5lib (setup.py) ... \u001b[?25l\u001b[?25hdone\n",
            "  Created wheel for html5lib: filename=html5lib-0.9999999-cp36-none-any.whl size=107220 sha256=3bcd5cb6dea70af1c70439e218f06a780007102b7e7f272c03dceafca5c62498\n",
            "  Stored in directory: /root/.cache/pip/wheels/50/ae/f9/d2b189788efcf61d1ee0e36045476735c838898eef1cad6e29\n",
            "  Building wheel for markdown (setup.py) ... \u001b[?25l\u001b[?25hdone\n",
            "  Created wheel for markdown: filename=Markdown-2.2.0-cp36-none-any.whl size=136274 sha256=7738dc2d805f76346b1adef3f29c164fa93fb6a3d3d27673fdc8a117c0b07701\n",
            "  Stored in directory: /root/.cache/pip/wheels/b6/52/17/f0af18e3e0ec6fa60b361ffed15b4c3468f6f3bcdb87fbe079\n",
            "Successfully built html5lib markdown\n",
            "\u001b[31mERROR: tensorboard 2.3.0 has requirement markdown>=2.6.8, but you'll have markdown 2.2.0 which is incompatible.\u001b[0m\n",
            "Installing collected packages: html5lib, bleach, markdown, backports.weakref, tensorflow\n",
            "  Found existing installation: html5lib 1.0.1\n",
            "    Uninstalling html5lib-1.0.1:\n",
            "      Successfully uninstalled html5lib-1.0.1\n",
            "  Found existing installation: bleach 3.2.1\n",
            "    Uninstalling bleach-3.2.1:\n",
            "      Successfully uninstalled bleach-3.2.1\n",
            "  Found existing installation: Markdown 3.3.3\n",
            "    Uninstalling Markdown-3.3.3:\n",
            "      Successfully uninstalled Markdown-3.3.3\n",
            "  Found existing installation: tensorflow 2.3.1\n",
            "    Uninstalling tensorflow-2.3.1:\n",
            "      Successfully uninstalled tensorflow-2.3.1\n",
            "Successfully installed backports.weakref-1.0rc1 bleach-1.5.0 html5lib-0.9999999 markdown-2.2.0 tensorflow-1.2.0\n",
            "Collecting tf-nightly\n",
            "\u001b[?25l  Downloading https://files.pythonhosted.org/packages/4d/c0/8c889e46894fcdd04ef2a77d3d4fdfffc9ce0950d5f79a864cb301944aad/tf_nightly-2.5.0.dev20201202-cp36-cp36m-manylinux2010_x86_64.whl (398.9MB)\n",
            "\u001b[K     |████████████████████████████████| 398.9MB 38kB/s \n",
            "\u001b[?25hCollecting tf-estimator-nightly~=2.5.0.dev\n",
            "\u001b[?25l  Downloading https://files.pythonhosted.org/packages/c8/ec/efdccc5eb98be842bea85bc3bafc907a16aa483d4d91edae7869832d748b/tf_estimator_nightly-2.5.0.dev2020120201-py2.py3-none-any.whl (462kB)\n",
            "\u001b[K     |████████████████████████████████| 471kB 36.3MB/s \n",
            "\u001b[?25hRequirement already satisfied: h5py~=2.10.0 in /usr/local/lib/python3.6/dist-packages (from tf-nightly) (2.10.0)\n",
            "Requirement already satisfied: astunparse~=1.6.3 in /usr/local/lib/python3.6/dist-packages (from tf-nightly) (1.6.3)\n",
            "Requirement already satisfied: google-pasta~=0.2 in /usr/local/lib/python3.6/dist-packages (from tf-nightly) (0.2.0)\n",
            "Requirement already satisfied: keras-preprocessing~=1.1.2 in /usr/local/lib/python3.6/dist-packages (from tf-nightly) (1.1.2)\n",
            "Requirement already satisfied: opt-einsum~=3.3.0 in /usr/local/lib/python3.6/dist-packages (from tf-nightly) (3.3.0)\n",
            "Requirement already satisfied: termcolor~=1.1.0 in /usr/local/lib/python3.6/dist-packages (from tf-nightly) (1.1.0)\n",
            "Requirement already satisfied: typing-extensions~=3.7.4 in /usr/local/lib/python3.6/dist-packages (from tf-nightly) (3.7.4.3)\n",
            "Collecting grpcio~=1.32.0\n",
            "\u001b[?25l  Downloading https://files.pythonhosted.org/packages/f0/00/b393f5d0e92b37592a41357ea3077010c95400c907f6b9af01f4f6abe140/grpcio-1.32.0-cp36-cp36m-manylinux2014_x86_64.whl (3.8MB)\n",
            "\u001b[K     |████████████████████████████████| 3.8MB 43.0MB/s \n",
            "\u001b[?25hCollecting protobuf~=3.9.2\n",
            "\u001b[?25l  Downloading https://files.pythonhosted.org/packages/f6/d5/e18969c31e24300551373d96286383d861332cafbf2bfea6d6453fcf2923/protobuf-3.9.2-cp36-cp36m-manylinux1_x86_64.whl (1.2MB)\n",
            "\u001b[K     |████████████████████████████████| 1.2MB 39.8MB/s \n",
            "\u001b[?25hRequirement already satisfied: wheel~=0.35 in /usr/local/lib/python3.6/dist-packages (from tf-nightly) (0.35.1)\n",
            "Requirement already satisfied: flatbuffers~=1.12.0 in /usr/local/lib/python3.6/dist-packages (from tf-nightly) (1.12)\n",
            "Requirement already satisfied: six~=1.15.0 in /usr/local/lib/python3.6/dist-packages (from tf-nightly) (1.15.0)\n",
            "Requirement already satisfied: absl-py~=0.10 in /usr/local/lib/python3.6/dist-packages (from tf-nightly) (0.10.0)\n",
            "Requirement already satisfied: wrapt~=1.12.1 in /usr/local/lib/python3.6/dist-packages (from tf-nightly) (1.12.1)\n",
            "Requirement already satisfied: gast==0.3.3 in /usr/local/lib/python3.6/dist-packages (from tf-nightly) (0.3.3)\n",
            "Collecting tb-nightly~=2.5.0.a\n",
            "\u001b[?25l  Downloading https://files.pythonhosted.org/packages/73/e2/f24e4a388da1f7afe526cc40eb8238042c14f18bb316f58fbeec4f315d5d/tb_nightly-2.5.0a20201202-py3-none-any.whl (12.2MB)\n",
            "\u001b[K     |████████████████████████████████| 12.2MB 38.9MB/s \n",
            "\u001b[?25hCollecting numpy~=1.19.2\n",
            "\u001b[?25l  Downloading https://files.pythonhosted.org/packages/87/86/753182c9085ba4936c0076269a571613387cdb77ae2bf537448bfd63472c/numpy-1.19.4-cp36-cp36m-manylinux2010_x86_64.whl (14.5MB)\n",
            "\u001b[K     |████████████████████████████████| 14.5MB 267kB/s \n",
            "\u001b[?25hRequirement already satisfied: setuptools in /usr/local/lib/python3.6/dist-packages (from protobuf~=3.9.2->tf-nightly) (50.3.2)\n",
            "Requirement already satisfied: google-auth-oauthlib<0.5,>=0.4.1 in /usr/local/lib/python3.6/dist-packages (from tb-nightly~=2.5.0.a->tf-nightly) (0.4.2)\n",
            "Requirement already satisfied: google-auth<2,>=1.6.3 in /usr/local/lib/python3.6/dist-packages (from tb-nightly~=2.5.0.a->tf-nightly) (1.17.2)\n",
            "Collecting markdown>=2.6.8\n",
            "\u001b[?25l  Downloading https://files.pythonhosted.org/packages/ac/ef/24a91ca96efa0d7802dffb83ccc7a3c677027bea19ec3c9ee80be740408e/Markdown-3.3.3-py3-none-any.whl (96kB)\n",
            "\u001b[K     |████████████████████████████████| 102kB 9.9MB/s \n",
            "\u001b[?25hRequirement already satisfied: werkzeug>=0.11.15 in /usr/local/lib/python3.6/dist-packages (from tb-nightly~=2.5.0.a->tf-nightly) (1.0.1)\n",
            "Requirement already satisfied: tensorboard-plugin-wit>=1.6.0 in /usr/local/lib/python3.6/dist-packages (from tb-nightly~=2.5.0.a->tf-nightly) (1.7.0)\n",
            "Requirement already satisfied: requests<3,>=2.21.0 in /usr/local/lib/python3.6/dist-packages (from tb-nightly~=2.5.0.a->tf-nightly) (2.23.0)\n",
            "Requirement already satisfied: requests-oauthlib>=0.7.0 in /usr/local/lib/python3.6/dist-packages (from google-auth-oauthlib<0.5,>=0.4.1->tb-nightly~=2.5.0.a->tf-nightly) (1.3.0)\n",
            "Requirement already satisfied: pyasn1-modules>=0.2.1 in /usr/local/lib/python3.6/dist-packages (from google-auth<2,>=1.6.3->tb-nightly~=2.5.0.a->tf-nightly) (0.2.8)\n",
            "Requirement already satisfied: cachetools<5.0,>=2.0.0 in /usr/local/lib/python3.6/dist-packages (from google-auth<2,>=1.6.3->tb-nightly~=2.5.0.a->tf-nightly) (4.1.1)\n",
            "Requirement already satisfied: rsa<5,>=3.1.4; python_version >= \"3\" in /usr/local/lib/python3.6/dist-packages (from google-auth<2,>=1.6.3->tb-nightly~=2.5.0.a->tf-nightly) (4.6)\n",
            "Requirement already satisfied: importlib-metadata; python_version < \"3.8\" in /usr/local/lib/python3.6/dist-packages (from markdown>=2.6.8->tb-nightly~=2.5.0.a->tf-nightly) (2.0.0)\n",
            "Requirement already satisfied: certifi>=2017.4.17 in /usr/local/lib/python3.6/dist-packages (from requests<3,>=2.21.0->tb-nightly~=2.5.0.a->tf-nightly) (2020.11.8)\n",
            "Requirement already satisfied: urllib3!=1.25.0,!=1.25.1,<1.26,>=1.21.1 in /usr/local/lib/python3.6/dist-packages (from requests<3,>=2.21.0->tb-nightly~=2.5.0.a->tf-nightly) (1.24.3)\n",
            "Requirement already satisfied: idna<3,>=2.5 in /usr/local/lib/python3.6/dist-packages (from requests<3,>=2.21.0->tb-nightly~=2.5.0.a->tf-nightly) (2.10)\n",
            "Requirement already satisfied: chardet<4,>=3.0.2 in /usr/local/lib/python3.6/dist-packages (from requests<3,>=2.21.0->tb-nightly~=2.5.0.a->tf-nightly) (3.0.4)\n",
            "Requirement already satisfied: oauthlib>=3.0.0 in /usr/local/lib/python3.6/dist-packages (from requests-oauthlib>=0.7.0->google-auth-oauthlib<0.5,>=0.4.1->tb-nightly~=2.5.0.a->tf-nightly) (3.1.0)\n",
            "Requirement already satisfied: pyasn1<0.5.0,>=0.4.6 in /usr/local/lib/python3.6/dist-packages (from pyasn1-modules>=0.2.1->google-auth<2,>=1.6.3->tb-nightly~=2.5.0.a->tf-nightly) (0.4.8)\n",
            "Requirement already satisfied: zipp>=0.5 in /usr/local/lib/python3.6/dist-packages (from importlib-metadata; python_version < \"3.8\"->markdown>=2.6.8->tb-nightly~=2.5.0.a->tf-nightly) (3.4.0)\n",
            "\u001b[31mERROR: tensorflow 1.2.0 has requirement markdown==2.2.0, but you'll have markdown 3.3.3 which is incompatible.\u001b[0m\n",
            "\u001b[31mERROR: datascience 0.10.6 has requirement folium==0.2.1, but you'll have folium 0.8.3 which is incompatible.\u001b[0m\n",
            "\u001b[31mERROR: albumentations 0.1.12 has requirement imgaug<0.2.7,>=0.2.5, but you'll have imgaug 0.2.9 which is incompatible.\u001b[0m\n",
            "Installing collected packages: tf-estimator-nightly, grpcio, protobuf, numpy, markdown, tb-nightly, tf-nightly\n",
            "  Found existing installation: grpcio 1.33.2\n",
            "    Uninstalling grpcio-1.33.2:\n",
            "      Successfully uninstalled grpcio-1.33.2\n",
            "  Found existing installation: protobuf 3.12.4\n",
            "    Uninstalling protobuf-3.12.4:\n",
            "      Successfully uninstalled protobuf-3.12.4\n",
            "  Found existing installation: numpy 1.18.5\n",
            "    Uninstalling numpy-1.18.5:\n",
            "      Successfully uninstalled numpy-1.18.5\n",
            "  Found existing installation: Markdown 2.2.0\n",
            "    Uninstalling Markdown-2.2.0:\n",
            "      Successfully uninstalled Markdown-2.2.0\n",
            "Successfully installed grpcio-1.32.0 markdown-3.3.3 numpy-1.19.4 protobuf-3.9.2 tb-nightly-2.5.0a20201202 tf-estimator-nightly-2.5.0.dev2020120201 tf-nightly-2.5.0.dev20201202\n"
          ],
          "name": "stdout"
        },
        {
          "output_type": "display_data",
          "data": {
            "application/vnd.colab-display-data+json": {
              "pip_warning": {
                "packages": [
                  "google",
                  "numpy"
                ]
              }
            }
          },
          "metadata": {
            "tags": []
          }
        }
      ]
    },
    {
      "cell_type": "code",
      "metadata": {
        "colab": {
          "base_uri": "https://localhost:8080/"
        },
        "id": "e8-eXPv7-Zgj",
        "outputId": "5b9a8303-69d1-4587-96f3-c8eb66d8764c"
      },
      "source": [
        "# https://pypi.python.org/pypi/libarchive\n",
        "!apt-get -qq install -y libarchive-dev && pip install -U libarchive\n",
        "import libarchive"
      ],
      "execution_count": 5,
      "outputs": [
        {
          "output_type": "stream",
          "text": [
            "Selecting previously unselected package libarchive-dev:amd64.\n",
            "(Reading database ... 144798 files and directories currently installed.)\n",
            "Preparing to unpack .../libarchive-dev_3.2.2-3.1ubuntu0.6_amd64.deb ...\n",
            "Unpacking libarchive-dev:amd64 (3.2.2-3.1ubuntu0.6) ...\n",
            "Setting up libarchive-dev:amd64 (3.2.2-3.1ubuntu0.6) ...\n",
            "Processing triggers for man-db (2.8.3-2ubuntu0.1) ...\n",
            "Collecting libarchive\n",
            "  Downloading https://files.pythonhosted.org/packages/bf/d4/26f5c9835d4d648e4f22b5fb91288457698e928aaf9d4ab7eff405b7ef03/libarchive-0.4.7.tar.gz\n",
            "Collecting nose\n",
            "\u001b[?25l  Downloading https://files.pythonhosted.org/packages/15/d8/dd071918c040f50fa1cf80da16423af51ff8ce4a0f2399b7bf8de45ac3d9/nose-1.3.7-py3-none-any.whl (154kB)\n",
            "\u001b[K     |████████████████████████████████| 163kB 6.3MB/s \n",
            "\u001b[?25hBuilding wheels for collected packages: libarchive\n",
            "  Building wheel for libarchive (setup.py) ... \u001b[?25l\u001b[?25hdone\n",
            "  Created wheel for libarchive: filename=libarchive-0.4.7-cp36-none-any.whl size=31632 sha256=f62c705d77a7ccd83e6f0d331d4b270d73b6df0257b7e88f0c66f4b765d56290\n",
            "  Stored in directory: /root/.cache/pip/wheels/3b/5c/fa/92ee330d259e8fa5bedbd53f67040710fe81cfa463b8711d26\n",
            "Successfully built libarchive\n",
            "Installing collected packages: nose, libarchive\n",
            "Successfully installed libarchive-0.4.7 nose-1.3.7\n"
          ],
          "name": "stdout"
        }
      ]
    },
    {
      "cell_type": "code",
      "metadata": {
        "colab": {
          "base_uri": "https://localhost:8080/"
        },
        "id": "rs53-s6I-sSf",
        "outputId": "828825bf-2546-408e-8ed6-ff1383c4d1a9"
      },
      "source": [
        "# https://pypi.python.org/pypi/pydot\n",
        "!apt-get -qq install -y graphviz && pip install pydot\n",
        "import pydot"
      ],
      "execution_count": 6,
      "outputs": [
        {
          "output_type": "stream",
          "text": [
            "Requirement already satisfied: pydot in /usr/local/lib/python3.6/dist-packages (1.3.0)\n",
            "Requirement already satisfied: pyparsing>=2.1.4 in /usr/local/lib/python3.6/dist-packages (from pydot) (2.4.7)\n"
          ],
          "name": "stdout"
        }
      ]
    },
    {
      "cell_type": "code",
      "metadata": {
        "colab": {
          "base_uri": "https://localhost:8080/"
        },
        "id": "EzkyRz_y-vKL",
        "outputId": "ed555ef0-fbfc-47e6-8766-d3e7e911b120"
      },
      "source": [
        "!apt-get -qq install python-cartopy python3-cartopy\n",
        "import cartopy"
      ],
      "execution_count": 7,
      "outputs": [
        {
          "output_type": "stream",
          "text": [
            "Selecting previously unselected package python-pkg-resources.\n",
            "(Reading database ... \r(Reading database ... 5%\r(Reading database ... 10%\r(Reading database ... 15%\r(Reading database ... 20%\r(Reading database ... 25%\r(Reading database ... 30%\r(Reading database ... 35%\r(Reading database ... 40%\r(Reading database ... 45%\r(Reading database ... 50%\r(Reading database ... 55%\r(Reading database ... 60%\r(Reading database ... 65%\r(Reading database ... 70%\r(Reading database ... 75%\r(Reading database ... 80%\r(Reading database ... 85%\r(Reading database ... 90%\r(Reading database ... 95%\r(Reading database ... 100%\r(Reading database ... 144854 files and directories currently installed.)\n",
            "Preparing to unpack .../0-python-pkg-resources_39.0.1-2_all.deb ...\n",
            "Unpacking python-pkg-resources (39.0.1-2) ...\n",
            "Selecting previously unselected package python-pyshp.\n",
            "Preparing to unpack .../1-python-pyshp_1.2.12+ds-1_all.deb ...\n",
            "Unpacking python-pyshp (1.2.12+ds-1) ...\n",
            "Selecting previously unselected package python-shapely.\n",
            "Preparing to unpack .../2-python-shapely_1.6.4-1_amd64.deb ...\n",
            "Unpacking python-shapely (1.6.4-1) ...\n",
            "Selecting previously unselected package python-six.\n",
            "Preparing to unpack .../3-python-six_1.11.0-2_all.deb ...\n",
            "Unpacking python-six (1.11.0-2) ...\n",
            "Selecting previously unselected package python-cartopy:amd64.\n",
            "Preparing to unpack .../4-python-cartopy_0.14.2+dfsg1-2build3_amd64.deb ...\n",
            "Unpacking python-cartopy:amd64 (0.14.2+dfsg1-2build3) ...\n",
            "Selecting previously unselected package python3-pkg-resources.\n",
            "Preparing to unpack .../5-python3-pkg-resources_39.0.1-2_all.deb ...\n",
            "Unpacking python3-pkg-resources (39.0.1-2) ...\n",
            "Selecting previously unselected package python3-pyshp.\n",
            "Preparing to unpack .../6-python3-pyshp_1.2.12+ds-1_all.deb ...\n",
            "Unpacking python3-pyshp (1.2.12+ds-1) ...\n",
            "Selecting previously unselected package python3-shapely.\n",
            "Preparing to unpack .../7-python3-shapely_1.6.4-1_amd64.deb ...\n",
            "Unpacking python3-shapely (1.6.4-1) ...\n",
            "Selecting previously unselected package python3-six.\n",
            "Preparing to unpack .../8-python3-six_1.11.0-2_all.deb ...\n",
            "Unpacking python3-six (1.11.0-2) ...\n",
            "Selecting previously unselected package python3-cartopy:amd64.\n",
            "Preparing to unpack .../9-python3-cartopy_0.14.2+dfsg1-2build3_amd64.deb ...\n",
            "Unpacking python3-cartopy:amd64 (0.14.2+dfsg1-2build3) ...\n",
            "Setting up python-shapely (1.6.4-1) ...\n",
            "Setting up python-pyshp (1.2.12+ds-1) ...\n",
            "Setting up python3-six (1.11.0-2) ...\n",
            "Setting up python3-shapely (1.6.4-1) ...\n",
            "Setting up python3-pyshp (1.2.12+ds-1) ...\n",
            "Setting up python3-pkg-resources (39.0.1-2) ...\n",
            "Setting up python-pkg-resources (39.0.1-2) ...\n",
            "Setting up python-six (1.11.0-2) ...\n",
            "Setting up python3-cartopy:amd64 (0.14.2+dfsg1-2build3) ...\n",
            "Setting up python-cartopy:amd64 (0.14.2+dfsg1-2build3) ...\n"
          ],
          "name": "stdout"
        }
      ]
    },
    {
      "cell_type": "code",
      "metadata": {
        "colab": {
          "base_uri": "https://localhost:8080/",
          "height": 300
        },
        "id": "Gxll7DYD_ckd",
        "outputId": "1b577b70-cddc-44a4-d9c5-c6a6ccbdd147"
      },
      "source": [
        "import pretty_midi"
      ],
      "execution_count": 8,
      "outputs": [
        {
          "output_type": "error",
          "ename": "ModuleNotFoundError",
          "evalue": "ignored",
          "traceback": [
            "\u001b[0;31m---------------------------------------------------------------------------\u001b[0m",
            "\u001b[0;31mModuleNotFoundError\u001b[0m                       Traceback (most recent call last)",
            "\u001b[0;32m<ipython-input-8-4c990b4deb6a>\u001b[0m in \u001b[0;36m<module>\u001b[0;34m()\u001b[0m\n\u001b[0;32m----> 1\u001b[0;31m \u001b[0;32mimport\u001b[0m \u001b[0mpretty_midi\u001b[0m\u001b[0;34m\u001b[0m\u001b[0;34m\u001b[0m\u001b[0m\n\u001b[0m",
            "\u001b[0;31mModuleNotFoundError\u001b[0m: No module named 'pretty_midi'",
            "",
            "\u001b[0;31m---------------------------------------------------------------------------\u001b[0;32m\nNOTE: If your import is failing due to a missing package, you can\nmanually install dependencies using either !pip or !apt.\n\nTo view examples of installing some common dependencies, click the\n\"Open Examples\" button below.\n\u001b[0;31m---------------------------------------------------------------------------\u001b[0m\n"
          ]
        }
      ]
    },
    {
      "cell_type": "code",
      "metadata": {
        "colab": {
          "base_uri": "https://localhost:8080/",
          "height": 368
        },
        "id": "fjEaTgWO_f9q",
        "outputId": "7069ace0-79b3-4257-dbb7-6f554e3960f4"
      },
      "source": [
        "# For Python2.6 compatibility\n",
        "from __future__ import print_function\n",
        "\n",
        "import pretty_midi\n",
        "import numpy as np\n",
        "# For plotting\n",
        "import mir_eval.display\n",
        "import librosa.display\n",
        "import matplotlib.pyplot as plt\n",
        "%matplotlib inline\n",
        "# For putting audio in the notebook\n",
        "import IPython.display"
      ],
      "execution_count": 9,
      "outputs": [
        {
          "output_type": "error",
          "ename": "ModuleNotFoundError",
          "evalue": "ignored",
          "traceback": [
            "\u001b[0;31m---------------------------------------------------------------------------\u001b[0m",
            "\u001b[0;31mModuleNotFoundError\u001b[0m                       Traceback (most recent call last)",
            "\u001b[0;32m<ipython-input-9-99ddaff88996>\u001b[0m in \u001b[0;36m<module>\u001b[0;34m()\u001b[0m\n\u001b[1;32m      2\u001b[0m \u001b[0;32mfrom\u001b[0m \u001b[0m__future__\u001b[0m \u001b[0;32mimport\u001b[0m \u001b[0mprint_function\u001b[0m\u001b[0;34m\u001b[0m\u001b[0;34m\u001b[0m\u001b[0m\n\u001b[1;32m      3\u001b[0m \u001b[0;34m\u001b[0m\u001b[0m\n\u001b[0;32m----> 4\u001b[0;31m \u001b[0;32mimport\u001b[0m \u001b[0mpretty_midi\u001b[0m\u001b[0;34m\u001b[0m\u001b[0;34m\u001b[0m\u001b[0m\n\u001b[0m\u001b[1;32m      5\u001b[0m \u001b[0;32mimport\u001b[0m \u001b[0mnumpy\u001b[0m \u001b[0;32mas\u001b[0m \u001b[0mnp\u001b[0m\u001b[0;34m\u001b[0m\u001b[0;34m\u001b[0m\u001b[0m\n\u001b[1;32m      6\u001b[0m \u001b[0;31m# For plotting\u001b[0m\u001b[0;34m\u001b[0m\u001b[0;34m\u001b[0m\u001b[0;34m\u001b[0m\u001b[0m\n",
            "\u001b[0;31mModuleNotFoundError\u001b[0m: No module named 'pretty_midi'",
            "",
            "\u001b[0;31m---------------------------------------------------------------------------\u001b[0;32m\nNOTE: If your import is failing due to a missing package, you can\nmanually install dependencies using either !pip or !apt.\n\nTo view examples of installing some common dependencies, click the\n\"Open Examples\" button below.\n\u001b[0;31m---------------------------------------------------------------------------\u001b[0m\n"
          ]
        }
      ]
    },
    {
      "cell_type": "code",
      "metadata": {
        "id": "uqQIlugD_qqh"
      },
      "source": [
        "import music21"
      ],
      "execution_count": 1,
      "outputs": []
    },
    {
      "cell_type": "code",
      "metadata": {
        "id": "9-2ISnDnDwmC"
      },
      "source": [
        "import glob"
      ],
      "execution_count": 16,
      "outputs": []
    },
    {
      "cell_type": "code",
      "metadata": {
        "id": "c1L8JHXhD-Rg"
      },
      "source": [
        "import numpy"
      ],
      "execution_count": 2,
      "outputs": []
    },
    {
      "cell_type": "code",
      "metadata": {
        "colab": {
          "base_uri": "https://localhost:8080/"
        },
        "id": "--6qhFsoEO7y",
        "outputId": "34e74a81-95ad-4fcb-e973-d52f46bea779"
      },
      "source": [
        "pip install vocab"
      ],
      "execution_count": 21,
      "outputs": [
        {
          "output_type": "stream",
          "text": [
            "Collecting vocab\n",
            "  Downloading https://files.pythonhosted.org/packages/a2/63/c3f14ca498f1f811eaf8f2c6817e1bdc9724cd6294183066cd43fa124aaf/vocab-0.0.5-py3-none-any.whl\n",
            "Installing collected packages: vocab\n",
            "Successfully installed vocab-0.0.5\n"
          ],
          "name": "stdout"
        }
      ]
    },
    {
      "cell_type": "code",
      "metadata": {
        "colab": {
          "base_uri": "https://localhost:8080/",
          "height": 164
        },
        "id": "lsoVvRnDESnZ",
        "outputId": "9a6f45dc-2ea2-4462-a227-87e930fe8cfd"
      },
      "source": [
        ""
      ],
      "execution_count": 24,
      "outputs": [
        {
          "output_type": "error",
          "ename": "NameError",
          "evalue": "ignored",
          "traceback": [
            "\u001b[0;31m---------------------------------------------------------------------------\u001b[0m",
            "\u001b[0;31mNameError\u001b[0m                                 Traceback (most recent call last)",
            "\u001b[0;32m<ipython-input-24-26708e7534a8>\u001b[0m in \u001b[0;36m<module>\u001b[0;34m()\u001b[0m\n\u001b[0;32m----> 1\u001b[0;31m \u001b[0mprepare_sequences\u001b[0m\u001b[0;34m(\u001b[0m\u001b[0mnotes\u001b[0m\u001b[0;34m,\u001b[0m \u001b[0mn_vocab\u001b[0m\u001b[0;34m,\u001b[0m\u001b[0msequence_length\u001b[0m \u001b[0;34m=\u001b[0m \u001b[0;36m100\u001b[0m\u001b[0;34m)\u001b[0m\u001b[0;34m\u001b[0m\u001b[0;34m\u001b[0m\u001b[0m\n\u001b[0m",
            "\u001b[0;31mNameError\u001b[0m: name 'prepare_sequences' is not defined"
          ]
        }
      ]
    },
    {
      "cell_type": "code",
      "metadata": {
        "id": "TBAXkL8SDSn2"
      },
      "source": [
        "from music21 import converter, instrument, note, chord\n",
        "notes = []\n",
        "for file in glob.glob(\"midi_songs/*.mid\"):\n",
        "    midi = converter.parse(file)\n",
        "    notes_to_parse = None\n",
        "    parts = instrument.partitionByInstrument(midi)\n",
        "    if parts: # file has instrument parts\n",
        "        notes_to_parse = parts.parts[0].recurse()\n",
        "    else: # file has notes in a flat structure\n",
        "        notes_to_parse = midi.flat.notes\n",
        "    for element in notes_to_parse:\n",
        "        if isinstance(element, note.Note):\n",
        "            notes.append(str(element.pitch))\n",
        "        elif isinstance(element, chord.Chord):\n",
        "            notes.append('.'.join(str(n) for n in element.normalOrder))"
      ],
      "execution_count": 17,
      "outputs": []
    },
    {
      "cell_type": "code",
      "metadata": {
        "id": "0v_b7PyID6A1"
      },
      "source": [
        "sequence_length = 100\n",
        "# get all pitch names\n",
        "pitchnames = sorted(set(item for item in notes))\n",
        "# create a dictionary to map pitches to integers\n",
        "note_to_int = dict((note, number) for number, note in enumerate(pitchnames))\n",
        "network_input = []\n",
        "network_output = []\n",
        "# create input sequences and the corresponding outputs\n",
        "for i in range(0, len(notes) - sequence_length, 1):\n",
        "    sequence_in = notes[i:i + sequence_length]\n",
        "    sequence_out = notes[i + sequence_length]\n",
        "    network_input.append([note_to_int[char] for char in sequence_in])\n",
        "    network_output.append(note_to_int[sequence_out])\n",
        "n_patterns = len(network_input)\n",
        "# reshape the input into a format compatible with LSTM layers\n",
        "network_input = numpy.reshape(network_input, (n_patterns, sequence_length, 1))\n"
      ],
      "execution_count": 25,
      "outputs": []
    },
    {
      "cell_type": "code",
      "metadata": {
        "colab": {
          "base_uri": "https://localhost:8080/"
        },
        "id": "RT15h0jXE83s",
        "outputId": "65b46c45-40c6-4c36-a655-bdd9fa62cbba"
      },
      "source": [
        " pip install musicgen"
      ],
      "execution_count": 27,
      "outputs": [
        {
          "output_type": "stream",
          "text": [
            "Collecting musicgen\n",
            "  Downloading https://files.pythonhosted.org/packages/5a/95/351d059aff63c9c1fee56a77098bd1b515ecbf15b0a84af8064274a59f97/musicgen-0.0.1-py3-none-any.whl\n",
            "Requirement already satisfied: music21 in /usr/local/lib/python3.6/dist-packages (from musicgen) (5.5.0)\n",
            "Collecting youtube-dl\n",
            "\u001b[?25l  Downloading https://files.pythonhosted.org/packages/4c/18/3cb351ff60d7b53cb8d5a2f27f3de0dc28b145566dbcf3b790774ec5cc50/youtube_dl-2020.12.2-py2.py3-none-any.whl (1.8MB)\n",
            "\u001b[K     |████████████████████████████████| 1.9MB 3.9MB/s \n",
            "\u001b[?25hRequirement already satisfied: numpy in /usr/local/lib/python3.6/dist-packages (from musicgen) (1.19.4)\n",
            "Installing collected packages: youtube-dl, musicgen\n",
            "Successfully installed musicgen-0.0.1 youtube-dl-2020.12.2\n"
          ],
          "name": "stdout"
        }
      ]
    },
    {
      "cell_type": "code",
      "metadata": {
        "colab": {
          "base_uri": "https://localhost:8080/",
          "height": 198
        },
        "id": "KEoM2ssiE0TO",
        "outputId": "ae83622a-7f47-49f6-9b2f-db8778e99c68"
      },
      "source": [
        "# normalize input\n",
        "network_input = network_input / float(n_vocab)\n",
        "network_output = np_utils.to_categorical(network_output)"
      ],
      "execution_count": 29,
      "outputs": [
        {
          "output_type": "error",
          "ename": "NameError",
          "evalue": "ignored",
          "traceback": [
            "\u001b[0;31m---------------------------------------------------------------------------\u001b[0m",
            "\u001b[0;31mNameError\u001b[0m                                 Traceback (most recent call last)",
            "\u001b[0;32m<ipython-input-29-54c5d91c485c>\u001b[0m in \u001b[0;36m<module>\u001b[0;34m()\u001b[0m\n\u001b[1;32m      1\u001b[0m \u001b[0;31m# normalize input\u001b[0m\u001b[0;34m\u001b[0m\u001b[0;34m\u001b[0m\u001b[0;34m\u001b[0m\u001b[0m\n\u001b[0;32m----> 2\u001b[0;31m \u001b[0mnetwork_input\u001b[0m \u001b[0;34m=\u001b[0m \u001b[0mnetwork_input\u001b[0m \u001b[0;34m/\u001b[0m \u001b[0mfloat\u001b[0m\u001b[0;34m(\u001b[0m\u001b[0mvocab\u001b[0m\u001b[0;34m)\u001b[0m\u001b[0;34m\u001b[0m\u001b[0;34m\u001b[0m\u001b[0m\n\u001b[0m\u001b[1;32m      3\u001b[0m \u001b[0mnetwork_output\u001b[0m \u001b[0;34m=\u001b[0m \u001b[0mnp_utils\u001b[0m\u001b[0;34m.\u001b[0m\u001b[0mto_categorical\u001b[0m\u001b[0;34m(\u001b[0m\u001b[0mnetwork_output\u001b[0m\u001b[0;34m)\u001b[0m\u001b[0;34m\u001b[0m\u001b[0;34m\u001b[0m\u001b[0m\n",
            "\u001b[0;31mNameError\u001b[0m: name 'vocab' is not defined"
          ]
        }
      ]
    },
    {
      "cell_type": "code",
      "metadata": {
        "id": "zDnZHIzfFjpt"
      },
      "source": [
        "model = Sequential()\n",
        "    model.add(LSTM(\n",
        "        256,\n",
        "        input_shape=(network_input.shape[1], network_input.shape[2]),\n",
        "        return_sequences=True\n",
        "    ))\n",
        "    model.add(Dropout(0.3))\n",
        "    model.add(LSTM(512, return_sequences=True))\n",
        "    model.add(Dropout(0.3))\n",
        "    model.add(LSTM(256))\n",
        "    model.add(Dense(256))\n",
        "    model.add(Dropout(0.3))\n",
        "    model.add(Dense(n_vocab))\n",
        "    model.add(Activation('softmax'))\n",
        "    model.compile(loss='categorical_crossentropy', optimizer='rmsprop')"
      ],
      "execution_count": null,
      "outputs": []
    },
    {
      "cell_type": "code",
      "metadata": {
        "id": "5kJXrthwFlyC"
      },
      "source": [
        "filepath = \"weights-improvement-{epoch:02d}-{loss:.4f}-bigger.hdf5\"    \n",
        "checkpoint = ModelCheckpoint(\n",
        "    filepath, monitor='loss', \n",
        "    verbose=0,        \n",
        "    save_best_only=True,        \n",
        "    mode='min'\n",
        ")    \n",
        "callbacks_list = [checkpoint]     \n",
        "model.fit(network_input, network_output, epochs=200, batch_size=64, callbacks=callbacks_list)"
      ],
      "execution_count": null,
      "outputs": []
    },
    {
      "cell_type": "code",
      "metadata": {
        "id": "CPe_gge7Foba"
      },
      "source": [
        ""
      ],
      "execution_count": null,
      "outputs": []
    },
    {
      "cell_type": "code",
      "metadata": {
        "colab": {
          "base_uri": "https://localhost:8080/",
          "height": 164
        },
        "id": "6PCVJgNgoNRW",
        "outputId": "d85a5037-05fb-4620-992f-8a48c269e3d8"
      },
      "source": [
        "midi_pretty_format = pretty_midi.PrettyMIDI('song.mid')"
      ],
      "execution_count": 3,
      "outputs": [
        {
          "output_type": "error",
          "ename": "NameError",
          "evalue": "ignored",
          "traceback": [
            "\u001b[0;31m---------------------------------------------------------------------------\u001b[0m",
            "\u001b[0;31mNameError\u001b[0m                                 Traceback (most recent call last)",
            "\u001b[0;32m<ipython-input-3-6d107f6d0ea7>\u001b[0m in \u001b[0;36m<module>\u001b[0;34m()\u001b[0m\n\u001b[0;32m----> 1\u001b[0;31m \u001b[0mmidi_pretty_format\u001b[0m \u001b[0;34m=\u001b[0m \u001b[0mpretty_midi\u001b[0m\u001b[0;34m.\u001b[0m\u001b[0mPrettyMIDI\u001b[0m\u001b[0;34m(\u001b[0m\u001b[0;34m'song.mid'\u001b[0m\u001b[0;34m)\u001b[0m\u001b[0;34m\u001b[0m\u001b[0;34m\u001b[0m\u001b[0m\n\u001b[0m",
            "\u001b[0;31mNameError\u001b[0m: name 'pretty_midi' is not defined"
          ]
        }
      ]
    },
    {
      "cell_type": "code",
      "metadata": {
        "id": "PqVdja2prBTt"
      },
      "source": [
        ""
      ],
      "execution_count": null,
      "outputs": []
    },
    {
      "cell_type": "markdown",
      "metadata": {
        "id": "PMftmI0q0uIL"
      },
      "source": [
        "MUSIC CLASSIFICATION"
      ]
    },
    {
      "cell_type": "code",
      "metadata": {
        "colab": {
          "base_uri": "https://localhost:8080/"
        },
        "id": "7uPjqMetrBd1",
        "outputId": "7673ecfb-5c3e-4c95-f588-607ae1e63c30"
      },
      "source": [
        "# music 3\n",
        "\n",
        "from google.colab import drive\n",
        "import sys\n",
        "\n",
        "# Mount Google Drive\n",
        "drive.mount('/content/drive')\n",
        "\n",
        "# Get the absolute path of the current folder\n",
        "abspath_curr = '/content/drive/My Drive/'\n",
        "\n",
        "# Get the absolute path of the deep utilities folder\n"
      ],
      "execution_count": 5,
      "outputs": [
        {
          "output_type": "stream",
          "text": [
            "Mounted at /content/drive\n"
          ],
          "name": "stdout"
        }
      ]
    },
    {
      "cell_type": "code",
      "metadata": {
        "id": "vtTa0QWZsHnW"
      },
      "source": [
        "# The random seed\n",
        "random_seed = 42\n",
        "\n",
        "# Set random seed in tensorflow\n",
        "tf.random.set_seed(random_seed)\n",
        "\n",
        "# Set random seed in numpy\n",
        "import numpy as np\n",
        "np.random.seed(random_seed)"
      ],
      "execution_count": 6,
      "outputs": []
    },
    {
      "cell_type": "code",
      "metadata": {
        "id": "lxO_fyJasEWY"
      },
      "source": [
        "# Change working directory to the absolute path of the deep utilities folder\n",
        "# %cd $abspath_util_deep\n",
        "\n",
        "# Import the deep utitilities\n",
        "# %run pmlm_utilities_deep.ipynb"
      ],
      "execution_count": null,
      "outputs": []
    },
    {
      "cell_type": "code",
      "metadata": {
        "id": "g6NZw_lGrlZH"
      },
      "source": [
        "%tensorflow_version 2.x \n",
        "import tensorflow as tf\n",
        "from tensorflow import keras"
      ],
      "execution_count": 4,
      "outputs": []
    },
    {
      "cell_type": "code",
      "metadata": {
        "id": "h10vFtxNrtTI"
      },
      "source": [
        "import os \n",
        "\n",
        "directory = os.path.dirname(abspath_curr + 'Muisc-genre-classification-main/data2.csv/')\n",
        "if not os.path.exists(directory):\n",
        "    os.makedirs(directory)"
      ],
      "execution_count": 7,
      "outputs": []
    },
    {
      "cell_type": "code",
      "metadata": {
        "id": "KBv-WOv_sajD"
      },
      "source": [
        "import tensorflow_datasets as tfds\n",
        "\n",
        "# Get the name of the data\n",
        "data_name = 'music_data2'\n",
        "\n",
        "# Load data\n",
        "data, info = tfds.load(name=data_name,\n",
        "                       data_dir=abspath_curr + '/Muisc-genre-classification-main/data2.csv',\n",
        "                       as_supervised=True,\n",
        "                       with_info=True)"
      ],
      "execution_count": null,
      "outputs": []
    },
    {
      "cell_type": "code",
      "metadata": {
        "id": "YLG92GKgtxxK"
      },
      "source": [
        "import pandas as pd"
      ],
      "execution_count": 17,
      "outputs": []
    },
    {
      "cell_type": "code",
      "metadata": {
        "id": "Wr_LaKfSsxtM"
      },
      "source": [
        "data=pd.read_csv('/content/drive/My Drive/Muisc-genre-classification-main/data2.csv')"
      ],
      "execution_count": 16,
      "outputs": []
    },
    {
      "cell_type": "code",
      "metadata": {
        "colab": {
          "base_uri": "https://localhost:8080/",
          "height": 456
        },
        "id": "9780S5XmtJk2",
        "outputId": "53d843d6-8c65-49ab-b142-86654868804b"
      },
      "source": [
        "data.head(300)\n"
      ],
      "execution_count": 18,
      "outputs": [
        {
          "output_type": "execute_result",
          "data": {
            "text/html": [
              "<div>\n",
              "<style scoped>\n",
              "    .dataframe tbody tr th:only-of-type {\n",
              "        vertical-align: middle;\n",
              "    }\n",
              "\n",
              "    .dataframe tbody tr th {\n",
              "        vertical-align: top;\n",
              "    }\n",
              "\n",
              "    .dataframe thead th {\n",
              "        text-align: right;\n",
              "    }\n",
              "</style>\n",
              "<table border=\"1\" class=\"dataframe\">\n",
              "  <thead>\n",
              "    <tr style=\"text-align: right;\">\n",
              "      <th></th>\n",
              "      <th>File-name</th>\n",
              "      <th>chroma_shft</th>\n",
              "      <th>rmse</th>\n",
              "      <th>spec_cent</th>\n",
              "      <th>spec_bw</th>\n",
              "      <th>rolloff</th>\n",
              "      <th>zcr</th>\n",
              "      <th>MFCC--1</th>\n",
              "      <th>MFCC--2</th>\n",
              "      <th>MFCC--3</th>\n",
              "      <th>MFCC--4</th>\n",
              "      <th>MFCC--5</th>\n",
              "      <th>MFCC--6</th>\n",
              "      <th>MFCC--7</th>\n",
              "      <th>MFCC--8</th>\n",
              "      <th>MFCC--9</th>\n",
              "      <th>MFCC--10</th>\n",
              "      <th>MFCC--11</th>\n",
              "      <th>MFCC--12</th>\n",
              "      <th>MFCC--13</th>\n",
              "      <th>MFCC--14</th>\n",
              "      <th>MFCC--15</th>\n",
              "      <th>MFCC--16</th>\n",
              "      <th>MFCC--17</th>\n",
              "      <th>MFCC--18</th>\n",
              "      <th>MFCC--19</th>\n",
              "      <th>MFCC--20</th>\n",
              "      <th>Lable</th>\n",
              "    </tr>\n",
              "  </thead>\n",
              "  <tbody>\n",
              "    <tr>\n",
              "      <th>0</th>\n",
              "      <td>rock.00008.wav</td>\n",
              "      <td>0.408748</td>\n",
              "      <td>0.260914</td>\n",
              "      <td>1717.312205</td>\n",
              "      <td>1842.500561</td>\n",
              "      <td>3362.721333</td>\n",
              "      <td>0.084981</td>\n",
              "      <td>-14.910254</td>\n",
              "      <td>138.420124</td>\n",
              "      <td>-41.889428</td>\n",
              "      <td>22.070244</td>\n",
              "      <td>-18.660637</td>\n",
              "      <td>31.994634</td>\n",
              "      <td>-20.366154</td>\n",
              "      <td>15.689840</td>\n",
              "      <td>-17.350268</td>\n",
              "      <td>14.861217</td>\n",
              "      <td>-8.898566</td>\n",
              "      <td>12.247996</td>\n",
              "      <td>-5.819694</td>\n",
              "      <td>9.968250</td>\n",
              "      <td>-3.163116</td>\n",
              "      <td>1.976028</td>\n",
              "      <td>-6.923686</td>\n",
              "      <td>3.121398</td>\n",
              "      <td>-2.987225</td>\n",
              "      <td>-6.677925</td>\n",
              "      <td>Rock</td>\n",
              "    </tr>\n",
              "    <tr>\n",
              "      <th>1</th>\n",
              "      <td>rock.00001.wav</td>\n",
              "      <td>0.365525</td>\n",
              "      <td>0.180543</td>\n",
              "      <td>1529.345464</td>\n",
              "      <td>1845.423388</td>\n",
              "      <td>3271.663550</td>\n",
              "      <td>0.054982</td>\n",
              "      <td>-111.136301</td>\n",
              "      <td>134.159482</td>\n",
              "      <td>-24.647956</td>\n",
              "      <td>41.544623</td>\n",
              "      <td>-3.057124</td>\n",
              "      <td>28.483072</td>\n",
              "      <td>-10.571676</td>\n",
              "      <td>14.921677</td>\n",
              "      <td>-14.384826</td>\n",
              "      <td>8.840186</td>\n",
              "      <td>-4.542453</td>\n",
              "      <td>9.939369</td>\n",
              "      <td>-4.665001</td>\n",
              "      <td>3.626334</td>\n",
              "      <td>-5.541119</td>\n",
              "      <td>3.364801</td>\n",
              "      <td>-4.942521</td>\n",
              "      <td>-1.472867</td>\n",
              "      <td>0.100885</td>\n",
              "      <td>-5.332559</td>\n",
              "      <td>Rock</td>\n",
              "    </tr>\n",
              "    <tr>\n",
              "      <th>2</th>\n",
              "      <td>rock.00005.wav</td>\n",
              "      <td>0.376780</td>\n",
              "      <td>0.203785</td>\n",
              "      <td>1542.205910</td>\n",
              "      <td>1591.924670</td>\n",
              "      <td>2870.199311</td>\n",
              "      <td>0.077020</td>\n",
              "      <td>-62.348380</td>\n",
              "      <td>153.770773</td>\n",
              "      <td>-55.112845</td>\n",
              "      <td>28.016488</td>\n",
              "      <td>-6.844085</td>\n",
              "      <td>17.476861</td>\n",
              "      <td>-22.603344</td>\n",
              "      <td>18.141622</td>\n",
              "      <td>-12.583872</td>\n",
              "      <td>4.493736</td>\n",
              "      <td>-8.383072</td>\n",
              "      <td>7.204514</td>\n",
              "      <td>-2.524919</td>\n",
              "      <td>4.834071</td>\n",
              "      <td>-6.272217</td>\n",
              "      <td>-0.725831</td>\n",
              "      <td>-2.277204</td>\n",
              "      <td>-5.243365</td>\n",
              "      <td>-5.218907</td>\n",
              "      <td>-6.279709</td>\n",
              "      <td>Rock</td>\n",
              "    </tr>\n",
              "    <tr>\n",
              "      <th>3</th>\n",
              "      <td>rock.00006.wav</td>\n",
              "      <td>0.344472</td>\n",
              "      <td>0.180163</td>\n",
              "      <td>1675.475369</td>\n",
              "      <td>1653.422860</td>\n",
              "      <td>3253.563659</td>\n",
              "      <td>0.087294</td>\n",
              "      <td>-98.356322</td>\n",
              "      <td>136.611573</td>\n",
              "      <td>-46.700574</td>\n",
              "      <td>46.457300</td>\n",
              "      <td>-17.135585</td>\n",
              "      <td>10.505286</td>\n",
              "      <td>-14.554871</td>\n",
              "      <td>16.543108</td>\n",
              "      <td>-12.317913</td>\n",
              "      <td>3.689543</td>\n",
              "      <td>-12.647550</td>\n",
              "      <td>2.945863</td>\n",
              "      <td>-12.509212</td>\n",
              "      <td>0.091337</td>\n",
              "      <td>-0.774780</td>\n",
              "      <td>-5.700102</td>\n",
              "      <td>-8.630916</td>\n",
              "      <td>-1.903803</td>\n",
              "      <td>-2.196753</td>\n",
              "      <td>-3.395148</td>\n",
              "      <td>Rock</td>\n",
              "    </tr>\n",
              "    <tr>\n",
              "      <th>4</th>\n",
              "      <td>rock.00003.wav</td>\n",
              "      <td>0.380017</td>\n",
              "      <td>0.151226</td>\n",
              "      <td>1421.568971</td>\n",
              "      <td>1902.883344</td>\n",
              "      <td>3042.739934</td>\n",
              "      <td>0.043097</td>\n",
              "      <td>-156.602967</td>\n",
              "      <td>130.686506</td>\n",
              "      <td>-1.457021</td>\n",
              "      <td>36.220929</td>\n",
              "      <td>0.388322</td>\n",
              "      <td>31.983893</td>\n",
              "      <td>-0.618636</td>\n",
              "      <td>20.134576</td>\n",
              "      <td>-11.338957</td>\n",
              "      <td>13.837787</td>\n",
              "      <td>-3.768497</td>\n",
              "      <td>11.535877</td>\n",
              "      <td>-3.217205</td>\n",
              "      <td>5.065080</td>\n",
              "      <td>-1.784673</td>\n",
              "      <td>3.535590</td>\n",
              "      <td>-2.447573</td>\n",
              "      <td>-0.717627</td>\n",
              "      <td>-1.413266</td>\n",
              "      <td>0.637624</td>\n",
              "      <td>Rock</td>\n",
              "    </tr>\n",
              "    <tr>\n",
              "      <th>...</th>\n",
              "      <td>...</td>\n",
              "      <td>...</td>\n",
              "      <td>...</td>\n",
              "      <td>...</td>\n",
              "      <td>...</td>\n",
              "      <td>...</td>\n",
              "      <td>...</td>\n",
              "      <td>...</td>\n",
              "      <td>...</td>\n",
              "      <td>...</td>\n",
              "      <td>...</td>\n",
              "      <td>...</td>\n",
              "      <td>...</td>\n",
              "      <td>...</td>\n",
              "      <td>...</td>\n",
              "      <td>...</td>\n",
              "      <td>...</td>\n",
              "      <td>...</td>\n",
              "      <td>...</td>\n",
              "      <td>...</td>\n",
              "      <td>...</td>\n",
              "      <td>...</td>\n",
              "      <td>...</td>\n",
              "      <td>...</td>\n",
              "      <td>...</td>\n",
              "      <td>...</td>\n",
              "      <td>...</td>\n",
              "      <td>...</td>\n",
              "    </tr>\n",
              "    <tr>\n",
              "      <th>295</th>\n",
              "      <td>pop.00095.wav</td>\n",
              "      <td>0.365712</td>\n",
              "      <td>0.303920</td>\n",
              "      <td>3046.148817</td>\n",
              "      <td>3306.480614</td>\n",
              "      <td>7384.647013</td>\n",
              "      <td>0.106394</td>\n",
              "      <td>-36.622723</td>\n",
              "      <td>73.082171</td>\n",
              "      <td>39.133504</td>\n",
              "      <td>20.341821</td>\n",
              "      <td>12.504606</td>\n",
              "      <td>2.150093</td>\n",
              "      <td>11.739913</td>\n",
              "      <td>-2.424380</td>\n",
              "      <td>6.652705</td>\n",
              "      <td>3.179703</td>\n",
              "      <td>-5.391148</td>\n",
              "      <td>-3.155387</td>\n",
              "      <td>-5.774647</td>\n",
              "      <td>-7.681010</td>\n",
              "      <td>-7.607766</td>\n",
              "      <td>-6.850216</td>\n",
              "      <td>-6.112240</td>\n",
              "      <td>-1.564934</td>\n",
              "      <td>2.133322</td>\n",
              "      <td>-1.562207</td>\n",
              "      <td>Pop</td>\n",
              "    </tr>\n",
              "    <tr>\n",
              "      <th>296</th>\n",
              "      <td>pop.00098.wav</td>\n",
              "      <td>0.399895</td>\n",
              "      <td>0.213083</td>\n",
              "      <td>3634.050584</td>\n",
              "      <td>3134.249724</td>\n",
              "      <td>7534.687772</td>\n",
              "      <td>0.183106</td>\n",
              "      <td>-26.902570</td>\n",
              "      <td>46.710707</td>\n",
              "      <td>8.701760</td>\n",
              "      <td>8.600640</td>\n",
              "      <td>6.090376</td>\n",
              "      <td>12.428580</td>\n",
              "      <td>6.957394</td>\n",
              "      <td>2.503607</td>\n",
              "      <td>1.160028</td>\n",
              "      <td>7.259748</td>\n",
              "      <td>-3.128959</td>\n",
              "      <td>1.253731</td>\n",
              "      <td>3.836709</td>\n",
              "      <td>4.690396</td>\n",
              "      <td>1.714553</td>\n",
              "      <td>-0.980313</td>\n",
              "      <td>-1.300124</td>\n",
              "      <td>-2.687255</td>\n",
              "      <td>-1.269861</td>\n",
              "      <td>-2.485296</td>\n",
              "      <td>Pop</td>\n",
              "    </tr>\n",
              "    <tr>\n",
              "      <th>297</th>\n",
              "      <td>pop.00096.wav</td>\n",
              "      <td>0.339957</td>\n",
              "      <td>0.251243</td>\n",
              "      <td>3126.533643</td>\n",
              "      <td>3162.743738</td>\n",
              "      <td>6931.233088</td>\n",
              "      <td>0.105346</td>\n",
              "      <td>-59.099176</td>\n",
              "      <td>60.976773</td>\n",
              "      <td>27.745595</td>\n",
              "      <td>23.873961</td>\n",
              "      <td>12.298408</td>\n",
              "      <td>7.371333</td>\n",
              "      <td>12.329105</td>\n",
              "      <td>7.163457</td>\n",
              "      <td>13.432547</td>\n",
              "      <td>2.496932</td>\n",
              "      <td>-1.956466</td>\n",
              "      <td>-2.403196</td>\n",
              "      <td>-4.513487</td>\n",
              "      <td>3.468001</td>\n",
              "      <td>2.026163</td>\n",
              "      <td>3.719552</td>\n",
              "      <td>2.489373</td>\n",
              "      <td>1.276359</td>\n",
              "      <td>3.131913</td>\n",
              "      <td>1.647612</td>\n",
              "      <td>Pop</td>\n",
              "    </tr>\n",
              "    <tr>\n",
              "      <th>298</th>\n",
              "      <td>pop.00091.wav</td>\n",
              "      <td>0.424473</td>\n",
              "      <td>0.265422</td>\n",
              "      <td>3696.225140</td>\n",
              "      <td>3246.695112</td>\n",
              "      <td>7871.035738</td>\n",
              "      <td>0.166830</td>\n",
              "      <td>-8.384624</td>\n",
              "      <td>41.998152</td>\n",
              "      <td>8.295316</td>\n",
              "      <td>17.976979</td>\n",
              "      <td>14.045181</td>\n",
              "      <td>7.344525</td>\n",
              "      <td>5.721310</td>\n",
              "      <td>-1.902804</td>\n",
              "      <td>4.603536</td>\n",
              "      <td>2.075449</td>\n",
              "      <td>-1.065354</td>\n",
              "      <td>-0.656881</td>\n",
              "      <td>-2.429781</td>\n",
              "      <td>-1.472319</td>\n",
              "      <td>-3.762977</td>\n",
              "      <td>-1.658407</td>\n",
              "      <td>-2.379022</td>\n",
              "      <td>0.052522</td>\n",
              "      <td>-0.989721</td>\n",
              "      <td>-2.601742</td>\n",
              "      <td>Pop</td>\n",
              "    </tr>\n",
              "    <tr>\n",
              "      <th>299</th>\n",
              "      <td>pop.00094.wav</td>\n",
              "      <td>0.333196</td>\n",
              "      <td>0.198670</td>\n",
              "      <td>2806.247388</td>\n",
              "      <td>2857.714955</td>\n",
              "      <td>6101.779770</td>\n",
              "      <td>0.128548</td>\n",
              "      <td>-42.237700</td>\n",
              "      <td>82.181453</td>\n",
              "      <td>-2.252060</td>\n",
              "      <td>19.913530</td>\n",
              "      <td>13.862006</td>\n",
              "      <td>0.867935</td>\n",
              "      <td>7.923741</td>\n",
              "      <td>-0.716035</td>\n",
              "      <td>6.877683</td>\n",
              "      <td>-1.907875</td>\n",
              "      <td>-4.689053</td>\n",
              "      <td>-3.169998</td>\n",
              "      <td>-2.949469</td>\n",
              "      <td>3.594148</td>\n",
              "      <td>-0.082776</td>\n",
              "      <td>1.582507</td>\n",
              "      <td>0.848486</td>\n",
              "      <td>-1.226169</td>\n",
              "      <td>2.545904</td>\n",
              "      <td>0.784718</td>\n",
              "      <td>Pop</td>\n",
              "    </tr>\n",
              "  </tbody>\n",
              "</table>\n",
              "<p>300 rows × 28 columns</p>\n",
              "</div>"
            ],
            "text/plain": [
              "          File-name  chroma_shft      rmse  ...  MFCC--19  MFCC--20  Lable\n",
              "0    rock.00008.wav     0.408748  0.260914  ... -2.987225 -6.677925   Rock\n",
              "1    rock.00001.wav     0.365525  0.180543  ...  0.100885 -5.332559   Rock\n",
              "2    rock.00005.wav     0.376780  0.203785  ... -5.218907 -6.279709   Rock\n",
              "3    rock.00006.wav     0.344472  0.180163  ... -2.196753 -3.395148   Rock\n",
              "4    rock.00003.wav     0.380017  0.151226  ... -1.413266  0.637624   Rock\n",
              "..              ...          ...       ...  ...       ...       ...    ...\n",
              "295   pop.00095.wav     0.365712  0.303920  ...  2.133322 -1.562207    Pop\n",
              "296   pop.00098.wav     0.399895  0.213083  ... -1.269861 -2.485296    Pop\n",
              "297   pop.00096.wav     0.339957  0.251243  ...  3.131913  1.647612    Pop\n",
              "298   pop.00091.wav     0.424473  0.265422  ... -0.989721 -2.601742    Pop\n",
              "299   pop.00094.wav     0.333196  0.198670  ...  2.545904  0.784718    Pop\n",
              "\n",
              "[300 rows x 28 columns]"
            ]
          },
          "metadata": {
            "tags": []
          },
          "execution_count": 18
        }
      ]
    },
    {
      "cell_type": "code",
      "metadata": {
        "colab": {
          "base_uri": "https://localhost:8080/"
        },
        "id": "o3fwbwBIt298",
        "outputId": "d9ec4bc3-b2ea-4ab2-b4e8-28b02912a92f"
      },
      "source": [
        "data.shape"
      ],
      "execution_count": 19,
      "outputs": [
        {
          "output_type": "execute_result",
          "data": {
            "text/plain": [
              "(999, 28)"
            ]
          },
          "metadata": {
            "tags": []
          },
          "execution_count": 19
        }
      ]
    },
    {
      "cell_type": "code",
      "metadata": {
        "id": "60AopMD3uN1a"
      },
      "source": [
        "from sklearn import preprocessing"
      ],
      "execution_count": 21,
      "outputs": []
    },
    {
      "cell_type": "code",
      "metadata": {
        "id": "hrxcP0U8ucPC"
      },
      "source": [
        "from sklearn.preprocessing import LabelEncoder"
      ],
      "execution_count": 24,
      "outputs": []
    },
    {
      "cell_type": "code",
      "metadata": {
        "id": "_yvodfVOt6f3"
      },
      "source": [
        "y=data.iloc[:,-1].values\n",
        "le=LabelEncoder()\n",
        "y=le.fit_transform(y)"
      ],
      "execution_count": 25,
      "outputs": []
    },
    {
      "cell_type": "code",
      "metadata": {
        "colab": {
          "base_uri": "https://localhost:8080/"
        },
        "id": "NvgrTVAXt8Rq",
        "outputId": "8d37dd20-d187-46ca-d8c3-9a6dcab88cfb"
      },
      "source": [
        "print(y[500])"
      ],
      "execution_count": 26,
      "outputs": [
        {
          "output_type": "stream",
          "text": [
            "4\n"
          ],
          "name": "stdout"
        }
      ]
    },
    {
      "cell_type": "code",
      "metadata": {
        "colab": {
          "base_uri": "https://localhost:8080/",
          "height": 456
        },
        "id": "wrJmomR2utuG",
        "outputId": "ed4d059e-a791-4d3c-fade-f6a9da368f15"
      },
      "source": [
        "data.tail(100)"
      ],
      "execution_count": 27,
      "outputs": [
        {
          "output_type": "execute_result",
          "data": {
            "text/html": [
              "<div>\n",
              "<style scoped>\n",
              "    .dataframe tbody tr th:only-of-type {\n",
              "        vertical-align: middle;\n",
              "    }\n",
              "\n",
              "    .dataframe tbody tr th {\n",
              "        vertical-align: top;\n",
              "    }\n",
              "\n",
              "    .dataframe thead th {\n",
              "        text-align: right;\n",
              "    }\n",
              "</style>\n",
              "<table border=\"1\" class=\"dataframe\">\n",
              "  <thead>\n",
              "    <tr style=\"text-align: right;\">\n",
              "      <th></th>\n",
              "      <th>File-name</th>\n",
              "      <th>chroma_shft</th>\n",
              "      <th>rmse</th>\n",
              "      <th>spec_cent</th>\n",
              "      <th>spec_bw</th>\n",
              "      <th>rolloff</th>\n",
              "      <th>zcr</th>\n",
              "      <th>MFCC--1</th>\n",
              "      <th>MFCC--2</th>\n",
              "      <th>MFCC--3</th>\n",
              "      <th>MFCC--4</th>\n",
              "      <th>MFCC--5</th>\n",
              "      <th>MFCC--6</th>\n",
              "      <th>MFCC--7</th>\n",
              "      <th>MFCC--8</th>\n",
              "      <th>MFCC--9</th>\n",
              "      <th>MFCC--10</th>\n",
              "      <th>MFCC--11</th>\n",
              "      <th>MFCC--12</th>\n",
              "      <th>MFCC--13</th>\n",
              "      <th>MFCC--14</th>\n",
              "      <th>MFCC--15</th>\n",
              "      <th>MFCC--16</th>\n",
              "      <th>MFCC--17</th>\n",
              "      <th>MFCC--18</th>\n",
              "      <th>MFCC--19</th>\n",
              "      <th>MFCC--20</th>\n",
              "      <th>Lable</th>\n",
              "    </tr>\n",
              "  </thead>\n",
              "  <tbody>\n",
              "    <tr>\n",
              "      <th>899</th>\n",
              "      <td>blues.00000.wav</td>\n",
              "      <td>0.349943</td>\n",
              "      <td>0.130225</td>\n",
              "      <td>1784.420446</td>\n",
              "      <td>2002.650192</td>\n",
              "      <td>3806.485316</td>\n",
              "      <td>0.083066</td>\n",
              "      <td>-113.596742</td>\n",
              "      <td>121.557302</td>\n",
              "      <td>-19.158825</td>\n",
              "      <td>42.351029</td>\n",
              "      <td>-6.376457</td>\n",
              "      <td>18.618875</td>\n",
              "      <td>-13.697911</td>\n",
              "      <td>15.344630</td>\n",
              "      <td>-12.285266</td>\n",
              "      <td>10.980491</td>\n",
              "      <td>-8.324323</td>\n",
              "      <td>8.810668</td>\n",
              "      <td>-3.667367</td>\n",
              "      <td>5.751690</td>\n",
              "      <td>-5.162761</td>\n",
              "      <td>0.750947</td>\n",
              "      <td>-1.691937</td>\n",
              "      <td>-0.409954</td>\n",
              "      <td>-2.300208</td>\n",
              "      <td>1.219928</td>\n",
              "      <td>Blues</td>\n",
              "    </tr>\n",
              "    <tr>\n",
              "      <th>900</th>\n",
              "      <td>blues.00004.wav</td>\n",
              "      <td>0.308590</td>\n",
              "      <td>0.091563</td>\n",
              "      <td>1835.494603</td>\n",
              "      <td>1748.362448</td>\n",
              "      <td>3580.945013</td>\n",
              "      <td>0.101500</td>\n",
              "      <td>-160.266031</td>\n",
              "      <td>126.198800</td>\n",
              "      <td>-35.605448</td>\n",
              "      <td>22.153301</td>\n",
              "      <td>-32.489270</td>\n",
              "      <td>10.864512</td>\n",
              "      <td>-23.357929</td>\n",
              "      <td>0.503117</td>\n",
              "      <td>-11.805831</td>\n",
              "      <td>1.206804</td>\n",
              "      <td>-13.083820</td>\n",
              "      <td>-2.806385</td>\n",
              "      <td>-6.934122</td>\n",
              "      <td>-7.558619</td>\n",
              "      <td>-9.173552</td>\n",
              "      <td>-4.512166</td>\n",
              "      <td>-5.453538</td>\n",
              "      <td>-0.924162</td>\n",
              "      <td>-4.409333</td>\n",
              "      <td>-11.703781</td>\n",
              "      <td>Blues</td>\n",
              "    </tr>\n",
              "    <tr>\n",
              "      <th>901</th>\n",
              "      <td>blues.00007.wav</td>\n",
              "      <td>0.307921</td>\n",
              "      <td>0.131785</td>\n",
              "      <td>1451.754147</td>\n",
              "      <td>1577.369917</td>\n",
              "      <td>2955.348796</td>\n",
              "      <td>0.061435</td>\n",
              "      <td>-179.395447</td>\n",
              "      <td>136.459244</td>\n",
              "      <td>-26.656359</td>\n",
              "      <td>39.988027</td>\n",
              "      <td>5.289679</td>\n",
              "      <td>10.924427</td>\n",
              "      <td>-20.561889</td>\n",
              "      <td>8.513764</td>\n",
              "      <td>-11.356908</td>\n",
              "      <td>-3.469077</td>\n",
              "      <td>-8.414554</td>\n",
              "      <td>-6.954827</td>\n",
              "      <td>-3.544535</td>\n",
              "      <td>-8.051242</td>\n",
              "      <td>-8.959537</td>\n",
              "      <td>-8.424337</td>\n",
              "      <td>-10.558885</td>\n",
              "      <td>-10.788159</td>\n",
              "      <td>-4.693749</td>\n",
              "      <td>-8.638613</td>\n",
              "      <td>Blues</td>\n",
              "    </tr>\n",
              "    <tr>\n",
              "      <th>902</th>\n",
              "      <td>blues.00002.wav</td>\n",
              "      <td>0.363603</td>\n",
              "      <td>0.175573</td>\n",
              "      <td>1552.481958</td>\n",
              "      <td>1747.165985</td>\n",
              "      <td>3040.514948</td>\n",
              "      <td>0.076301</td>\n",
              "      <td>-90.754394</td>\n",
              "      <td>140.459907</td>\n",
              "      <td>-29.109965</td>\n",
              "      <td>31.689014</td>\n",
              "      <td>-13.987036</td>\n",
              "      <td>25.754761</td>\n",
              "      <td>-13.649586</td>\n",
              "      <td>11.629271</td>\n",
              "      <td>-11.780589</td>\n",
              "      <td>9.706442</td>\n",
              "      <td>-13.123111</td>\n",
              "      <td>5.789265</td>\n",
              "      <td>-8.905224</td>\n",
              "      <td>-1.083720</td>\n",
              "      <td>-9.218359</td>\n",
              "      <td>2.455805</td>\n",
              "      <td>-7.726901</td>\n",
              "      <td>-1.815724</td>\n",
              "      <td>-3.433434</td>\n",
              "      <td>-2.226821</td>\n",
              "      <td>Blues</td>\n",
              "    </tr>\n",
              "    <tr>\n",
              "      <th>903</th>\n",
              "      <td>blues.00001.wav</td>\n",
              "      <td>0.340983</td>\n",
              "      <td>0.095918</td>\n",
              "      <td>1529.835316</td>\n",
              "      <td>2038.617579</td>\n",
              "      <td>3548.820207</td>\n",
              "      <td>0.056044</td>\n",
              "      <td>-207.556796</td>\n",
              "      <td>124.006717</td>\n",
              "      <td>8.930562</td>\n",
              "      <td>35.874684</td>\n",
              "      <td>2.916038</td>\n",
              "      <td>21.523725</td>\n",
              "      <td>-8.554703</td>\n",
              "      <td>23.358672</td>\n",
              "      <td>-10.103616</td>\n",
              "      <td>11.903744</td>\n",
              "      <td>-5.560387</td>\n",
              "      <td>5.376802</td>\n",
              "      <td>-2.239119</td>\n",
              "      <td>4.216963</td>\n",
              "      <td>-6.012273</td>\n",
              "      <td>0.936109</td>\n",
              "      <td>-0.716537</td>\n",
              "      <td>0.293875</td>\n",
              "      <td>-0.287431</td>\n",
              "      <td>0.531573</td>\n",
              "      <td>Blues</td>\n",
              "    </tr>\n",
              "    <tr>\n",
              "      <th>...</th>\n",
              "      <td>...</td>\n",
              "      <td>...</td>\n",
              "      <td>...</td>\n",
              "      <td>...</td>\n",
              "      <td>...</td>\n",
              "      <td>...</td>\n",
              "      <td>...</td>\n",
              "      <td>...</td>\n",
              "      <td>...</td>\n",
              "      <td>...</td>\n",
              "      <td>...</td>\n",
              "      <td>...</td>\n",
              "      <td>...</td>\n",
              "      <td>...</td>\n",
              "      <td>...</td>\n",
              "      <td>...</td>\n",
              "      <td>...</td>\n",
              "      <td>...</td>\n",
              "      <td>...</td>\n",
              "      <td>...</td>\n",
              "      <td>...</td>\n",
              "      <td>...</td>\n",
              "      <td>...</td>\n",
              "      <td>...</td>\n",
              "      <td>...</td>\n",
              "      <td>...</td>\n",
              "      <td>...</td>\n",
              "      <td>...</td>\n",
              "    </tr>\n",
              "    <tr>\n",
              "      <th>994</th>\n",
              "      <td>blues.00098.wav</td>\n",
              "      <td>0.442972</td>\n",
              "      <td>0.125422</td>\n",
              "      <td>2310.280604</td>\n",
              "      <td>2206.710936</td>\n",
              "      <td>4829.320798</td>\n",
              "      <td>0.128426</td>\n",
              "      <td>-90.677485</td>\n",
              "      <td>100.093133</td>\n",
              "      <td>-23.916267</td>\n",
              "      <td>52.581125</td>\n",
              "      <td>-20.916392</td>\n",
              "      <td>31.494155</td>\n",
              "      <td>-11.203329</td>\n",
              "      <td>20.085382</td>\n",
              "      <td>-10.909220</td>\n",
              "      <td>17.556229</td>\n",
              "      <td>-14.092525</td>\n",
              "      <td>12.988067</td>\n",
              "      <td>-11.415392</td>\n",
              "      <td>2.906069</td>\n",
              "      <td>-12.012914</td>\n",
              "      <td>4.822585</td>\n",
              "      <td>-11.156674</td>\n",
              "      <td>1.159210</td>\n",
              "      <td>-3.913956</td>\n",
              "      <td>3.250427</td>\n",
              "      <td>Blues</td>\n",
              "    </tr>\n",
              "    <tr>\n",
              "      <th>995</th>\n",
              "      <td>blues.00097.wav</td>\n",
              "      <td>0.375158</td>\n",
              "      <td>0.198282</td>\n",
              "      <td>1236.574280</td>\n",
              "      <td>1602.309124</td>\n",
              "      <td>2604.150920</td>\n",
              "      <td>0.044626</td>\n",
              "      <td>-148.639173</td>\n",
              "      <td>145.746311</td>\n",
              "      <td>-9.363639</td>\n",
              "      <td>48.453770</td>\n",
              "      <td>10.557437</td>\n",
              "      <td>18.006432</td>\n",
              "      <td>-2.626048</td>\n",
              "      <td>16.955489</td>\n",
              "      <td>-11.512661</td>\n",
              "      <td>8.724417</td>\n",
              "      <td>-8.164551</td>\n",
              "      <td>3.230693</td>\n",
              "      <td>-0.667060</td>\n",
              "      <td>-0.727791</td>\n",
              "      <td>-6.821160</td>\n",
              "      <td>-3.942547</td>\n",
              "      <td>-15.739370</td>\n",
              "      <td>-5.604688</td>\n",
              "      <td>-5.802770</td>\n",
              "      <td>-0.048729</td>\n",
              "      <td>Blues</td>\n",
              "    </tr>\n",
              "    <tr>\n",
              "      <th>996</th>\n",
              "      <td>blues.00095.wav</td>\n",
              "      <td>0.369973</td>\n",
              "      <td>0.187148</td>\n",
              "      <td>1388.394749</td>\n",
              "      <td>1772.854380</td>\n",
              "      <td>2754.525010</td>\n",
              "      <td>0.057147</td>\n",
              "      <td>-130.553972</td>\n",
              "      <td>139.977099</td>\n",
              "      <td>-1.269146</td>\n",
              "      <td>39.323654</td>\n",
              "      <td>-6.351806</td>\n",
              "      <td>19.769089</td>\n",
              "      <td>-11.213042</td>\n",
              "      <td>27.246107</td>\n",
              "      <td>-16.532666</td>\n",
              "      <td>7.031403</td>\n",
              "      <td>-1.197161</td>\n",
              "      <td>1.611758</td>\n",
              "      <td>-6.628307</td>\n",
              "      <td>4.952240</td>\n",
              "      <td>-1.633326</td>\n",
              "      <td>0.956659</td>\n",
              "      <td>-4.840757</td>\n",
              "      <td>-5.966955</td>\n",
              "      <td>-2.782187</td>\n",
              "      <td>-6.494001</td>\n",
              "      <td>Blues</td>\n",
              "    </tr>\n",
              "    <tr>\n",
              "      <th>997</th>\n",
              "      <td>blues.00094.wav</td>\n",
              "      <td>0.376687</td>\n",
              "      <td>0.141018</td>\n",
              "      <td>1239.337228</td>\n",
              "      <td>1659.466470</td>\n",
              "      <td>2517.618110</td>\n",
              "      <td>0.050908</td>\n",
              "      <td>-206.278431</td>\n",
              "      <td>126.627468</td>\n",
              "      <td>10.585205</td>\n",
              "      <td>43.223168</td>\n",
              "      <td>12.501488</td>\n",
              "      <td>19.425002</td>\n",
              "      <td>0.357382</td>\n",
              "      <td>12.738808</td>\n",
              "      <td>-4.572330</td>\n",
              "      <td>4.050817</td>\n",
              "      <td>-4.413953</td>\n",
              "      <td>3.659409</td>\n",
              "      <td>-1.448481</td>\n",
              "      <td>-1.695150</td>\n",
              "      <td>-7.157464</td>\n",
              "      <td>1.171114</td>\n",
              "      <td>-6.221975</td>\n",
              "      <td>0.600703</td>\n",
              "      <td>-1.605095</td>\n",
              "      <td>-0.528774</td>\n",
              "      <td>Blues</td>\n",
              "    </tr>\n",
              "    <tr>\n",
              "      <th>998</th>\n",
              "      <td>blues.00096.wav</td>\n",
              "      <td>0.260574</td>\n",
              "      <td>0.051349</td>\n",
              "      <td>1132.340629</td>\n",
              "      <td>1582.492047</td>\n",
              "      <td>2065.479177</td>\n",
              "      <td>0.048314</td>\n",
              "      <td>-314.582809</td>\n",
              "      <td>139.926741</td>\n",
              "      <td>11.865851</td>\n",
              "      <td>30.113314</td>\n",
              "      <td>-7.549764</td>\n",
              "      <td>14.914179</td>\n",
              "      <td>-2.699562</td>\n",
              "      <td>6.707930</td>\n",
              "      <td>-6.391601</td>\n",
              "      <td>2.819350</td>\n",
              "      <td>-11.715414</td>\n",
              "      <td>2.077480</td>\n",
              "      <td>-11.442501</td>\n",
              "      <td>-9.504390</td>\n",
              "      <td>-15.185495</td>\n",
              "      <td>-9.355572</td>\n",
              "      <td>-5.672771</td>\n",
              "      <td>1.564772</td>\n",
              "      <td>0.890936</td>\n",
              "      <td>-7.960376</td>\n",
              "      <td>Blues</td>\n",
              "    </tr>\n",
              "  </tbody>\n",
              "</table>\n",
              "<p>100 rows × 28 columns</p>\n",
              "</div>"
            ],
            "text/plain": [
              "           File-name  chroma_shft      rmse  ...  MFCC--19   MFCC--20  Lable\n",
              "899  blues.00000.wav     0.349943  0.130225  ... -2.300208   1.219928  Blues\n",
              "900  blues.00004.wav     0.308590  0.091563  ... -4.409333 -11.703781  Blues\n",
              "901  blues.00007.wav     0.307921  0.131785  ... -4.693749  -8.638613  Blues\n",
              "902  blues.00002.wav     0.363603  0.175573  ... -3.433434  -2.226821  Blues\n",
              "903  blues.00001.wav     0.340983  0.095918  ... -0.287431   0.531573  Blues\n",
              "..               ...          ...       ...  ...       ...        ...    ...\n",
              "994  blues.00098.wav     0.442972  0.125422  ... -3.913956   3.250427  Blues\n",
              "995  blues.00097.wav     0.375158  0.198282  ... -5.802770  -0.048729  Blues\n",
              "996  blues.00095.wav     0.369973  0.187148  ... -2.782187  -6.494001  Blues\n",
              "997  blues.00094.wav     0.376687  0.141018  ... -1.605095  -0.528774  Blues\n",
              "998  blues.00096.wav     0.260574  0.051349  ...  0.890936  -7.960376  Blues\n",
              "\n",
              "[100 rows x 28 columns]"
            ]
          },
          "metadata": {
            "tags": []
          },
          "execution_count": 27
        }
      ]
    },
    {
      "cell_type": "code",
      "metadata": {
        "id": "NudhZml0vChp"
      },
      "source": [
        "from sklearn.preprocessing import StandardScaler"
      ],
      "execution_count": 29,
      "outputs": []
    },
    {
      "cell_type": "code",
      "metadata": {
        "colab": {
          "base_uri": "https://localhost:8080/"
        },
        "id": "tMsPhD8ouvid",
        "outputId": "1e7dd9bc-6452-4df6-dfa9-33f1b2bd100f"
      },
      "source": [
        "x=data.iloc[:,1:-1].values\n",
        "sc=StandardScaler()\n",
        "\n",
        "x=sc.fit_transform(x)\n",
        "\n",
        "print(x)\n",
        "print(x.shape)"
      ],
      "execution_count": 30,
      "outputs": [
        {
          "output_type": "stream",
          "text": [
            "[[ 0.36718559  1.97962866 -0.67767556 ...  0.67519091 -0.17548743\n",
            "  -1.45493329]\n",
            " [-0.16222343  0.75590734 -0.9402859  ... -0.51241416  0.6467968\n",
            "  -1.10435347]\n",
            " [-0.02436844  1.10977802 -0.92231843 ... -1.48707773 -0.76972713\n",
            "  -1.35116472]\n",
            " ...\n",
            " [-0.10774666  0.85647708 -1.13720964 ... -1.67412392 -0.12089117\n",
            "  -1.40700574]\n",
            " [-0.02550897  0.15409888 -1.34545949 ...  0.0235979   0.19253815\n",
            "   0.14743171]\n",
            " [-1.44769992 -1.21118362 -1.49494558 ...  0.27280724  0.85716693\n",
            "  -1.78911837]]\n",
            "(999, 26)\n"
          ],
          "name": "stdout"
        }
      ]
    },
    {
      "cell_type": "code",
      "metadata": {
        "id": "WPz5F9JxvMjj"
      },
      "source": [
        "import sklearn.model_selection as model_selection"
      ],
      "execution_count": 33,
      "outputs": []
    },
    {
      "cell_type": "code",
      "metadata": {
        "id": "yg9XR0cRvdP-"
      },
      "source": [
        "from sklearn.model_selection import train_test_split"
      ],
      "execution_count": 34,
      "outputs": []
    },
    {
      "cell_type": "code",
      "metadata": {
        "colab": {
          "base_uri": "https://localhost:8080/",
          "height": 54
        },
        "id": "Z39356afvGne",
        "outputId": "d0bcf45a-9290-4dc4-9e43-c84792a08769"
      },
      "source": [
        "x_train,x_test,y_train,y_test=train_test_split(x,y,test_size=0.2,random_state=1)\n",
        "\n",
        "\n",
        "x_train,x_validation,y_train,y_validation=train_test_split(x_train,y_train,test_size=0.125,random_state=1)\n",
        "\n",
        "'''x_train= np.reshape(x_train, ((-1, 599, 20, 1)))\n",
        "x_test= np.reshape(x_test, ((-1, 250, 20, 1)))\n",
        "x_validation= np.reshape(x_validation, ((-1, 150, 20, 1)))'''"
      ],
      "execution_count": 35,
      "outputs": [
        {
          "output_type": "execute_result",
          "data": {
            "application/vnd.google.colaboratory.intrinsic+json": {
              "type": "string"
            },
            "text/plain": [
              "'x_train= np.reshape(x_train, ((-1, 599, 20, 1)))\\nx_test= np.reshape(x_test, ((-1, 250, 20, 1)))\\nx_validation= np.reshape(x_validation, ((-1, 150, 20, 1)))'"
            ]
          },
          "metadata": {
            "tags": []
          },
          "execution_count": 35
        }
      ]
    },
    {
      "cell_type": "code",
      "metadata": {
        "colab": {
          "base_uri": "https://localhost:8080/"
        },
        "id": "Gg4uO2dDvi5H",
        "outputId": "77d4b6cd-f6e9-401b-8f8b-6a55deab7725"
      },
      "source": [
        "print(x_train.shape[0])\n",
        "print(x_validation.shape)\n",
        "print(x_test.shape)\n",
        "\n",
        "\n",
        "##input_siz=(x_train.shape[1],x_train.shape[2],1)"
      ],
      "execution_count": 36,
      "outputs": [
        {
          "output_type": "stream",
          "text": [
            "699\n",
            "(100, 26)\n",
            "(200, 26)\n"
          ],
          "name": "stdout"
        }
      ]
    },
    {
      "cell_type": "code",
      "metadata": {
        "id": "4CIQCxLBvj_i"
      },
      "source": [
        "#BUILDING THE CNN\n",
        "\n",
        "model=keras.Sequential()\n",
        "\n",
        "\n",
        "#layer 1\n",
        "##model.add(keras.layers.Conv2D(32, (3, 3), activation='relu', input_shape=input_siz))\n",
        "#model.add(keras.layers.MaxPooling2D((3, 3), strides=(2, 2), padding='same'))\n",
        "#model.add(keras.layers.BatchNormalization())\n",
        "\n",
        "\n",
        "\n",
        "#layer 2\n",
        "'''model.add(keras.layers.Conv2D(32, (3, 3), activation='relu'))\n",
        "model.add(keras.layers.MaxPooling2D((3, 3), strides=(2, 2), padding='same'))\n",
        "model.add(keras.layers.BatchNormalization())\n",
        "\n",
        "\n",
        "\n",
        "#layer 3\n",
        "model.add(keras.layers.Conv2D(32, (2, 2), activation='relu'))\n",
        "model.add(keras.layers.MaxPooling2D((2, 2), strides=(2, 2), padding='same'))\n",
        "model.add(keras.layers.BatchNormalization())\n",
        "\n",
        "#flatten\n",
        "model.add(keras.layers.Flatten())\n",
        "model.add(keras.layers.Dense(64, activation='relu'))\n",
        "model.add(keras.layers.Dropout(0.3))\n",
        "\n",
        "# output layer\n",
        "model.add(keras.layers.Dense(10, activation='softmax'))'''\n",
        "##model.add(keras.layers.Flatten(input_shape=(x_train.shape[1],)))\n",
        "model.add(keras.layers.Dense(512, activation='relu', kernel_regularizer=keras.regularizers.l2(0.001),input_shape=(x_train.shape[1],)))\n",
        "model.add(keras.layers.Dropout(0.3))\n",
        "\n",
        "model.add(keras.layers.Dense(256, activation='relu', kernel_regularizer=keras.regularizers.l2(0.001)))\n",
        "model.add(keras.layers.Dropout(0.3))\n",
        "\n",
        "\n",
        "model.add(keras.layers.Dense(128, activation='relu', kernel_regularizer=keras.regularizers.l2(0.001)))\n",
        "model.add(keras.layers.Dropout(0.3))\n",
        "\n",
        "\n",
        "model.add(keras.layers.Dense(64, activation='relu', kernel_regularizer=keras.regularizers.l2(0.001)))\n",
        "model.add(keras.layers.Dropout(0.3))\n",
        "\n",
        "\n",
        "model.add(keras.layers.Dense(10, activation='softmax'))"
      ],
      "execution_count": 37,
      "outputs": []
    },
    {
      "cell_type": "code",
      "metadata": {
        "colab": {
          "base_uri": "https://localhost:8080/"
        },
        "id": "aulwyCh7vno1",
        "outputId": "ec13d6ff-e151-41ea-f800-3ea62d788c02"
      },
      "source": [
        "#compiling the model\n",
        "model.compile(optimizer='adam',\n",
        "              loss='sparse_categorical_crossentropy',\n",
        "              metrics=['accuracy'])\n",
        "model.summary()"
      ],
      "execution_count": 38,
      "outputs": [
        {
          "output_type": "stream",
          "text": [
            "Model: \"sequential\"\n",
            "_________________________________________________________________\n",
            "Layer (type)                 Output Shape              Param #   \n",
            "=================================================================\n",
            "dense (Dense)                (None, 512)               13824     \n",
            "_________________________________________________________________\n",
            "dropout (Dropout)            (None, 512)               0         \n",
            "_________________________________________________________________\n",
            "dense_1 (Dense)              (None, 256)               131328    \n",
            "_________________________________________________________________\n",
            "dropout_1 (Dropout)          (None, 256)               0         \n",
            "_________________________________________________________________\n",
            "dense_2 (Dense)              (None, 128)               32896     \n",
            "_________________________________________________________________\n",
            "dropout_2 (Dropout)          (None, 128)               0         \n",
            "_________________________________________________________________\n",
            "dense_3 (Dense)              (None, 64)                8256      \n",
            "_________________________________________________________________\n",
            "dropout_3 (Dropout)          (None, 64)                0         \n",
            "_________________________________________________________________\n",
            "dense_4 (Dense)              (None, 10)                650       \n",
            "=================================================================\n",
            "Total params: 186,954\n",
            "Trainable params: 186,954\n",
            "Non-trainable params: 0\n",
            "_________________________________________________________________\n"
          ],
          "name": "stdout"
        }
      ]
    },
    {
      "cell_type": "code",
      "metadata": {
        "colab": {
          "base_uri": "https://localhost:8080/"
        },
        "id": "9Ob8FFfjvrrY",
        "outputId": "71ada89a-50c6-45dc-b2da-4d5e6bec9c8e"
      },
      "source": [
        "#train the CNN\n",
        "\n",
        "history = model.fit(x_train, y_train, validation_data=(x_validation, y_validation), batch_size=256, epochs=200)"
      ],
      "execution_count": 39,
      "outputs": [
        {
          "output_type": "stream",
          "text": [
            "Epoch 1/200\n",
            "3/3 [==============================] - 0s 114ms/step - loss: 2.9303 - accuracy: 0.1230 - val_loss: 2.7644 - val_accuracy: 0.2400\n",
            "Epoch 2/200\n",
            "3/3 [==============================] - 0s 14ms/step - loss: 2.7779 - accuracy: 0.2189 - val_loss: 2.6478 - val_accuracy: 0.2800\n",
            "Epoch 3/200\n",
            "3/3 [==============================] - 0s 13ms/step - loss: 2.6473 - accuracy: 0.2918 - val_loss: 2.5545 - val_accuracy: 0.2700\n",
            "Epoch 4/200\n",
            "3/3 [==============================] - 0s 13ms/step - loss: 2.5818 - accuracy: 0.3133 - val_loss: 2.4878 - val_accuracy: 0.3300\n",
            "Epoch 5/200\n",
            "3/3 [==============================] - 0s 13ms/step - loss: 2.4823 - accuracy: 0.3491 - val_loss: 2.4192 - val_accuracy: 0.3200\n",
            "Epoch 6/200\n",
            "3/3 [==============================] - 0s 14ms/step - loss: 2.4020 - accuracy: 0.3548 - val_loss: 2.3649 - val_accuracy: 0.3200\n",
            "Epoch 7/200\n",
            "3/3 [==============================] - 0s 15ms/step - loss: 2.3473 - accuracy: 0.3920 - val_loss: 2.3177 - val_accuracy: 0.3100\n",
            "Epoch 8/200\n",
            "3/3 [==============================] - 0s 13ms/step - loss: 2.2710 - accuracy: 0.4120 - val_loss: 2.2807 - val_accuracy: 0.3400\n",
            "Epoch 9/200\n",
            "3/3 [==============================] - 0s 14ms/step - loss: 2.2209 - accuracy: 0.4335 - val_loss: 2.2055 - val_accuracy: 0.3400\n",
            "Epoch 10/200\n",
            "3/3 [==============================] - 0s 15ms/step - loss: 2.1671 - accuracy: 0.4449 - val_loss: 2.1396 - val_accuracy: 0.3700\n",
            "Epoch 11/200\n",
            "3/3 [==============================] - 0s 13ms/step - loss: 2.1227 - accuracy: 0.4464 - val_loss: 2.1074 - val_accuracy: 0.4100\n",
            "Epoch 12/200\n",
            "3/3 [==============================] - 0s 14ms/step - loss: 2.0832 - accuracy: 0.4807 - val_loss: 2.0911 - val_accuracy: 0.4100\n",
            "Epoch 13/200\n",
            "3/3 [==============================] - 0s 13ms/step - loss: 2.0215 - accuracy: 0.5122 - val_loss: 2.0419 - val_accuracy: 0.4400\n",
            "Epoch 14/200\n",
            "3/3 [==============================] - 0s 13ms/step - loss: 1.9751 - accuracy: 0.5193 - val_loss: 1.9891 - val_accuracy: 0.4600\n",
            "Epoch 15/200\n",
            "3/3 [==============================] - 0s 13ms/step - loss: 1.9161 - accuracy: 0.5179 - val_loss: 1.9615 - val_accuracy: 0.4700\n",
            "Epoch 16/200\n",
            "3/3 [==============================] - 0s 16ms/step - loss: 1.8800 - accuracy: 0.5393 - val_loss: 1.9364 - val_accuracy: 0.4600\n",
            "Epoch 17/200\n",
            "3/3 [==============================] - 0s 13ms/step - loss: 1.8698 - accuracy: 0.5322 - val_loss: 1.9304 - val_accuracy: 0.4800\n",
            "Epoch 18/200\n",
            "3/3 [==============================] - 0s 14ms/step - loss: 1.8268 - accuracy: 0.5608 - val_loss: 1.9035 - val_accuracy: 0.4900\n",
            "Epoch 19/200\n",
            "3/3 [==============================] - 0s 14ms/step - loss: 1.7865 - accuracy: 0.5794 - val_loss: 1.8752 - val_accuracy: 0.5100\n",
            "Epoch 20/200\n",
            "3/3 [==============================] - 0s 14ms/step - loss: 1.7693 - accuracy: 0.5651 - val_loss: 1.8482 - val_accuracy: 0.5100\n",
            "Epoch 21/200\n",
            "3/3 [==============================] - 0s 14ms/step - loss: 1.7599 - accuracy: 0.5494 - val_loss: 1.8479 - val_accuracy: 0.4800\n",
            "Epoch 22/200\n",
            "3/3 [==============================] - 0s 14ms/step - loss: 1.7071 - accuracy: 0.5966 - val_loss: 1.8222 - val_accuracy: 0.4900\n",
            "Epoch 23/200\n",
            "3/3 [==============================] - 0s 14ms/step - loss: 1.6683 - accuracy: 0.6094 - val_loss: 1.8104 - val_accuracy: 0.5000\n",
            "Epoch 24/200\n",
            "3/3 [==============================] - 0s 16ms/step - loss: 1.6313 - accuracy: 0.6252 - val_loss: 1.7986 - val_accuracy: 0.4900\n",
            "Epoch 25/200\n",
            "3/3 [==============================] - 0s 13ms/step - loss: 1.6299 - accuracy: 0.6395 - val_loss: 1.7705 - val_accuracy: 0.5200\n",
            "Epoch 26/200\n",
            "3/3 [==============================] - 0s 14ms/step - loss: 1.5809 - accuracy: 0.6452 - val_loss: 1.7627 - val_accuracy: 0.5200\n",
            "Epoch 27/200\n",
            "3/3 [==============================] - 0s 14ms/step - loss: 1.5720 - accuracy: 0.6295 - val_loss: 1.7392 - val_accuracy: 0.5300\n",
            "Epoch 28/200\n",
            "3/3 [==============================] - 0s 13ms/step - loss: 1.5660 - accuracy: 0.6552 - val_loss: 1.7210 - val_accuracy: 0.5500\n",
            "Epoch 29/200\n",
            "3/3 [==============================] - 0s 14ms/step - loss: 1.5238 - accuracy: 0.6638 - val_loss: 1.7201 - val_accuracy: 0.5500\n",
            "Epoch 30/200\n",
            "3/3 [==============================] - 0s 14ms/step - loss: 1.4969 - accuracy: 0.6624 - val_loss: 1.7291 - val_accuracy: 0.5200\n",
            "Epoch 31/200\n",
            "3/3 [==============================] - 0s 16ms/step - loss: 1.5103 - accuracy: 0.6538 - val_loss: 1.7205 - val_accuracy: 0.5300\n",
            "Epoch 32/200\n",
            "3/3 [==============================] - 0s 17ms/step - loss: 1.4920 - accuracy: 0.6667 - val_loss: 1.6955 - val_accuracy: 0.5700\n",
            "Epoch 33/200\n",
            "3/3 [==============================] - 0s 14ms/step - loss: 1.4698 - accuracy: 0.6652 - val_loss: 1.6991 - val_accuracy: 0.5900\n",
            "Epoch 34/200\n",
            "3/3 [==============================] - 0s 14ms/step - loss: 1.4509 - accuracy: 0.6824 - val_loss: 1.6945 - val_accuracy: 0.5600\n",
            "Epoch 35/200\n",
            "3/3 [==============================] - 0s 14ms/step - loss: 1.4165 - accuracy: 0.6938 - val_loss: 1.6780 - val_accuracy: 0.5700\n",
            "Epoch 36/200\n",
            "3/3 [==============================] - 0s 15ms/step - loss: 1.4023 - accuracy: 0.6881 - val_loss: 1.6554 - val_accuracy: 0.5700\n",
            "Epoch 37/200\n",
            "3/3 [==============================] - 0s 14ms/step - loss: 1.3585 - accuracy: 0.7110 - val_loss: 1.6540 - val_accuracy: 0.5700\n",
            "Epoch 38/200\n",
            "3/3 [==============================] - 0s 14ms/step - loss: 1.3457 - accuracy: 0.7296 - val_loss: 1.6665 - val_accuracy: 0.5900\n",
            "Epoch 39/200\n",
            "3/3 [==============================] - 0s 13ms/step - loss: 1.3485 - accuracy: 0.7182 - val_loss: 1.6605 - val_accuracy: 0.6000\n",
            "Epoch 40/200\n",
            "3/3 [==============================] - 0s 13ms/step - loss: 1.3515 - accuracy: 0.6967 - val_loss: 1.6558 - val_accuracy: 0.5900\n",
            "Epoch 41/200\n",
            "3/3 [==============================] - 0s 15ms/step - loss: 1.2977 - accuracy: 0.7310 - val_loss: 1.6536 - val_accuracy: 0.6000\n",
            "Epoch 42/200\n",
            "3/3 [==============================] - 0s 14ms/step - loss: 1.2755 - accuracy: 0.7296 - val_loss: 1.6743 - val_accuracy: 0.6000\n",
            "Epoch 43/200\n",
            "3/3 [==============================] - 0s 13ms/step - loss: 1.2375 - accuracy: 0.7353 - val_loss: 1.6885 - val_accuracy: 0.5800\n",
            "Epoch 44/200\n",
            "3/3 [==============================] - 0s 15ms/step - loss: 1.2093 - accuracy: 0.7482 - val_loss: 1.6686 - val_accuracy: 0.5800\n",
            "Epoch 45/200\n",
            "3/3 [==============================] - 0s 14ms/step - loss: 1.2317 - accuracy: 0.7482 - val_loss: 1.6471 - val_accuracy: 0.6000\n",
            "Epoch 46/200\n",
            "3/3 [==============================] - 0s 17ms/step - loss: 1.1990 - accuracy: 0.7597 - val_loss: 1.6575 - val_accuracy: 0.6000\n",
            "Epoch 47/200\n",
            "3/3 [==============================] - 0s 16ms/step - loss: 1.1773 - accuracy: 0.7582 - val_loss: 1.6606 - val_accuracy: 0.6100\n",
            "Epoch 48/200\n",
            "3/3 [==============================] - 0s 19ms/step - loss: 1.1702 - accuracy: 0.7582 - val_loss: 1.6791 - val_accuracy: 0.5900\n",
            "Epoch 49/200\n",
            "3/3 [==============================] - 0s 14ms/step - loss: 1.1517 - accuracy: 0.7725 - val_loss: 1.6796 - val_accuracy: 0.6000\n",
            "Epoch 50/200\n",
            "3/3 [==============================] - 0s 14ms/step - loss: 1.1048 - accuracy: 0.7983 - val_loss: 1.6500 - val_accuracy: 0.6000\n",
            "Epoch 51/200\n",
            "3/3 [==============================] - 0s 16ms/step - loss: 1.1332 - accuracy: 0.7797 - val_loss: 1.6197 - val_accuracy: 0.6000\n",
            "Epoch 52/200\n",
            "3/3 [==============================] - 0s 15ms/step - loss: 1.1031 - accuracy: 0.7897 - val_loss: 1.6028 - val_accuracy: 0.6200\n",
            "Epoch 53/200\n",
            "3/3 [==============================] - 0s 14ms/step - loss: 1.1046 - accuracy: 0.7840 - val_loss: 1.5915 - val_accuracy: 0.6200\n",
            "Epoch 54/200\n",
            "3/3 [==============================] - 0s 17ms/step - loss: 1.0843 - accuracy: 0.7811 - val_loss: 1.5825 - val_accuracy: 0.6200\n",
            "Epoch 55/200\n",
            "3/3 [==============================] - 0s 13ms/step - loss: 1.0533 - accuracy: 0.7926 - val_loss: 1.6137 - val_accuracy: 0.6200\n",
            "Epoch 56/200\n",
            "3/3 [==============================] - 0s 13ms/step - loss: 1.0926 - accuracy: 0.7897 - val_loss: 1.6193 - val_accuracy: 0.6200\n",
            "Epoch 57/200\n",
            "3/3 [==============================] - 0s 14ms/step - loss: 1.0483 - accuracy: 0.8126 - val_loss: 1.6149 - val_accuracy: 0.6100\n",
            "Epoch 58/200\n",
            "3/3 [==============================] - 0s 15ms/step - loss: 1.0611 - accuracy: 0.8026 - val_loss: 1.5730 - val_accuracy: 0.6200\n",
            "Epoch 59/200\n",
            "3/3 [==============================] - 0s 16ms/step - loss: 1.0160 - accuracy: 0.8112 - val_loss: 1.5924 - val_accuracy: 0.6000\n",
            "Epoch 60/200\n",
            "3/3 [==============================] - 0s 16ms/step - loss: 0.9892 - accuracy: 0.8183 - val_loss: 1.5715 - val_accuracy: 0.6100\n",
            "Epoch 61/200\n",
            "3/3 [==============================] - 0s 15ms/step - loss: 0.9575 - accuracy: 0.8412 - val_loss: 1.5827 - val_accuracy: 0.6300\n",
            "Epoch 62/200\n",
            "3/3 [==============================] - 0s 18ms/step - loss: 0.9766 - accuracy: 0.8112 - val_loss: 1.6167 - val_accuracy: 0.6300\n",
            "Epoch 63/200\n",
            "3/3 [==============================] - 0s 19ms/step - loss: 0.9599 - accuracy: 0.8383 - val_loss: 1.6136 - val_accuracy: 0.6200\n",
            "Epoch 64/200\n",
            "3/3 [==============================] - 0s 16ms/step - loss: 0.9572 - accuracy: 0.8255 - val_loss: 1.5864 - val_accuracy: 0.6100\n",
            "Epoch 65/200\n",
            "3/3 [==============================] - 0s 14ms/step - loss: 0.9806 - accuracy: 0.8155 - val_loss: 1.6186 - val_accuracy: 0.6000\n",
            "Epoch 66/200\n",
            "3/3 [==============================] - 0s 16ms/step - loss: 0.9790 - accuracy: 0.8226 - val_loss: 1.6155 - val_accuracy: 0.6200\n",
            "Epoch 67/200\n",
            "3/3 [==============================] - 0s 15ms/step - loss: 0.9189 - accuracy: 0.8498 - val_loss: 1.5392 - val_accuracy: 0.6200\n",
            "Epoch 68/200\n",
            "3/3 [==============================] - 0s 15ms/step - loss: 0.9325 - accuracy: 0.8312 - val_loss: 1.5323 - val_accuracy: 0.6200\n",
            "Epoch 69/200\n",
            "3/3 [==============================] - 0s 15ms/step - loss: 0.8793 - accuracy: 0.8655 - val_loss: 1.6146 - val_accuracy: 0.6300\n",
            "Epoch 70/200\n",
            "3/3 [==============================] - 0s 14ms/step - loss: 0.9416 - accuracy: 0.8340 - val_loss: 1.6718 - val_accuracy: 0.6000\n",
            "Epoch 71/200\n",
            "3/3 [==============================] - 0s 17ms/step - loss: 0.8889 - accuracy: 0.8670 - val_loss: 1.6197 - val_accuracy: 0.6000\n",
            "Epoch 72/200\n",
            "3/3 [==============================] - 0s 14ms/step - loss: 0.8758 - accuracy: 0.8670 - val_loss: 1.5606 - val_accuracy: 0.6300\n",
            "Epoch 73/200\n",
            "3/3 [==============================] - 0s 15ms/step - loss: 0.8576 - accuracy: 0.8755 - val_loss: 1.5790 - val_accuracy: 0.6200\n",
            "Epoch 74/200\n",
            "3/3 [==============================] - 0s 14ms/step - loss: 0.8821 - accuracy: 0.8598 - val_loss: 1.6159 - val_accuracy: 0.6200\n",
            "Epoch 75/200\n",
            "3/3 [==============================] - 0s 13ms/step - loss: 0.8650 - accuracy: 0.8612 - val_loss: 1.5781 - val_accuracy: 0.6500\n",
            "Epoch 76/200\n",
            "3/3 [==============================] - 0s 15ms/step - loss: 0.8269 - accuracy: 0.8856 - val_loss: 1.5480 - val_accuracy: 0.6200\n",
            "Epoch 77/200\n",
            "3/3 [==============================] - 0s 14ms/step - loss: 0.8350 - accuracy: 0.8827 - val_loss: 1.5566 - val_accuracy: 0.6300\n",
            "Epoch 78/200\n",
            "3/3 [==============================] - 0s 13ms/step - loss: 0.8050 - accuracy: 0.8841 - val_loss: 1.5807 - val_accuracy: 0.6100\n",
            "Epoch 79/200\n",
            "3/3 [==============================] - 0s 17ms/step - loss: 0.8634 - accuracy: 0.8612 - val_loss: 1.6075 - val_accuracy: 0.6200\n",
            "Epoch 80/200\n",
            "3/3 [==============================] - 0s 15ms/step - loss: 0.8098 - accuracy: 0.8741 - val_loss: 1.5895 - val_accuracy: 0.6300\n",
            "Epoch 81/200\n",
            "3/3 [==============================] - 0s 15ms/step - loss: 0.8145 - accuracy: 0.8698 - val_loss: 1.5935 - val_accuracy: 0.6100\n",
            "Epoch 82/200\n",
            "3/3 [==============================] - 0s 15ms/step - loss: 0.7991 - accuracy: 0.9027 - val_loss: 1.6239 - val_accuracy: 0.6100\n",
            "Epoch 83/200\n",
            "3/3 [==============================] - 0s 14ms/step - loss: 0.7999 - accuracy: 0.8827 - val_loss: 1.6477 - val_accuracy: 0.6400\n",
            "Epoch 84/200\n",
            "3/3 [==============================] - 0s 16ms/step - loss: 0.7886 - accuracy: 0.8898 - val_loss: 1.6639 - val_accuracy: 0.6300\n",
            "Epoch 85/200\n",
            "3/3 [==============================] - 0s 13ms/step - loss: 0.7525 - accuracy: 0.8984 - val_loss: 1.6315 - val_accuracy: 0.6200\n",
            "Epoch 86/200\n",
            "3/3 [==============================] - 0s 13ms/step - loss: 0.7861 - accuracy: 0.8698 - val_loss: 1.6239 - val_accuracy: 0.6300\n",
            "Epoch 87/200\n",
            "3/3 [==============================] - 0s 14ms/step - loss: 0.7626 - accuracy: 0.8970 - val_loss: 1.5973 - val_accuracy: 0.6300\n",
            "Epoch 88/200\n",
            "3/3 [==============================] - 0s 13ms/step - loss: 0.7560 - accuracy: 0.8898 - val_loss: 1.6203 - val_accuracy: 0.6500\n",
            "Epoch 89/200\n",
            "3/3 [==============================] - 0s 15ms/step - loss: 0.7424 - accuracy: 0.8984 - val_loss: 1.6456 - val_accuracy: 0.6100\n",
            "Epoch 90/200\n",
            "3/3 [==============================] - 0s 15ms/step - loss: 0.7390 - accuracy: 0.9056 - val_loss: 1.7035 - val_accuracy: 0.6200\n",
            "Epoch 91/200\n",
            "3/3 [==============================] - 0s 14ms/step - loss: 0.7295 - accuracy: 0.9185 - val_loss: 1.7125 - val_accuracy: 0.6100\n",
            "Epoch 92/200\n",
            "3/3 [==============================] - 0s 13ms/step - loss: 0.7318 - accuracy: 0.9041 - val_loss: 1.6657 - val_accuracy: 0.5800\n",
            "Epoch 93/200\n",
            "3/3 [==============================] - 0s 13ms/step - loss: 0.7249 - accuracy: 0.8984 - val_loss: 1.6191 - val_accuracy: 0.6200\n",
            "Epoch 94/200\n",
            "3/3 [==============================] - 0s 13ms/step - loss: 0.7075 - accuracy: 0.9156 - val_loss: 1.6329 - val_accuracy: 0.6200\n",
            "Epoch 95/200\n",
            "3/3 [==============================] - 0s 15ms/step - loss: 0.7360 - accuracy: 0.9113 - val_loss: 1.7024 - val_accuracy: 0.6400\n",
            "Epoch 96/200\n",
            "3/3 [==============================] - 0s 17ms/step - loss: 0.7100 - accuracy: 0.9027 - val_loss: 1.7641 - val_accuracy: 0.6300\n",
            "Epoch 97/200\n",
            "3/3 [==============================] - 0s 15ms/step - loss: 0.7482 - accuracy: 0.8956 - val_loss: 1.6865 - val_accuracy: 0.6200\n",
            "Epoch 98/200\n",
            "3/3 [==============================] - 0s 14ms/step - loss: 0.7202 - accuracy: 0.9027 - val_loss: 1.6579 - val_accuracy: 0.6200\n",
            "Epoch 99/200\n",
            "3/3 [==============================] - 0s 13ms/step - loss: 0.6843 - accuracy: 0.9227 - val_loss: 1.6644 - val_accuracy: 0.6100\n",
            "Epoch 100/200\n",
            "3/3 [==============================] - 0s 15ms/step - loss: 0.6783 - accuracy: 0.9227 - val_loss: 1.6763 - val_accuracy: 0.6100\n",
            "Epoch 101/200\n",
            "3/3 [==============================] - 0s 15ms/step - loss: 0.7001 - accuracy: 0.9013 - val_loss: 1.6284 - val_accuracy: 0.6200\n",
            "Epoch 102/200\n",
            "3/3 [==============================] - 0s 17ms/step - loss: 0.6753 - accuracy: 0.9242 - val_loss: 1.6329 - val_accuracy: 0.6100\n",
            "Epoch 103/200\n",
            "3/3 [==============================] - 0s 16ms/step - loss: 0.6773 - accuracy: 0.9242 - val_loss: 1.6530 - val_accuracy: 0.6300\n",
            "Epoch 104/200\n",
            "3/3 [==============================] - 0s 15ms/step - loss: 0.6629 - accuracy: 0.9285 - val_loss: 1.6333 - val_accuracy: 0.6300\n",
            "Epoch 105/200\n",
            "3/3 [==============================] - 0s 13ms/step - loss: 0.6616 - accuracy: 0.9242 - val_loss: 1.5852 - val_accuracy: 0.6700\n",
            "Epoch 106/200\n",
            "3/3 [==============================] - 0s 14ms/step - loss: 0.6617 - accuracy: 0.9227 - val_loss: 1.6423 - val_accuracy: 0.6600\n",
            "Epoch 107/200\n",
            "3/3 [==============================] - 0s 14ms/step - loss: 0.6814 - accuracy: 0.9227 - val_loss: 1.6556 - val_accuracy: 0.6400\n",
            "Epoch 108/200\n",
            "3/3 [==============================] - 0s 13ms/step - loss: 0.6425 - accuracy: 0.9299 - val_loss: 1.6554 - val_accuracy: 0.6300\n",
            "Epoch 109/200\n",
            "3/3 [==============================] - 0s 13ms/step - loss: 0.6484 - accuracy: 0.9385 - val_loss: 1.6842 - val_accuracy: 0.6300\n",
            "Epoch 110/200\n",
            "3/3 [==============================] - 0s 18ms/step - loss: 0.6497 - accuracy: 0.9285 - val_loss: 1.6965 - val_accuracy: 0.6400\n",
            "Epoch 111/200\n",
            "3/3 [==============================] - 0s 15ms/step - loss: 0.6626 - accuracy: 0.9099 - val_loss: 1.7141 - val_accuracy: 0.6500\n",
            "Epoch 112/200\n",
            "3/3 [==============================] - 0s 13ms/step - loss: 0.6311 - accuracy: 0.9385 - val_loss: 1.6703 - val_accuracy: 0.6600\n",
            "Epoch 113/200\n",
            "3/3 [==============================] - 0s 15ms/step - loss: 0.6669 - accuracy: 0.9156 - val_loss: 1.6280 - val_accuracy: 0.6300\n",
            "Epoch 114/200\n",
            "3/3 [==============================] - 0s 14ms/step - loss: 0.6348 - accuracy: 0.9299 - val_loss: 1.6248 - val_accuracy: 0.6400\n",
            "Epoch 115/200\n",
            "3/3 [==============================] - 0s 14ms/step - loss: 0.6271 - accuracy: 0.9371 - val_loss: 1.6735 - val_accuracy: 0.6500\n",
            "Epoch 116/200\n",
            "3/3 [==============================] - 0s 14ms/step - loss: 0.6282 - accuracy: 0.9256 - val_loss: 1.7225 - val_accuracy: 0.6500\n",
            "Epoch 117/200\n",
            "3/3 [==============================] - 0s 15ms/step - loss: 0.6158 - accuracy: 0.9413 - val_loss: 1.7112 - val_accuracy: 0.6300\n",
            "Epoch 118/200\n",
            "3/3 [==============================] - 0s 14ms/step - loss: 0.5792 - accuracy: 0.9571 - val_loss: 1.6752 - val_accuracy: 0.6400\n",
            "Epoch 119/200\n",
            "3/3 [==============================] - 0s 14ms/step - loss: 0.5648 - accuracy: 0.9642 - val_loss: 1.6912 - val_accuracy: 0.6500\n",
            "Epoch 120/200\n",
            "3/3 [==============================] - 0s 14ms/step - loss: 0.6045 - accuracy: 0.9385 - val_loss: 1.7331 - val_accuracy: 0.6300\n",
            "Epoch 121/200\n",
            "3/3 [==============================] - 0s 14ms/step - loss: 0.5722 - accuracy: 0.9571 - val_loss: 1.7926 - val_accuracy: 0.6300\n",
            "Epoch 122/200\n",
            "3/3 [==============================] - 0s 14ms/step - loss: 0.5992 - accuracy: 0.9514 - val_loss: 1.8070 - val_accuracy: 0.6100\n",
            "Epoch 123/200\n",
            "3/3 [==============================] - 0s 15ms/step - loss: 0.5649 - accuracy: 0.9542 - val_loss: 1.8273 - val_accuracy: 0.6300\n",
            "Epoch 124/200\n",
            "3/3 [==============================] - 0s 15ms/step - loss: 0.5892 - accuracy: 0.9313 - val_loss: 1.8259 - val_accuracy: 0.6100\n",
            "Epoch 125/200\n",
            "3/3 [==============================] - 0s 14ms/step - loss: 0.5527 - accuracy: 0.9557 - val_loss: 1.7906 - val_accuracy: 0.6300\n",
            "Epoch 126/200\n",
            "3/3 [==============================] - 0s 15ms/step - loss: 0.5561 - accuracy: 0.9514 - val_loss: 1.8019 - val_accuracy: 0.6200\n",
            "Epoch 127/200\n",
            "3/3 [==============================] - 0s 15ms/step - loss: 0.5847 - accuracy: 0.9442 - val_loss: 1.8013 - val_accuracy: 0.6000\n",
            "Epoch 128/200\n",
            "3/3 [==============================] - 0s 16ms/step - loss: 0.5890 - accuracy: 0.9528 - val_loss: 1.7792 - val_accuracy: 0.6000\n",
            "Epoch 129/200\n",
            "3/3 [==============================] - 0s 14ms/step - loss: 0.5811 - accuracy: 0.9413 - val_loss: 1.8140 - val_accuracy: 0.5900\n",
            "Epoch 130/200\n",
            "3/3 [==============================] - 0s 15ms/step - loss: 0.5813 - accuracy: 0.9528 - val_loss: 1.8371 - val_accuracy: 0.6200\n",
            "Epoch 131/200\n",
            "3/3 [==============================] - 0s 14ms/step - loss: 0.5954 - accuracy: 0.9471 - val_loss: 1.7967 - val_accuracy: 0.6100\n",
            "Epoch 132/200\n",
            "3/3 [==============================] - 0s 16ms/step - loss: 0.5402 - accuracy: 0.9657 - val_loss: 1.7480 - val_accuracy: 0.6200\n",
            "Epoch 133/200\n",
            "3/3 [==============================] - 0s 15ms/step - loss: 0.5535 - accuracy: 0.9528 - val_loss: 1.6948 - val_accuracy: 0.6300\n",
            "Epoch 134/200\n",
            "3/3 [==============================] - 0s 14ms/step - loss: 0.5693 - accuracy: 0.9385 - val_loss: 1.7388 - val_accuracy: 0.6200\n",
            "Epoch 135/200\n",
            "3/3 [==============================] - 0s 14ms/step - loss: 0.5584 - accuracy: 0.9471 - val_loss: 1.8087 - val_accuracy: 0.6200\n",
            "Epoch 136/200\n",
            "3/3 [==============================] - 0s 16ms/step - loss: 0.5735 - accuracy: 0.9428 - val_loss: 1.7848 - val_accuracy: 0.6300\n",
            "Epoch 137/200\n",
            "3/3 [==============================] - 0s 17ms/step - loss: 0.5538 - accuracy: 0.9571 - val_loss: 1.7116 - val_accuracy: 0.6400\n",
            "Epoch 138/200\n",
            "3/3 [==============================] - 0s 14ms/step - loss: 0.5309 - accuracy: 0.9599 - val_loss: 1.6781 - val_accuracy: 0.6200\n",
            "Epoch 139/200\n",
            "3/3 [==============================] - 0s 13ms/step - loss: 0.5520 - accuracy: 0.9514 - val_loss: 1.7124 - val_accuracy: 0.6200\n",
            "Epoch 140/200\n",
            "3/3 [==============================] - 0s 15ms/step - loss: 0.5406 - accuracy: 0.9599 - val_loss: 1.7934 - val_accuracy: 0.6300\n",
            "Epoch 141/200\n",
            "3/3 [==============================] - 0s 14ms/step - loss: 0.5248 - accuracy: 0.9685 - val_loss: 1.8567 - val_accuracy: 0.6300\n",
            "Epoch 142/200\n",
            "3/3 [==============================] - 0s 15ms/step - loss: 0.5225 - accuracy: 0.9585 - val_loss: 1.8567 - val_accuracy: 0.6000\n",
            "Epoch 143/200\n",
            "3/3 [==============================] - 0s 17ms/step - loss: 0.5687 - accuracy: 0.9428 - val_loss: 1.7907 - val_accuracy: 0.6300\n",
            "Epoch 144/200\n",
            "3/3 [==============================] - 0s 14ms/step - loss: 0.5295 - accuracy: 0.9614 - val_loss: 1.7959 - val_accuracy: 0.6200\n",
            "Epoch 145/200\n",
            "3/3 [==============================] - 0s 16ms/step - loss: 0.5266 - accuracy: 0.9628 - val_loss: 1.8748 - val_accuracy: 0.6200\n",
            "Epoch 146/200\n",
            "3/3 [==============================] - 0s 14ms/step - loss: 0.5224 - accuracy: 0.9671 - val_loss: 1.9214 - val_accuracy: 0.6100\n",
            "Epoch 147/200\n",
            "3/3 [==============================] - 0s 15ms/step - loss: 0.5410 - accuracy: 0.9528 - val_loss: 1.8591 - val_accuracy: 0.6200\n",
            "Epoch 148/200\n",
            "3/3 [==============================] - 0s 15ms/step - loss: 0.5388 - accuracy: 0.9614 - val_loss: 1.7349 - val_accuracy: 0.6100\n",
            "Epoch 149/200\n",
            "3/3 [==============================] - 0s 14ms/step - loss: 0.5109 - accuracy: 0.9642 - val_loss: 1.6807 - val_accuracy: 0.6300\n",
            "Epoch 150/200\n",
            "3/3 [==============================] - 0s 17ms/step - loss: 0.5198 - accuracy: 0.9599 - val_loss: 1.6942 - val_accuracy: 0.6400\n",
            "Epoch 151/200\n",
            "3/3 [==============================] - 0s 17ms/step - loss: 0.5256 - accuracy: 0.9585 - val_loss: 1.7666 - val_accuracy: 0.6300\n",
            "Epoch 152/200\n",
            "3/3 [==============================] - 0s 16ms/step - loss: 0.5043 - accuracy: 0.9700 - val_loss: 1.8171 - val_accuracy: 0.6300\n",
            "Epoch 153/200\n",
            "3/3 [==============================] - 0s 17ms/step - loss: 0.5403 - accuracy: 0.9542 - val_loss: 1.7399 - val_accuracy: 0.6500\n",
            "Epoch 154/200\n",
            "3/3 [==============================] - 0s 15ms/step - loss: 0.5048 - accuracy: 0.9642 - val_loss: 1.6363 - val_accuracy: 0.6900\n",
            "Epoch 155/200\n",
            "3/3 [==============================] - 0s 18ms/step - loss: 0.4977 - accuracy: 0.9671 - val_loss: 1.6332 - val_accuracy: 0.6700\n",
            "Epoch 156/200\n",
            "3/3 [==============================] - 0s 15ms/step - loss: 0.5162 - accuracy: 0.9571 - val_loss: 1.6647 - val_accuracy: 0.6600\n",
            "Epoch 157/200\n",
            "3/3 [==============================] - 0s 14ms/step - loss: 0.5153 - accuracy: 0.9599 - val_loss: 1.7551 - val_accuracy: 0.6100\n",
            "Epoch 158/200\n",
            "3/3 [==============================] - 0s 13ms/step - loss: 0.5079 - accuracy: 0.9642 - val_loss: 1.8543 - val_accuracy: 0.6100\n",
            "Epoch 159/200\n",
            "3/3 [==============================] - 0s 14ms/step - loss: 0.5075 - accuracy: 0.9614 - val_loss: 1.8750 - val_accuracy: 0.5900\n",
            "Epoch 160/200\n",
            "3/3 [==============================] - 0s 15ms/step - loss: 0.4893 - accuracy: 0.9671 - val_loss: 1.7891 - val_accuracy: 0.6200\n",
            "Epoch 161/200\n",
            "3/3 [==============================] - 0s 13ms/step - loss: 0.4780 - accuracy: 0.9742 - val_loss: 1.7231 - val_accuracy: 0.6300\n",
            "Epoch 162/200\n",
            "3/3 [==============================] - 0s 14ms/step - loss: 0.4900 - accuracy: 0.9657 - val_loss: 1.7281 - val_accuracy: 0.6200\n",
            "Epoch 163/200\n",
            "3/3 [==============================] - 0s 14ms/step - loss: 0.4801 - accuracy: 0.9742 - val_loss: 1.8106 - val_accuracy: 0.6100\n",
            "Epoch 164/200\n",
            "3/3 [==============================] - 0s 17ms/step - loss: 0.5046 - accuracy: 0.9614 - val_loss: 1.8635 - val_accuracy: 0.5900\n",
            "Epoch 165/200\n",
            "3/3 [==============================] - 0s 15ms/step - loss: 0.4840 - accuracy: 0.9671 - val_loss: 1.8269 - val_accuracy: 0.5900\n",
            "Epoch 166/200\n",
            "3/3 [==============================] - 0s 14ms/step - loss: 0.5011 - accuracy: 0.9585 - val_loss: 1.7436 - val_accuracy: 0.6200\n",
            "Epoch 167/200\n",
            "3/3 [==============================] - 0s 14ms/step - loss: 0.4954 - accuracy: 0.9614 - val_loss: 1.7107 - val_accuracy: 0.6200\n",
            "Epoch 168/200\n",
            "3/3 [==============================] - 0s 14ms/step - loss: 0.4836 - accuracy: 0.9642 - val_loss: 1.7502 - val_accuracy: 0.6300\n",
            "Epoch 169/200\n",
            "3/3 [==============================] - 0s 13ms/step - loss: 0.4867 - accuracy: 0.9700 - val_loss: 1.7866 - val_accuracy: 0.6200\n",
            "Epoch 170/200\n",
            "3/3 [==============================] - 0s 15ms/step - loss: 0.4608 - accuracy: 0.9814 - val_loss: 1.8140 - val_accuracy: 0.6100\n",
            "Epoch 171/200\n",
            "3/3 [==============================] - 0s 15ms/step - loss: 0.4569 - accuracy: 0.9828 - val_loss: 1.8125 - val_accuracy: 0.6200\n",
            "Epoch 172/200\n",
            "3/3 [==============================] - 0s 16ms/step - loss: 0.4710 - accuracy: 0.9728 - val_loss: 1.7957 - val_accuracy: 0.6100\n",
            "Epoch 173/200\n",
            "3/3 [==============================] - 0s 14ms/step - loss: 0.4527 - accuracy: 0.9757 - val_loss: 1.7823 - val_accuracy: 0.6400\n",
            "Epoch 174/200\n",
            "3/3 [==============================] - 0s 16ms/step - loss: 0.4695 - accuracy: 0.9742 - val_loss: 1.8034 - val_accuracy: 0.6500\n",
            "Epoch 175/200\n",
            "3/3 [==============================] - 0s 16ms/step - loss: 0.4655 - accuracy: 0.9728 - val_loss: 1.7755 - val_accuracy: 0.6600\n",
            "Epoch 176/200\n",
            "3/3 [==============================] - 0s 15ms/step - loss: 0.4462 - accuracy: 0.9814 - val_loss: 1.7629 - val_accuracy: 0.6600\n",
            "Epoch 177/200\n",
            "3/3 [==============================] - 0s 15ms/step - loss: 0.4703 - accuracy: 0.9685 - val_loss: 1.7479 - val_accuracy: 0.6500\n",
            "Epoch 178/200\n",
            "3/3 [==============================] - 0s 15ms/step - loss: 0.4648 - accuracy: 0.9671 - val_loss: 1.7376 - val_accuracy: 0.6200\n",
            "Epoch 179/200\n",
            "3/3 [==============================] - 0s 15ms/step - loss: 0.4479 - accuracy: 0.9742 - val_loss: 1.7748 - val_accuracy: 0.6400\n",
            "Epoch 180/200\n",
            "3/3 [==============================] - 0s 14ms/step - loss: 0.4546 - accuracy: 0.9714 - val_loss: 1.8256 - val_accuracy: 0.6400\n",
            "Epoch 181/200\n",
            "3/3 [==============================] - 0s 16ms/step - loss: 0.4693 - accuracy: 0.9685 - val_loss: 1.8179 - val_accuracy: 0.6300\n",
            "Epoch 182/200\n",
            "3/3 [==============================] - 0s 15ms/step - loss: 0.4629 - accuracy: 0.9685 - val_loss: 1.8133 - val_accuracy: 0.6100\n",
            "Epoch 183/200\n",
            "3/3 [==============================] - 0s 16ms/step - loss: 0.4734 - accuracy: 0.9728 - val_loss: 1.7803 - val_accuracy: 0.6300\n",
            "Epoch 184/200\n",
            "3/3 [==============================] - 0s 14ms/step - loss: 0.4484 - accuracy: 0.9742 - val_loss: 1.7237 - val_accuracy: 0.6300\n",
            "Epoch 185/200\n",
            "3/3 [==============================] - 0s 16ms/step - loss: 0.4393 - accuracy: 0.9814 - val_loss: 1.7590 - val_accuracy: 0.6400\n",
            "Epoch 186/200\n",
            "3/3 [==============================] - 0s 17ms/step - loss: 0.4456 - accuracy: 0.9785 - val_loss: 1.7840 - val_accuracy: 0.6300\n",
            "Epoch 187/200\n",
            "3/3 [==============================] - 0s 14ms/step - loss: 0.4552 - accuracy: 0.9728 - val_loss: 1.7592 - val_accuracy: 0.6200\n",
            "Epoch 188/200\n",
            "3/3 [==============================] - 0s 14ms/step - loss: 0.4390 - accuracy: 0.9800 - val_loss: 1.7230 - val_accuracy: 0.6300\n",
            "Epoch 189/200\n",
            "3/3 [==============================] - 0s 15ms/step - loss: 0.4383 - accuracy: 0.9728 - val_loss: 1.7495 - val_accuracy: 0.6500\n",
            "Epoch 190/200\n",
            "3/3 [==============================] - 0s 15ms/step - loss: 0.4319 - accuracy: 0.9828 - val_loss: 1.7737 - val_accuracy: 0.6400\n",
            "Epoch 191/200\n",
            "3/3 [==============================] - 0s 14ms/step - loss: 0.4325 - accuracy: 0.9757 - val_loss: 1.7747 - val_accuracy: 0.6600\n",
            "Epoch 192/200\n",
            "3/3 [==============================] - 0s 14ms/step - loss: 0.4343 - accuracy: 0.9785 - val_loss: 1.7536 - val_accuracy: 0.6400\n",
            "Epoch 193/200\n",
            "3/3 [==============================] - 0s 15ms/step - loss: 0.4420 - accuracy: 0.9685 - val_loss: 1.7474 - val_accuracy: 0.6500\n",
            "Epoch 194/200\n",
            "3/3 [==============================] - 0s 14ms/step - loss: 0.4290 - accuracy: 0.9800 - val_loss: 1.7436 - val_accuracy: 0.6400\n",
            "Epoch 195/200\n",
            "3/3 [==============================] - 0s 16ms/step - loss: 0.4258 - accuracy: 0.9800 - val_loss: 1.7476 - val_accuracy: 0.6500\n",
            "Epoch 196/200\n",
            "3/3 [==============================] - 0s 16ms/step - loss: 0.4291 - accuracy: 0.9785 - val_loss: 1.7652 - val_accuracy: 0.6300\n",
            "Epoch 197/200\n",
            "3/3 [==============================] - 0s 14ms/step - loss: 0.4327 - accuracy: 0.9742 - val_loss: 1.7896 - val_accuracy: 0.6400\n",
            "Epoch 198/200\n",
            "3/3 [==============================] - 0s 14ms/step - loss: 0.4154 - accuracy: 0.9814 - val_loss: 1.8439 - val_accuracy: 0.6400\n",
            "Epoch 199/200\n",
            "3/3 [==============================] - 0s 16ms/step - loss: 0.4433 - accuracy: 0.9757 - val_loss: 1.8592 - val_accuracy: 0.6100\n",
            "Epoch 200/200\n",
            "3/3 [==============================] - 0s 15ms/step - loss: 0.4235 - accuracy: 0.9800 - val_loss: 1.7977 - val_accuracy: 0.6200\n"
          ],
          "name": "stdout"
        }
      ]
    },
    {
      "cell_type": "code",
      "metadata": {
        "colab": {
          "base_uri": "https://localhost:8080/"
        },
        "id": "fxi6ts4xvxji",
        "outputId": "8103683f-5202-4a5c-c86a-7980177ba05a"
      },
      "source": [
        "test_error,test_accuracy=model.evaluate(x_test,y_test)\n",
        "print(test_accuracy)"
      ],
      "execution_count": 40,
      "outputs": [
        {
          "output_type": "stream",
          "text": [
            "7/7 [==============================] - 0s 2ms/step - loss: 1.6526 - accuracy: 0.7100\n",
            "0.7099999785423279\n"
          ],
          "name": "stdout"
        }
      ]
    },
    {
      "cell_type": "code",
      "metadata": {
        "colab": {
          "base_uri": "https://localhost:8080/"
        },
        "id": "gMYLSUjxvzoN",
        "outputId": "5c41cab0-23a4-4168-8c0d-c25659756a9b"
      },
      "source": [
        "print(test_accuracy)"
      ],
      "execution_count": 41,
      "outputs": [
        {
          "output_type": "stream",
          "text": [
            "0.7099999785423279\n"
          ],
          "name": "stdout"
        }
      ]
    },
    {
      "cell_type": "code",
      "metadata": {
        "colab": {
          "base_uri": "https://localhost:8080/"
        },
        "id": "pNeEmi2Mv0oO",
        "outputId": "788c0dc8-1583-4511-92a0-378d383564de"
      },
      "source": [
        "results = model.evaluate(x_test, y_test)"
      ],
      "execution_count": 42,
      "outputs": [
        {
          "output_type": "stream",
          "text": [
            "7/7 [==============================] - 0s 2ms/step - loss: 1.6526 - accuracy: 0.7100\n"
          ],
          "name": "stdout"
        }
      ]
    },
    {
      "cell_type": "code",
      "metadata": {
        "colab": {
          "base_uri": "https://localhost:8080/"
        },
        "id": "IhAo5a2Ev2y7",
        "outputId": "699a2a87-4cd8-460d-8a5f-6df4d921c313"
      },
      "source": [
        "print(results)"
      ],
      "execution_count": 43,
      "outputs": [
        {
          "output_type": "stream",
          "text": [
            "[1.652583122253418, 0.7099999785423279]\n"
          ],
          "name": "stdout"
        }
      ]
    },
    {
      "cell_type": "markdown",
      "metadata": {
        "id": "oBm7qKg5wAOo"
      },
      "source": [
        ""
      ]
    },
    {
      "cell_type": "code",
      "metadata": {
        "id": "2MiaF4XswAtb"
      },
      "source": [
        "import matplotlib.pyplot as plt"
      ],
      "execution_count": 45,
      "outputs": []
    },
    {
      "cell_type": "code",
      "metadata": {
        "colab": {
          "base_uri": "https://localhost:8080/",
          "height": 294
        },
        "id": "ffyCSolmv47u",
        "outputId": "c81ce1b4-df2b-4a39-a0f0-74d2d18d0c79"
      },
      "source": [
        "plt.plot(history.history['accuracy'])\n",
        "plt.plot(history.history['val_accuracy'])\n",
        "plt.title(\"Model Accuracy\")\n",
        "plt.ylabel(\"Accuracy\")\n",
        "plt.xlabel(\"Epochs\")\n",
        "plt.legend([\"train\",\"test\"],loc=\"lower right\")\n",
        "plt.show()"
      ],
      "execution_count": 46,
      "outputs": [
        {
          "output_type": "display_data",
          "data": {
            "image/png": "[encoded data removed]",
            "text/plain": [
              "<Figure size 432x288 with 1 Axes>"
            ]
          },
          "metadata": {
            "tags": [],
            "image/png": {
              "width": 385,
              "height": 277
            },
            "needs_background": "light"
          }
        }
      ]
    },
    {
      "cell_type": "code",
      "metadata": {
        "colab": {
          "base_uri": "https://localhost:8080/",
          "height": 294
        },
        "id": "IJgZf32Vv66n",
        "outputId": "ee252547-9d5c-47ff-c28e-dd8eef32d1c1"
      },
      "source": [
        "plt.plot(history.history['loss'])\n",
        "plt.plot(history.history['val_loss'])\n",
        "plt.title(\"Model Loss\")\n",
        "plt.ylabel(\"Loss\")\n",
        "plt.xlabel(\"Epochs\")\n",
        "plt.legend([\"train\",\"test\"],loc=\"lower right\")\n",
        "plt.show()"
      ],
      "execution_count": 47,
      "outputs": [
        {
          "output_type": "display_data",
          "data": {
            "image/png": "[encoded data removed]",
            "text/plain": [
              "<Figure size 432x288 with 1 Axes>"
            ]
          },
          "metadata": {
            "tags": [],
            "image/png": {
              "width": 385,
              "height": 277
            },
            "needs_background": "light"
          }
        }
      ]
    },
    {
      "cell_type": "code",
      "metadata": {
        "colab": {
          "base_uri": "https://localhost:8080/"
        },
        "id": "iu2TPV9IwL_6",
        "outputId": "e71fc34d-219b-4fbe-bbda-69b3051a01e4"
      },
      "source": [
        "# save model\n",
        "\n",
        "model.save('/content/drive/My Drive/Muisc-genre-classification-main/results')"
      ],
      "execution_count": 50,
      "outputs": [
        {
          "output_type": "stream",
          "text": [
            "WARNING:tensorflow:From /usr/local/lib/python3.6/dist-packages/tensorflow/python/training/tracking/tracking.py:111: Model.state_updates (from tensorflow.python.keras.engine.training) is deprecated and will be removed in a future version.\n",
            "Instructions for updating:\n",
            "This property should not be used in TensorFlow 2.0, as updates are applied automatically.\n",
            "WARNING:tensorflow:From /usr/local/lib/python3.6/dist-packages/tensorflow/python/training/tracking/tracking.py:111: Layer.updates (from tensorflow.python.keras.engine.base_layer) is deprecated and will be removed in a future version.\n",
            "Instructions for updating:\n",
            "This property should not be used in TensorFlow 2.0, as updates are applied automatically.\n",
            "INFO:tensorflow:Assets written to: /content/drive/My Drive/Muisc-genre-classification-main/results/assets\n"
          ],
          "name": "stdout"
        }
      ]
    },
    {
      "cell_type": "code",
      "metadata": {
        "id": "i1dKWM0Mwc8K"
      },
      "source": [
        "import pickle\n",
        "with open('F:\\\\Sem-5\\\\SGP\\\\source\\\\my_model3.pkl', 'wb') as fid:\n",
        "    pickle.dump(model, fid)"
      ],
      "execution_count": null,
      "outputs": []
    },
    {
      "cell_type": "code",
      "metadata": {
        "colab": {
          "base_uri": "https://localhost:8080/"
        },
        "id": "j0byNRFNwjkP",
        "outputId": "53d739af-945d-4153-c548-6306810d980e"
      },
      "source": [
        "model=keras.models.load_model('/content/drive/My Drive/Muisc-genre-classification-main/results')\n",
        "model.summary()"
      ],
      "execution_count": 52,
      "outputs": [
        {
          "output_type": "stream",
          "text": [
            "Model: \"sequential\"\n",
            "_________________________________________________________________\n",
            "Layer (type)                 Output Shape              Param #   \n",
            "=================================================================\n",
            "dense (Dense)                (None, 512)               13824     \n",
            "_________________________________________________________________\n",
            "dropout (Dropout)            (None, 512)               0         \n",
            "_________________________________________________________________\n",
            "dense_1 (Dense)              (None, 256)               131328    \n",
            "_________________________________________________________________\n",
            "dropout_1 (Dropout)          (None, 256)               0         \n",
            "_________________________________________________________________\n",
            "dense_2 (Dense)              (None, 128)               32896     \n",
            "_________________________________________________________________\n",
            "dropout_2 (Dropout)          (None, 128)               0         \n",
            "_________________________________________________________________\n",
            "dense_3 (Dense)              (None, 64)                8256      \n",
            "_________________________________________________________________\n",
            "dropout_3 (Dropout)          (None, 64)                0         \n",
            "_________________________________________________________________\n",
            "dense_4 (Dense)              (None, 10)                650       \n",
            "=================================================================\n",
            "Total params: 186,954\n",
            "Trainable params: 186,954\n",
            "Non-trainable params: 0\n",
            "_________________________________________________________________\n"
          ],
          "name": "stdout"
        }
      ]
    },
    {
      "cell_type": "code",
      "metadata": {
        "colab": {
          "base_uri": "https://localhost:8080/"
        },
        "id": "20qENEPywqXP",
        "outputId": "5742f8cd-e0fa-4577-92ec-93e4e762651f"
      },
      "source": [
        "stfl_results = model.evaluate(x_test, y_test)"
      ],
      "execution_count": 53,
      "outputs": [
        {
          "output_type": "stream",
          "text": [
            "7/7 [==============================] - 0s 2ms/step - loss: 1.6526 - accuracy: 0.1350\n"
          ],
          "name": "stdout"
        }
      ]
    },
    {
      "cell_type": "code",
      "metadata": {
        "id": "Mt3v3d3_wrgD"
      },
      "source": [
        ""
      ],
      "execution_count": null,
      "outputs": []
    },
    {
      "cell_type": "code",
      "metadata": {
        "colab": {
          "base_uri": "https://localhost:8080/"
        },
        "id": "sdVQL22exxXQ",
        "outputId": "e59a6951-3c0b-40c0-d7e5-656b96f5640c"
      },
      "source": [
        "pip install librosa"
      ],
      "execution_count": 55,
      "outputs": [
        {
          "output_type": "stream",
          "text": [
            "Requirement already satisfied: librosa in /usr/local/lib/python3.6/dist-packages (0.6.3)\n",
            "Requirement already satisfied: resampy>=0.2.0 in /usr/local/lib/python3.6/dist-packages (from librosa) (0.2.2)\n",
            "Requirement already satisfied: scikit-learn!=0.19.0,>=0.14.0 in /usr/local/lib/python3.6/dist-packages (from librosa) (0.22.2.post1)\n",
            "Requirement already satisfied: scipy>=1.0.0 in /usr/local/lib/python3.6/dist-packages (from librosa) (1.4.1)\n",
            "Requirement already satisfied: decorator>=3.0.0 in /usr/local/lib/python3.6/dist-packages (from librosa) (4.4.2)\n",
            "Requirement already satisfied: numpy>=1.8.0 in /usr/local/lib/python3.6/dist-packages (from librosa) (1.18.5)\n",
            "Requirement already satisfied: joblib>=0.12 in /usr/local/lib/python3.6/dist-packages (from librosa) (0.17.0)\n",
            "Requirement already satisfied: numba>=0.38.0 in /usr/local/lib/python3.6/dist-packages (from librosa) (0.48.0)\n",
            "Requirement already satisfied: six>=1.3 in /usr/local/lib/python3.6/dist-packages (from librosa) (1.15.0)\n",
            "Requirement already satisfied: audioread>=2.0.0 in /usr/local/lib/python3.6/dist-packages (from librosa) (2.1.9)\n",
            "Requirement already satisfied: setuptools in /usr/local/lib/python3.6/dist-packages (from numba>=0.38.0->librosa) (50.3.2)\n",
            "Requirement already satisfied: llvmlite<0.32.0,>=0.31.0dev0 in /usr/local/lib/python3.6/dist-packages (from numba>=0.38.0->librosa) (0.31.0)\n"
          ],
          "name": "stdout"
        }
      ]
    },
    {
      "cell_type": "code",
      "metadata": {
        "id": "MKPeiD--x2ur"
      },
      "source": [
        "import librosa"
      ],
      "execution_count": 57,
      "outputs": []
    },
    {
      "cell_type": "code",
      "metadata": {
        "colab": {
          "base_uri": "https://localhost:8080/",
          "height": 419
        },
        "id": "d_930xCOwN83",
        "outputId": "e062dffb-f578-4289-df64-d5730d35a2fe"
      },
      "source": [
        "from sklearn.preprocessing import StandardScaler\n",
        "q=StandardScaler()\n",
        "dhruv=q.fit(x)\n",
        "\n",
        "new_song='/content/drive/My Drive/Muisc-genre-classification-main/blues.00026.wav'\n",
        "new_signal,sr=librosa.load(new_song,duration=60)\n",
        "f1 = librosa.feature.mfcc(new_signal,sr=sr)\n",
        "f2 = librosa.feature.rms(y=new_signal)\n",
        "f3 = librosa.feature.spectral_centroid(y=new_signal, sr=sr)\n",
        "f4 = librosa.feature.spectral_bandwidth(y=new_signal, sr=sr)\n",
        "f5 = librosa.feature.spectral_rolloff(y=new_signal, sr=sr)\n",
        "f6 = librosa.feature.zero_crossing_rate(new_signal)\n",
        "f7 = librosa.feature.chroma_stft(y=new_signal, sr=sr)\n",
        "\n",
        "##print(mfccs)\n",
        "##print(mfccs.shape)\n",
        "\n",
        "##librosa.display.specshow(mfccs, sr=sr,x_axis='time')\n",
        "##plt.xlabel(\"Time\") \n",
        "##plt.ylabel(\"MFCC\")\n",
        "##plt.colorbar()\n",
        "##plt.show()\n",
        "new=[]\n",
        "new.append(np.mean(f7))\n",
        "new.append(np.mean(f2))\n",
        "new.append(np.mean(f3))\n",
        "new.append(np.mean(f4))\n",
        "new.append(np.mean(f5))\n",
        "new.append(np.mean(f6))\n",
        "\n",
        "\n",
        "\n",
        "for e in f1:\n",
        "  new.append(np.mean(e))\n",
        "\n",
        "##print(to)\n",
        "final_new=[new]\n",
        "##print(arr)\n",
        "#print(final_new)\n",
        "#abcd=q.fit_transform(final_new)\n",
        "final_new=np.array(final_new)\n",
        "final_pree= model.predict(sc.transform(final_new))\n",
        "##print(predictions.shape)\n",
        "#print(abcd)\n",
        "#print(abc)\n",
        "print(final_new.shape)\n",
        "print(sc.transform(final_new))\n",
        "r=np.argmax(final_pree)\n",
        "#print(final_pre)\n",
        "#print(r)\n",
        "if r==0:\n",
        "  print(\"The genre for this song is Blues\")\n",
        "elif r==1:\n",
        "  print(\"The genere for this song is Classical\")\n",
        "elif r==2:\n",
        "  print(\"The genere for this song is Country\")\n",
        "elif r==3:\n",
        "  print(\"The genere for this song is Disco\")\n",
        "elif r==4:\n",
        "  print(\"The genere for this song is HipHop\")\n",
        "elif r==5:\n",
        "  print(\"The genere for this song is Jazz\")\n",
        "elif r==6:\n",
        "  print(\"The genere for this song is Mental\")\n",
        "elif r==7:\n",
        "  print(\"The genere for this song is Pop\")\n",
        "elif r==8:\n",
        "  print(\"The genere for this song is Reggae\")\n",
        "elif r==9:\n",
        "  print(\"The genere for this song is Rock\")\n",
        "tags = ['Blues', 'Classical', 'Country', 'Disco', 'HipHop', 'Jazz', 'Mental', 'Pop', 'Reggae', 'Rock']\n",
        "tags = np.array(tags)\n",
        "\n",
        "colors = ['b','g','c','r','m','k','y','#ff1122','#5511ff','#44ff22']\n",
        "fig, ax = plt.subplots()\n",
        "index = np.arange(tags.shape[0])\n",
        "opacity = 1\n",
        "bar_width = 0.2\n",
        "mean=final_pree.flatten() \n",
        "#for g in rini_array1.flatten() ange(0, tags.shape[0]):\n",
        "plt.bar(x=index, height=mean, width=bar_width, alpha=opacity, color=colors)\n",
        "plt.rcParams[\"figure.figsize\"] = (10, 6)\n",
        "\n",
        "plt.xlabel('Genres')\n",
        "plt.ylabel('Percentage')\n",
        "plt.title('Scores by genre')\n",
        "plt.xticks(index + bar_width / 2, tags)\n",
        "plt.tight_layout()\n",
        "fig.autofmt_xdate()\n",
        "\n",
        "xq=plt.show()"
      ],
      "execution_count": 58,
      "outputs": [
        {
          "output_type": "stream",
          "text": [
            "(1, 26)\n",
            "[[-1.2296222  -0.81895141 -1.40257078 -1.27145623 -1.33102626 -1.23643636\n",
            "  -1.40013888  0.29433194  0.83235927  0.89693711  1.57699287 -0.59222746\n",
            "   1.39887731 -0.74196649  0.84750118 -0.69258874  1.49798075 -1.15860232\n",
            "   1.03910911  0.18145797  1.48800264  0.46799158 -0.12270292 -0.0032813\n",
            "   2.19680345  1.12287598]]\n",
            "The genre for this song is Blues\n"
          ],
          "name": "stdout"
        },
        {
          "output_type": "display_data",
          "data": {
            "image/png": "[encoded data removed]",
            "text/plain": [
              "<Figure size 432x288 with 1 Axes>"
            ]
          },
          "metadata": {
            "tags": [],
            "image/png": {
              "width": 424,
              "height": 283
            },
            "needs_background": "light"
          }
        }
      ]
    },
    {
      "cell_type": "code",
      "metadata": {
        "colab": {
          "base_uri": "https://localhost:8080/"
        },
        "id": "A71TZSRDyGty",
        "outputId": "48a5023c-1d38-490b-a5df-48b2082fa204"
      },
      "source": [
        "pip install stfl"
      ],
      "execution_count": 61,
      "outputs": [
        {
          "output_type": "stream",
          "text": [
            "\u001b[31mERROR: Could not find a version that satisfies the requirement stfl (from versions: none)\u001b[0m\n",
            "\u001b[31mERROR: No matching distribution found for stfl\u001b[0m\n"
          ],
          "name": "stdout"
        }
      ]
    },
    {
      "cell_type": "code",
      "metadata": {
        "colab": {
          "base_uri": "https://localhost:8080/",
          "height": 300
        },
        "id": "0a5q5wZmyZpT",
        "outputId": "90a3741b-9b0a-4cd2-ec9e-ddba70afce24"
      },
      "source": [
        "import stfl"
      ],
      "execution_count": 62,
      "outputs": [
        {
          "output_type": "error",
          "ename": "ModuleNotFoundError",
          "evalue": "ignored",
          "traceback": [
            "\u001b[0;31m---------------------------------------------------------------------------\u001b[0m",
            "\u001b[0;31mModuleNotFoundError\u001b[0m                       Traceback (most recent call last)",
            "\u001b[0;32m<ipython-input-62-7c6bfe3aa9ad>\u001b[0m in \u001b[0;36m<module>\u001b[0;34m()\u001b[0m\n\u001b[0;32m----> 1\u001b[0;31m \u001b[0;32mimport\u001b[0m \u001b[0mstfl\u001b[0m\u001b[0;34m\u001b[0m\u001b[0;34m\u001b[0m\u001b[0m\n\u001b[0m",
            "\u001b[0;31mModuleNotFoundError\u001b[0m: No module named 'stfl'",
            "",
            "\u001b[0;31m---------------------------------------------------------------------------\u001b[0;32m\nNOTE: If your import is failing due to a missing package, you can\nmanually install dependencies using either !pip or !apt.\n\nTo view examples of installing some common dependencies, click the\n\"Open Examples\" button below.\n\u001b[0;31m---------------------------------------------------------------------------\u001b[0m\n"
          ]
        }
      ]
    },
    {
      "cell_type": "code",
      "metadata": {
        "colab": {
          "base_uri": "https://localhost:8080/",
          "height": 232
        },
        "id": "efmMOPf2wsFH",
        "outputId": "631b2309-5a01-4894-85d6-d84656496778"
      },
      "source": [
        "xy = stfl.predict(x_test)\n",
        "##print(predictions.shape)\n",
        "print(x[0])\n",
        "print(x_test.shape)\n",
        "\n",
        "result=np.argmax(xy[46])\n",
        "print(result)\n",
        "print(y_test[46])"
      ],
      "execution_count": 59,
      "outputs": [
        {
          "output_type": "error",
          "ename": "NameError",
          "evalue": "ignored",
          "traceback": [
            "\u001b[0;31m---------------------------------------------------------------------------\u001b[0m",
            "\u001b[0;31mNameError\u001b[0m                                 Traceback (most recent call last)",
            "\u001b[0;32m<ipython-input-59-9e81c3ffaf1a>\u001b[0m in \u001b[0;36m<module>\u001b[0;34m()\u001b[0m\n\u001b[0;32m----> 1\u001b[0;31m \u001b[0mxy\u001b[0m \u001b[0;34m=\u001b[0m \u001b[0mstfl\u001b[0m\u001b[0;34m.\u001b[0m\u001b[0mpredict\u001b[0m\u001b[0;34m(\u001b[0m\u001b[0mx_test\u001b[0m\u001b[0;34m)\u001b[0m\u001b[0;34m\u001b[0m\u001b[0;34m\u001b[0m\u001b[0m\n\u001b[0m\u001b[1;32m      2\u001b[0m \u001b[0;31m##print(predictions.shape)\u001b[0m\u001b[0;34m\u001b[0m\u001b[0;34m\u001b[0m\u001b[0;34m\u001b[0m\u001b[0m\n\u001b[1;32m      3\u001b[0m \u001b[0mprint\u001b[0m\u001b[0;34m(\u001b[0m\u001b[0mx\u001b[0m\u001b[0;34m[\u001b[0m\u001b[0;36m0\u001b[0m\u001b[0;34m]\u001b[0m\u001b[0;34m)\u001b[0m\u001b[0;34m\u001b[0m\u001b[0;34m\u001b[0m\u001b[0m\n\u001b[1;32m      4\u001b[0m \u001b[0mprint\u001b[0m\u001b[0;34m(\u001b[0m\u001b[0mx_test\u001b[0m\u001b[0;34m.\u001b[0m\u001b[0mshape\u001b[0m\u001b[0;34m)\u001b[0m\u001b[0;34m\u001b[0m\u001b[0;34m\u001b[0m\u001b[0m\n\u001b[1;32m      5\u001b[0m \u001b[0;34m\u001b[0m\u001b[0m\n",
            "\u001b[0;31mNameError\u001b[0m: name 'stfl' is not defined"
          ]
        }
      ]
    },
    {
      "cell_type": "code",
      "metadata": {
        "colab": {
          "base_uri": "https://localhost:8080/"
        },
        "id": "ZIo89IBNyBVh",
        "outputId": "05241075-78fd-476b-c42a-234c909b3b90"
      },
      "source": [
        "print(x_train[0])"
      ],
      "execution_count": 63,
      "outputs": [
        {
          "output_type": "stream",
          "text": [
            "[-0.37654624  0.33793307 -0.89632541 -0.87381916 -0.88782687 -0.87259066\n",
            " -0.03883645  0.87255834 -0.48924337  0.99173689  0.79636151  0.27450826\n",
            " -0.29521187  0.73170631 -1.02548536  0.72746518 -0.72288627  0.74379678\n",
            "  0.4656586   0.01621625  0.24815915  0.48698614  0.09876218  0.41287163\n",
            "  1.17773592  0.25979731]\n"
          ],
          "name": "stdout"
        }
      ]
    },
    {
      "cell_type": "code",
      "metadata": {
        "colab": {
          "base_uri": "https://localhost:8080/"
        },
        "id": "cZ02gwn5z3VB",
        "outputId": "9a3ea7ce-a6d8-4609-e921-a775c46fafcb"
      },
      "source": [
        "new_arr=data.iloc[:,7:-1].values\n",
        "new_lable=data.iloc[:,0:1].values\n",
        "a=new_arr.mean(axis=1)\n",
        "print(new_lable[0][0])\n",
        "print(a[0])\n",
        "new_arr[0].shape"
      ],
      "execution_count": 64,
      "outputs": [
        {
          "output_type": "stream",
          "text": [
            "rock.00008.wav\n",
            "5.135138930501756\n"
          ],
          "name": "stdout"
        },
        {
          "output_type": "execute_result",
          "data": {
            "text/plain": [
              "(20,)"
            ]
          },
          "metadata": {
            "tags": []
          },
          "execution_count": 64
        }
      ]
    },
    {
      "cell_type": "code",
      "metadata": {
        "id": "REAhVXty0MvA"
      },
      "source": [
        "import csv"
      ],
      "execution_count": 66,
      "outputs": []
    },
    {
      "cell_type": "code",
      "metadata": {
        "id": "ShfBPox7z5W6"
      },
      "source": [
        "head=[\"File-Name\",\"Rating\"]\n",
        "with open('data3.csv','w',newline='') as files:\n",
        "    thewriter=csv.writer(files)\n",
        "\n",
        "    thewriter.writerow(head)\n",
        "for i in range(0,999):\n",
        "    row=[]\n",
        "    row.append(new_lable[i][0])\n",
        "    row.append(a[i])\n",
        "    \n",
        "    with open('data3.csv','a',newline='') as files:\n",
        "        writer=csv.writer(files)\n",
        "        writer.writerow(row)"
      ],
      "execution_count": 67,
      "outputs": []
    },
    {
      "cell_type": "code",
      "metadata": {
        "colab": {
          "base_uri": "https://localhost:8080/",
          "height": 324
        },
        "id": "eBjCW-270QG_",
        "outputId": "89b23c07-f4ef-4ffd-e825-9fe1335d9a5c"
      },
      "source": [
        "new_data2=pd.DataFrame(data.groupby(\"File-name\") [\"new_arr\"])\n",
        "new_data2"
      ],
      "execution_count": 68,
      "outputs": [
        {
          "output_type": "error",
          "ename": "KeyError",
          "evalue": "ignored",
          "traceback": [
            "\u001b[0;31m---------------------------------------------------------------------------\u001b[0m",
            "\u001b[0;31mKeyError\u001b[0m                                  Traceback (most recent call last)",
            "\u001b[0;32m<ipython-input-68-4eb2e57f12fe>\u001b[0m in \u001b[0;36m<module>\u001b[0;34m()\u001b[0m\n\u001b[0;32m----> 1\u001b[0;31m \u001b[0mnew_data2\u001b[0m\u001b[0;34m=\u001b[0m\u001b[0mpd\u001b[0m\u001b[0;34m.\u001b[0m\u001b[0mDataFrame\u001b[0m\u001b[0;34m(\u001b[0m\u001b[0mdata\u001b[0m\u001b[0;34m.\u001b[0m\u001b[0mgroupby\u001b[0m\u001b[0;34m(\u001b[0m\u001b[0;34m\"File-name\"\u001b[0m\u001b[0;34m)\u001b[0m \u001b[0;34m[\u001b[0m\u001b[0;34m\"new_arr\"\u001b[0m\u001b[0;34m]\u001b[0m\u001b[0;34m)\u001b[0m\u001b[0;34m\u001b[0m\u001b[0;34m\u001b[0m\u001b[0m\n\u001b[0m\u001b[1;32m      2\u001b[0m \u001b[0mnew_data2\u001b[0m\u001b[0;34m\u001b[0m\u001b[0;34m\u001b[0m\u001b[0m\n",
            "\u001b[0;32m/usr/local/lib/python3.6/dist-packages/pandas/core/groupby/generic.py\u001b[0m in \u001b[0;36m__getitem__\u001b[0;34m(self, key)\u001b[0m\n\u001b[1;32m   1608\u001b[0m                 \u001b[0mstacklevel\u001b[0m\u001b[0;34m=\u001b[0m\u001b[0;36m2\u001b[0m\u001b[0;34m,\u001b[0m\u001b[0;34m\u001b[0m\u001b[0;34m\u001b[0m\u001b[0m\n\u001b[1;32m   1609\u001b[0m             )\n\u001b[0;32m-> 1610\u001b[0;31m         \u001b[0;32mreturn\u001b[0m \u001b[0msuper\u001b[0m\u001b[0;34m(\u001b[0m\u001b[0;34m)\u001b[0m\u001b[0;34m.\u001b[0m\u001b[0m__getitem__\u001b[0m\u001b[0;34m(\u001b[0m\u001b[0mkey\u001b[0m\u001b[0;34m)\u001b[0m\u001b[0;34m\u001b[0m\u001b[0;34m\u001b[0m\u001b[0m\n\u001b[0m\u001b[1;32m   1611\u001b[0m \u001b[0;34m\u001b[0m\u001b[0m\n\u001b[1;32m   1612\u001b[0m     \u001b[0;32mdef\u001b[0m \u001b[0m_gotitem\u001b[0m\u001b[0;34m(\u001b[0m\u001b[0mself\u001b[0m\u001b[0;34m,\u001b[0m \u001b[0mkey\u001b[0m\u001b[0;34m,\u001b[0m \u001b[0mndim\u001b[0m\u001b[0;34m:\u001b[0m \u001b[0mint\u001b[0m\u001b[0;34m,\u001b[0m \u001b[0msubset\u001b[0m\u001b[0;34m=\u001b[0m\u001b[0;32mNone\u001b[0m\u001b[0;34m)\u001b[0m\u001b[0;34m:\u001b[0m\u001b[0;34m\u001b[0m\u001b[0;34m\u001b[0m\u001b[0m\n",
            "\u001b[0;32m/usr/local/lib/python3.6/dist-packages/pandas/core/base.py\u001b[0m in \u001b[0;36m__getitem__\u001b[0;34m(self, key)\u001b[0m\n\u001b[1;32m    226\u001b[0m         \u001b[0;32melse\u001b[0m\u001b[0;34m:\u001b[0m\u001b[0;34m\u001b[0m\u001b[0;34m\u001b[0m\u001b[0m\n\u001b[1;32m    227\u001b[0m             \u001b[0;32mif\u001b[0m \u001b[0mkey\u001b[0m \u001b[0;32mnot\u001b[0m \u001b[0;32min\u001b[0m \u001b[0mself\u001b[0m\u001b[0;34m.\u001b[0m\u001b[0mobj\u001b[0m\u001b[0;34m:\u001b[0m\u001b[0;34m\u001b[0m\u001b[0;34m\u001b[0m\u001b[0m\n\u001b[0;32m--> 228\u001b[0;31m                 \u001b[0;32mraise\u001b[0m \u001b[0mKeyError\u001b[0m\u001b[0;34m(\u001b[0m\u001b[0;34mf\"Column not found: {key}\"\u001b[0m\u001b[0;34m)\u001b[0m\u001b[0;34m\u001b[0m\u001b[0;34m\u001b[0m\u001b[0m\n\u001b[0m\u001b[1;32m    229\u001b[0m             \u001b[0;32mreturn\u001b[0m \u001b[0mself\u001b[0m\u001b[0;34m.\u001b[0m\u001b[0m_gotitem\u001b[0m\u001b[0;34m(\u001b[0m\u001b[0mkey\u001b[0m\u001b[0;34m,\u001b[0m \u001b[0mndim\u001b[0m\u001b[0;34m=\u001b[0m\u001b[0;36m1\u001b[0m\u001b[0;34m)\u001b[0m\u001b[0;34m\u001b[0m\u001b[0;34m\u001b[0m\u001b[0m\n\u001b[1;32m    230\u001b[0m \u001b[0;34m\u001b[0m\u001b[0m\n",
            "\u001b[0;31mKeyError\u001b[0m: 'Column not found: new_arr'"
          ]
        }
      ]
    },
    {
      "cell_type": "code",
      "metadata": {
        "id": "ewR7Dqek0V9Y"
      },
      "source": [
        "new_data=pd.DataFrame(data.groupby('File-name')[\"zcr\"].mean())\n",
        "new_data"
      ],
      "execution_count": null,
      "outputs": []
    },
    {
      "cell_type": "code",
      "metadata": {
        "id": "gef-E4vz0W_m"
      },
      "source": [
        "data2=pd.read_csv('F:\\Sem-5\\SGP\\source\\data3.csv')\n",
        "data2.head()"
      ],
      "execution_count": null,
      "outputs": []
    },
    {
      "cell_type": "code",
      "metadata": {
        "id": "szZ4iKQl0a9M"
      },
      "source": [
        "new_data3=pd.DataFrame(data2.groupby(\"File-Name\") [\"Rating\"].mean())\n",
        "new_data3"
      ],
      "execution_count": null,
      "outputs": []
    }
  ]
}