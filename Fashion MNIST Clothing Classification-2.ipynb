{
 "cells": [
  {
   "cell_type": "code",
   "execution_count": 3,
   "metadata": {},
   "outputs": [
    {
     "name": "stderr",
     "output_type": "stream",
     "text": [
      "Using TensorFlow backend.\n"
     ]
    }
   ],
   "source": [
    "from keras.datasets import fashion_mnist"
   ]
  },
  {
   "cell_type": "code",
   "execution_count": 55,
   "metadata": {},
   "outputs": [],
   "source": [
    "(train_X,train_Y), (test_X, test_Y) = fashion_mnist.load_data()"
   ]
  },
  {
   "cell_type": "code",
   "execution_count": null,
   "metadata": {},
   "outputs": [],
   "source": [
    "# Next we analyze how images in the dataset look like\n",
    "# Even though you know the dimension of the images by now, it's still worth the effort to analyze it programmatically: you might have to rescale the image pixels and resize the images."
   ]
  },
  {
   "cell_type": "code",
   "execution_count": 56,
   "metadata": {},
   "outputs": [],
   "source": [
    "import numpy as np\n",
    "from keras.utils import to_categorical #convert to binay?\n",
    "import matplotlib.pyplot as plt\n",
    "%matplotlib inline\n",
    "import tensorflow as tf "
   ]
  },
  {
   "cell_type": "code",
   "execution_count": 6,
   "metadata": {},
   "outputs": [
    {
     "name": "stdout",
     "output_type": "stream",
     "text": [
      "Training data shape: (60000, 28, 28) (60000,)\n",
      "Testing data shape: (10000, 28, 28) (10000,)\n"
     ]
    }
   ],
   "source": [
    "print ('Training data shape:', train_X.shape, train_Y.shape)\n",
    "print ('Testing data shape:', test_X.shape, test_Y.shape)"
   ]
  },
  {
   "cell_type": "code",
   "execution_count": null,
   "metadata": {},
   "outputs": [],
   "source": [
    "# From the above output, we can see that the training data has a shape of 60000 x 28 x 28 since there are 60,000 training samples each of 28 x 28 dimension. Similarly, the test data has a shape of 10000 x 28 x 28 since there are 10,000 testing samples."
   ]
  },
  {
   "cell_type": "code",
   "execution_count": 7,
   "metadata": {},
   "outputs": [
    {
     "name": "stdout",
     "output_type": "stream",
     "text": [
      "Total number of outputs: 10\n",
      "Output classes: [0 1 2 3 4 5 6 7 8 9]\n"
     ]
    }
   ],
   "source": [
    "# Find the unique numbers from the train labels\n",
    "classes = np.unique(train_Y)\n",
    "nClasses = len(classes) #len ?\n",
    "print('Total number of outputs:', nClasses)\n",
    "print('Output classes:', classes)"
   ]
  },
  {
   "cell_type": "code",
   "execution_count": null,
   "metadata": {},
   "outputs": [],
   "source": [
    "# From the result above, there's a total of ten output classes that range from 0 to 9. Also, we can take a look at what the images in your dataset:"
   ]
  },
  {
   "cell_type": "code",
   "execution_count": 57,
   "metadata": {},
   "outputs": [
    {
     "data": {
      "text/plain": [
       "Text(0.5, 1.0, 'Ground Truth:9')"
      ]
     },
     "execution_count": 57,
     "metadata": {},
     "output_type": "execute_result"
    },
    {
     "data": {
      "image/png": "[encoded data removed]",
      "text/plain": [
       "<Figure size 360x360 with 2 Axes>"
      ]
     },
     "metadata": {
      "needs_background": "light"
     },
     "output_type": "display_data"
    }
   ],
   "source": [
    "plt.figure(figsize = [5,5])\n",
    "\n",
    "# Display the first image in training data\n",
    "plt.subplot(121) #what does it stand for?\n",
    "plt.imshow(train_X[0,:,:], cmap = 'gray')\n",
    "plt.title('Ground Truth:{}'.format(train_Y[0]))\n",
    "\n",
    "# Display the first image in testing data\n",
    "plt.subplot(122)\n",
    "plt.imshow(test_X[0,:,:],cmap = 'gray')\n",
    "plt.title('Ground Truth:{}'.format(test_Y[0]))\n"
   ]
  },
  {
   "cell_type": "code",
   "execution_count": 65,
   "metadata": {},
   "outputs": [],
   "source": [
    "# The output of above two plots looks like an ankle boot, and this class is assigned a class label of 9. Similarly, other fashion products will have different labels, but similar products will have same labels. This means that all the 7,000 ankle boot images will have a class label of 9."
   ]
  },
  {
   "cell_type": "code",
   "execution_count": 66,
   "metadata": {},
   "outputs": [],
   "source": [
    "# Data Processing\n",
    "\n",
    "# As we can see in the above plot, the images are grayscale images have pixel values that range from 0 to 255. Also, these images have a dimension of 28 x 28. As a result, we'll need to preprocess the data before you feed it into the model.\n"
   ]
  },
  {
   "cell_type": "code",
   "execution_count": 62,
   "metadata": {},
   "outputs": [
    {
     "data": {
      "text/plain": [
       "((48000, 28, 28, 1), (10000, 28, 28, 1))"
      ]
     },
     "execution_count": 62,
     "metadata": {},
     "output_type": "execute_result"
    }
   ],
   "source": [
    "# First, convert each 28 x 28 image of the train and test set into a matrix of size 28 x 28 x 1 which is fed into the network.\n",
    "\n",
    "train_X = train_X.reshape(-1,28,28,1) # why -1?\n",
    "test_X = test_X.reshape(-1,28,28,1)\n",
    "train_X.shape, test_X.shape"
   ]
  },
  {
   "cell_type": "code",
   "execution_count": 63,
   "metadata": {},
   "outputs": [],
   "source": [
    "# The data right now is in an int8 format, # what is int8 so before you feed it into the network you need to convert its type to float32, and you also have to rescale the pixel values in range 0 - 1 inclusive. \n",
    "\n",
    "train_X = train_X.astype('float32')\n",
    "test_X = test_X.astype('float32')\n",
    "train_X = train_X / 255. \n",
    "test_X = test_X / 255.\n"
   ]
  },
  {
   "cell_type": "code",
   "execution_count": 60,
   "metadata": {},
   "outputs": [
    {
     "name": "stdout",
     "output_type": "stream",
     "text": [
      "Original label: 9\n",
      "After conversion to one-hot: [0. 0. 0. 0. 0. 0. 0. 0. 0. 1.]\n"
     ]
    }
   ],
   "source": [
    "# Change the labels from categorical to one-hot encoding\n",
    "train_Y_one_hot = to_categorical(train_Y)\n",
    "test_Y_one_hot = to_categorical(test_Y)\n",
    "\n",
    "# Display the change for category label using one-hot encoding\n",
    "print('Original label:',train_Y[0]) \n",
    "print('After conversion to one-hot:',train_Y_one_hot[0])"
   ]
  },
  {
   "cell_type": "code",
   "execution_count": 61,
   "metadata": {},
   "outputs": [],
   "source": [
    "# train the model on 80\\% of the training data and validate it on 20\\% of the remaining training data.\n",
    "\n",
    "from sklearn.model_selection import train_test_split\n",
    "train_X, valid_X, train_label, valid_label = train_test_split(train_X, train_Y_one_hot,test_size = 0.2, random_state= 13)"
   ]
  },
  {
   "cell_type": "code",
   "execution_count": 17,
   "metadata": {},
   "outputs": [
    {
     "data": {
      "text/plain": [
       "((48000, 28, 28, 1), (12000, 28, 28, 1), (48000, 10), (12000, 10))"
      ]
     },
     "execution_count": 17,
     "metadata": {},
     "output_type": "execute_result"
    }
   ],
   "source": [
    "# check the shape of training and validation set\n",
    "train_X.shape, valid_X.shape, train_label.shape, valid_label.shape"
   ]
  },
  {
   "cell_type": "code",
   "execution_count": null,
   "metadata": {},
   "outputs": [],
   "source": [
    "# The Network (The Architecture of the Model)\n",
    "\n",
    "# we use 3 convolutional layers:\n",
    "# 1stlayer: 32 - 3x3 filters\n",
    "# 2ndlayer: 64 - 3x3 filters\n",
    "# flatten\n",
    "# 3rdlayer: 128 - 3x3 filters \n",
    "# In addition, 3 max-pooling layers with size of 2x2 each will be applied as well\n",
    "# Dense layer/ fully connected layer\n",
    "# -- Output layer"
   ]
  },
  {
   "cell_type": "code",
   "execution_count": 13,
   "metadata": {},
   "outputs": [],
   "source": [
    "from tensorflow.keras import layers #My code"
   ]
  },
  {
   "cell_type": "code",
   "execution_count": 16,
   "metadata": {},
   "outputs": [],
   "source": [
    "# Model the Data\n",
    "\n",
    "# first import the necessary modules required to train the model.\n",
    "import keras\n",
    "from keras.models import Sequential, Input, Model\n",
    "from keras.layers import Dense, Dropout, Flatten\n",
    "from keras.layers import Conv2D, MaxPooling2D\n",
    "from keras.layers.normalization import BatchNormalization\n",
    "from keras.layers import LeakyReLU"
   ]
  },
  {
   "cell_type": "code",
   "execution_count": 17,
   "metadata": {},
   "outputs": [],
   "source": [
    "batch_size = 64\n",
    "epochs = 20\n",
    "num_classes = 10"
   ]
  },
  {
   "cell_type": "code",
   "execution_count": 37,
   "metadata": {},
   "outputs": [],
   "source": [
    "#Neural Network Architecture # read lecture 6\n",
    "\n",
    "# Leaky ReLUs attempt to solve this: the function will not be zero but will instead have a small negative slope.\n",
    "\n",
    "fashion_model = Sequential() #the original model?\n",
    "fashion_model.add(Conv2D(32,kernel_size= (3,3),\n",
    "                         activation = 'linear',\n",
    "                         input_shape = (28,28,1), padding = 'same'))\n",
    "fashion_model.add(LeakyReLU(alpha = 0.1)) #what's alpha here? = learning rate\n",
    "fashion_model.add(MaxPooling2D((2,2),padding = 'same'))\n",
    "\n",
    "fashion_model.add(Conv2D(64, (3,3),activation = 'linear',padding = 'same'))\n",
    "fashion_model.add(LeakyReLU(alpha=0.1))\n",
    "fashion_model.add(MaxPooling2D(pool_size=(2,2), padding = 'same'))\n",
    "\n",
    "fashion_model.add(Conv2D(128, (3,3), activation = 'linear', padding = 'same'))\n",
    "fashion_model.add(LeakyReLU(alpha = 0.1))\n",
    "fashion_model.add(MaxPooling2D((2,2),padding = 'same'))\n",
    "\n",
    "fashion_model.add(Flatten())\n",
    "\n",
    "fashion_model.add(Dense(128, activation = 'linear'))\n",
    "fashion_model.add(LeakyReLU(alpha = 0.1))\n",
    "fashion_model.add(Dense(num_classes, activation = 'softmax'))\n"
   ]
  },
  {
   "cell_type": "code",
   "execution_count": 38,
   "metadata": {},
   "outputs": [],
   "source": [
    "# Compile the Model with Adam optimizer\n",
    "# Read cross-entropy\n",
    "\n",
    "fashion_model.compile(loss = keras.losses.categorical_crossentropy, \n",
    "                      optimizer = keras.optimizers.Adam(),\n",
    "                      metrics = ['accuracy'])\n"
   ]
  },
  {
   "cell_type": "code",
   "execution_count": 64,
   "metadata": {},
   "outputs": [
    {
     "name": "stdout",
     "output_type": "stream",
     "text": [
      "Model: \"sequential_1\"\n",
      "_________________________________________________________________\n",
      "Layer (type)                 Output Shape              Param #   \n",
      "=================================================================\n",
      "conv2d_1 (Conv2D)            (None, 28, 28, 32)        320       \n",
      "_________________________________________________________________\n",
      "leaky_re_lu_1 (LeakyReLU)    (None, 28, 28, 32)        0         \n",
      "_________________________________________________________________\n",
      "max_pooling2d_1 (MaxPooling2 (None, 14, 14, 32)        0         \n",
      "_________________________________________________________________\n",
      "dropout_1 (Dropout)          (None, 14, 14, 32)        0         \n",
      "_________________________________________________________________\n",
      "conv2d_2 (Conv2D)            (None, 14, 14, 64)        18496     \n",
      "_________________________________________________________________\n",
      "leaky_re_lu_2 (LeakyReLU)    (None, 14, 14, 64)        0         \n",
      "_________________________________________________________________\n",
      "max_pooling2d_2 (MaxPooling2 (None, 7, 7, 64)          0         \n",
      "_________________________________________________________________\n",
      "dropout_2 (Dropout)          (None, 7, 7, 64)          0         \n",
      "_________________________________________________________________\n",
      "conv2d_3 (Conv2D)            (None, 7, 7, 128)         73856     \n",
      "_________________________________________________________________\n",
      "leaky_re_lu_3 (LeakyReLU)    (None, 7, 7, 128)         0         \n",
      "_________________________________________________________________\n",
      "max_pooling2d_3 (MaxPooling2 (None, 4, 4, 128)         0         \n",
      "_________________________________________________________________\n",
      "dropout_3 (Dropout)          (None, 4, 4, 128)         0         \n",
      "_________________________________________________________________\n",
      "flatten_1 (Flatten)          (None, 2048)              0         \n",
      "_________________________________________________________________\n",
      "dense_1 (Dense)              (None, 128)               262272    \n",
      "_________________________________________________________________\n",
      "leaky_re_lu_4 (LeakyReLU)    (None, 128)               0         \n",
      "_________________________________________________________________\n",
      "dropout_4 (Dropout)          (None, 128)               0         \n",
      "_________________________________________________________________\n",
      "dense_2 (Dense)              (None, 10)                1290      \n",
      "=================================================================\n",
      "Total params: 356,234\n",
      "Trainable params: 356,234\n",
      "Non-trainable params: 0\n",
      "_________________________________________________________________\n"
     ]
    }
   ],
   "source": [
    "#Visualize the layers that you created in the above step by using the summary function. \n",
    "#This will show some parameters (weights and biases) in each layer and also the total parameters in your model.\n",
    "\n",
    "fashion_model.summary()\n"
   ]
  },
  {
   "cell_type": "code",
   "execution_count": 40,
   "metadata": {},
   "outputs": [
    {
     "name": "stdout",
     "output_type": "stream",
     "text": [
      "Train on 48000 samples, validate on 12000 samples\n",
      "Epoch 1/20\n",
      "48000/48000 [==============================] - 38s 801us/step - loss: 0.8207 - accuracy: 0.6919 - val_loss: 0.5662 - val_accuracy: 0.7845\n",
      "Epoch 2/20\n",
      "48000/48000 [==============================] - 47s 985us/step - loss: 0.4704 - accuracy: 0.8264 - val_loss: 0.4413 - val_accuracy: 0.8372\n",
      "Epoch 3/20\n",
      "48000/48000 [==============================] - 41s 857us/step - loss: 0.3969 - accuracy: 0.8539 - val_loss: 0.3888 - val_accuracy: 0.8597\n",
      "Epoch 4/20\n",
      "48000/48000 [==============================] - 39s 817us/step - loss: 0.3538 - accuracy: 0.8691 - val_loss: 0.3562 - val_accuracy: 0.8726\n",
      "Epoch 5/20\n",
      "48000/48000 [==============================] - 39s 806us/step - loss: 0.3299 - accuracy: 0.8771 - val_loss: 0.3421 - val_accuracy: 0.8755\n",
      "Epoch 6/20\n",
      "48000/48000 [==============================] - 39s 814us/step - loss: 0.3087 - accuracy: 0.8852 - val_loss: 0.3590 - val_accuracy: 0.8691\n",
      "Epoch 7/20\n",
      "48000/48000 [==============================] - 39s 818us/step - loss: 0.2882 - accuracy: 0.8929 - val_loss: 0.3086 - val_accuracy: 0.8881\n",
      "Epoch 8/20\n",
      "48000/48000 [==============================] - 40s 839us/step - loss: 0.2759 - accuracy: 0.8978 - val_loss: 0.3045 - val_accuracy: 0.8898\n",
      "Epoch 9/20\n",
      "48000/48000 [==============================] - 39s 822us/step - loss: 0.2619 - accuracy: 0.9020 - val_loss: 0.2924 - val_accuracy: 0.8942\n",
      "Epoch 10/20\n",
      "48000/48000 [==============================] - 40s 824us/step - loss: 0.2486 - accuracy: 0.9070 - val_loss: 0.2852 - val_accuracy: 0.8970\n",
      "Epoch 11/20\n",
      "48000/48000 [==============================] - 40s 823us/step - loss: 0.2369 - accuracy: 0.9119 - val_loss: 0.2849 - val_accuracy: 0.8956\n",
      "Epoch 12/20\n",
      "48000/48000 [==============================] - 39s 822us/step - loss: 0.2267 - accuracy: 0.9159 - val_loss: 0.2785 - val_accuracy: 0.8980\n",
      "Epoch 13/20\n",
      "48000/48000 [==============================] - 40s 824us/step - loss: 0.2155 - accuracy: 0.9207 - val_loss: 0.2762 - val_accuracy: 0.9020\n",
      "Epoch 14/20\n",
      "48000/48000 [==============================] - 39s 823us/step - loss: 0.2065 - accuracy: 0.9233 - val_loss: 0.2720 - val_accuracy: 0.9029\n",
      "Epoch 15/20\n",
      "48000/48000 [==============================] - 41s 854us/step - loss: 0.1943 - accuracy: 0.9273 - val_loss: 0.2723 - val_accuracy: 0.9031\n",
      "Epoch 16/20\n",
      "48000/48000 [==============================] - 42s 882us/step - loss: 0.1874 - accuracy: 0.9305 - val_loss: 0.2897 - val_accuracy: 0.8987\n",
      "Epoch 17/20\n",
      "48000/48000 [==============================] - 40s 838us/step - loss: 0.1760 - accuracy: 0.9335 - val_loss: 0.2782 - val_accuracy: 0.9042\n",
      "Epoch 18/20\n",
      "48000/48000 [==============================] - 41s 863us/step - loss: 0.1680 - accuracy: 0.9370 - val_loss: 0.2895 - val_accuracy: 0.8990\n",
      "Epoch 19/20\n",
      "48000/48000 [==============================] - 41s 857us/step - loss: 0.1596 - accuracy: 0.9401 - val_loss: 0.2953 - val_accuracy: 0.9013\n",
      "Epoch 20/20\n",
      "48000/48000 [==============================] - 44s 909us/step - loss: 0.1502 - accuracy: 0.9433 - val_loss: 0.2706 - val_accuracy: 0.9073\n"
     ]
    }
   ],
   "source": [
    "# Train the Model\n",
    "# The model trains for 20 epochs.\n",
    "\n",
    "fashion_train = fashion_model.fit(train_X, train_label, batch_size = batch_size, epochs = epochs, \n",
    "                                  verbose = 1, validation_data = (valid_X, valid_label ))"
   ]
  },
  {
   "cell_type": "code",
   "execution_count": 41,
   "metadata": {},
   "outputs": [
    {
     "name": "stdout",
     "output_type": "stream",
     "text": [
      "Test loss: 0.2928345975369215\n",
      "Test accuracy: 0.904699981212616\n"
     ]
    }
   ],
   "source": [
    "# Model Evaluation on the Test Set \n",
    "\n",
    "test_eval = fashion_model.evaluate(test_X, test_Y_one_hot, verbose = 0)\n",
    "print('Test loss:', test_eval[0])\n",
    "print('Test accuracy:', test_eval[1])"
   ]
  },
  {
   "cell_type": "code",
   "execution_count": 44,
   "metadata": {},
   "outputs": [
    {
     "data": {
      "image/png": "[encoded data removed]",
      "text/plain": [
       "<Figure size 432x288 with 1 Axes>"
      ]
     },
     "metadata": {
      "needs_background": "light"
     },
     "output_type": "display_data"
    },
    {
     "data": {
      "image/png": "[encoded data removed]",
      "text/plain": [
       "<Figure size 432x288 with 1 Axes>"
      ]
     },
     "metadata": {
      "needs_background": "light"
     },
     "output_type": "display_data"
    }
   ],
   "source": [
    "# plot the accuracy and loss plots between training and validation data\n",
    "\n",
    "accuracy = fashion_train.history['accuracy']\n",
    "val_accuracy = fashion_train.history['val_accuracy']\n",
    "loss = fashion_train.history['loss']\n",
    "val_loss = fashion_train.history['val_loss']\n",
    "\n",
    "epochs = range(len(accuracy))\n",
    "\n",
    "plt.plot(epochs, accuracy, 'bo', label = 'Training accuracy')  #bo?\n",
    "plt.plot(epochs, val_accuracy, 'b', label = 'Validation accuracy')\n",
    "plt.title('Training and validation accuracy')\n",
    "plt.legend()\n",
    "plt.figure()\n",
    "\n",
    "plt.plot(epochs, loss, 'bo', label = 'Training loss')\n",
    "plt.plot(epochs, val_loss, 'b', label = 'Validation loss')\n",
    "plt.title('Training and validation loss')\n",
    "plt.legend()\n",
    "plt.show() #show?figure?"
   ]
  },
  {
   "cell_type": "code",
   "execution_count": 18,
   "metadata": {},
   "outputs": [],
   "source": [
    "# Adding Dropout into te Network\n",
    "\n",
    "batch_size = 64\n",
    "epochs = 20\n",
    "num_classes = 10"
   ]
  },
  {
   "cell_type": "code",
   "execution_count": 19,
   "metadata": {},
   "outputs": [],
   "source": [
    "fashion_model = Sequential()\n",
    "fashion_model.add(Conv2D(32, kernel_size=(3, 3),activation='linear',padding='same',input_shape=(28,28,1)))\n",
    "fashion_model.add(LeakyReLU(alpha=0.1))\n",
    "fashion_model.add(MaxPooling2D((2, 2),padding='same'))\n",
    "fashion_model.add(Dropout(0.25))\n",
    "fashion_model.add(Conv2D(64, (3, 3), activation='linear',padding='same'))\n",
    "fashion_model.add(LeakyReLU(alpha=0.1))\n",
    "fashion_model.add(MaxPooling2D(pool_size=(2, 2),padding='same'))\n",
    "fashion_model.add(Dropout(0.25))\n",
    "fashion_model.add(Conv2D(128, (3, 3), activation='linear',padding='same'))\n",
    "fashion_model.add(LeakyReLU(alpha=0.1))                  \n",
    "fashion_model.add(MaxPooling2D(pool_size=(2, 2),padding='same'))\n",
    "fashion_model.add(Dropout(0.4))\n",
    "fashion_model.add(Flatten())\n",
    "fashion_model.add(Dense(128, activation='linear'))\n",
    "fashion_model.add(LeakyReLU(alpha=0.1))           \n",
    "fashion_model.add(Dropout(0.3))\n",
    "fashion_model.add(Dense(num_classes, activation='softmax'))"
   ]
  },
  {
   "cell_type": "code",
   "execution_count": 20,
   "metadata": {},
   "outputs": [
    {
     "name": "stdout",
     "output_type": "stream",
     "text": [
      "Model: \"sequential_1\"\n",
      "_________________________________________________________________\n",
      "Layer (type)                 Output Shape              Param #   \n",
      "=================================================================\n",
      "conv2d_1 (Conv2D)            (None, 28, 28, 32)        320       \n",
      "_________________________________________________________________\n",
      "leaky_re_lu_1 (LeakyReLU)    (None, 28, 28, 32)        0         \n",
      "_________________________________________________________________\n",
      "max_pooling2d_1 (MaxPooling2 (None, 14, 14, 32)        0         \n",
      "_________________________________________________________________\n",
      "dropout_1 (Dropout)          (None, 14, 14, 32)        0         \n",
      "_________________________________________________________________\n",
      "conv2d_2 (Conv2D)            (None, 14, 14, 64)        18496     \n",
      "_________________________________________________________________\n",
      "leaky_re_lu_2 (LeakyReLU)    (None, 14, 14, 64)        0         \n",
      "_________________________________________________________________\n",
      "max_pooling2d_2 (MaxPooling2 (None, 7, 7, 64)          0         \n",
      "_________________________________________________________________\n",
      "dropout_2 (Dropout)          (None, 7, 7, 64)          0         \n",
      "_________________________________________________________________\n",
      "conv2d_3 (Conv2D)            (None, 7, 7, 128)         73856     \n",
      "_________________________________________________________________\n",
      "leaky_re_lu_3 (LeakyReLU)    (None, 7, 7, 128)         0         \n",
      "_________________________________________________________________\n",
      "max_pooling2d_3 (MaxPooling2 (None, 4, 4, 128)         0         \n",
      "_________________________________________________________________\n",
      "dropout_3 (Dropout)          (None, 4, 4, 128)         0         \n",
      "_________________________________________________________________\n",
      "flatten_1 (Flatten)          (None, 2048)              0         \n",
      "_________________________________________________________________\n",
      "dense_1 (Dense)              (None, 128)               262272    \n",
      "_________________________________________________________________\n",
      "leaky_re_lu_4 (LeakyReLU)    (None, 128)               0         \n",
      "_________________________________________________________________\n",
      "dropout_4 (Dropout)          (None, 128)               0         \n",
      "_________________________________________________________________\n",
      "dense_2 (Dense)              (None, 10)                1290      \n",
      "=================================================================\n",
      "Total params: 356,234\n",
      "Trainable params: 356,234\n",
      "Non-trainable params: 0\n",
      "_________________________________________________________________\n"
     ]
    }
   ],
   "source": [
    "fashion_model.summary()"
   ]
  },
  {
   "cell_type": "code",
   "execution_count": 21,
   "metadata": {},
   "outputs": [],
   "source": [
    "fashion_model.compile(loss=keras.losses.categorical_crossentropy, optimizer=keras.optimizers.Adam(),metrics=['accuracy'])"
   ]
  },
  {
   "cell_type": "code",
   "execution_count": 22,
   "metadata": {},
   "outputs": [
    {
     "name": "stdout",
     "output_type": "stream",
     "text": [
      "Train on 48000 samples, validate on 12000 samples\n",
      "Epoch 1/20\n",
      "48000/48000 [==============================] - 53s 1ms/step - loss: 0.5894 - accuracy: 0.7822 - val_loss: 0.3726 - val_accuracy: 0.8658\n",
      "Epoch 2/20\n",
      "48000/48000 [==============================] - 53s 1ms/step - loss: 0.3718 - accuracy: 0.8646 - val_loss: 0.3099 - val_accuracy: 0.8844\n",
      "Epoch 3/20\n",
      "48000/48000 [==============================] - 52s 1ms/step - loss: 0.3222 - accuracy: 0.8795 - val_loss: 0.2888 - val_accuracy: 0.8942\n",
      "Epoch 4/20\n",
      "48000/48000 [==============================] - 52s 1ms/step - loss: 0.2991 - accuracy: 0.8892 - val_loss: 0.2690 - val_accuracy: 0.9014\n",
      "Epoch 5/20\n",
      "48000/48000 [==============================] - 53s 1ms/step - loss: 0.2797 - accuracy: 0.8957 - val_loss: 0.2595 - val_accuracy: 0.9035\n",
      "Epoch 6/20\n",
      "48000/48000 [==============================] - 53s 1ms/step - loss: 0.2662 - accuracy: 0.9019 - val_loss: 0.2391 - val_accuracy: 0.9116\n",
      "Epoch 7/20\n",
      "48000/48000 [==============================] - 53s 1ms/step - loss: 0.2586 - accuracy: 0.9038 - val_loss: 0.2345 - val_accuracy: 0.9122\n",
      "Epoch 8/20\n",
      "48000/48000 [==============================] - 53s 1ms/step - loss: 0.2493 - accuracy: 0.9057 - val_loss: 0.2312 - val_accuracy: 0.9142\n",
      "Epoch 9/20\n",
      "48000/48000 [==============================] - 54s 1ms/step - loss: 0.2387 - accuracy: 0.9112 - val_loss: 0.2491 - val_accuracy: 0.9088\n",
      "Epoch 10/20\n",
      "48000/48000 [==============================] - 54s 1ms/step - loss: 0.2337 - accuracy: 0.9123 - val_loss: 0.2201 - val_accuracy: 0.9184\n",
      "Epoch 11/20\n",
      "48000/48000 [==============================] - 54s 1ms/step - loss: 0.2303 - accuracy: 0.9137 - val_loss: 0.2215 - val_accuracy: 0.9190\n",
      "Epoch 12/20\n",
      "48000/48000 [==============================] - 54s 1ms/step - loss: 0.2215 - accuracy: 0.9164 - val_loss: 0.2186 - val_accuracy: 0.9201\n",
      "Epoch 13/20\n",
      "48000/48000 [==============================] - 54s 1ms/step - loss: 0.2185 - accuracy: 0.9179 - val_loss: 0.2178 - val_accuracy: 0.9218\n",
      "Epoch 14/20\n",
      "48000/48000 [==============================] - 55s 1ms/step - loss: 0.2152 - accuracy: 0.9186 - val_loss: 0.2156 - val_accuracy: 0.9206\n",
      "Epoch 15/20\n",
      "48000/48000 [==============================] - 55s 1ms/step - loss: 0.2115 - accuracy: 0.9206 - val_loss: 0.2165 - val_accuracy: 0.9227\n",
      "Epoch 16/20\n",
      "48000/48000 [==============================] - 55s 1ms/step - loss: 0.2105 - accuracy: 0.9209 - val_loss: 0.2108 - val_accuracy: 0.9245\n",
      "Epoch 17/20\n",
      "48000/48000 [==============================] - 55s 1ms/step - loss: 0.2024 - accuracy: 0.9231 - val_loss: 0.2090 - val_accuracy: 0.9243\n",
      "Epoch 18/20\n",
      "48000/48000 [==============================] - 56s 1ms/step - loss: 0.2031 - accuracy: 0.9243 - val_loss: 0.2321 - val_accuracy: 0.9183\n",
      "Epoch 19/20\n",
      "48000/48000 [==============================] - 56s 1ms/step - loss: 0.2011 - accuracy: 0.9233 - val_loss: 0.2112 - val_accuracy: 0.9266\n",
      "Epoch 20/20\n",
      "48000/48000 [==============================] - 58s 1ms/step - loss: 0.1961 - accuracy: 0.9248 - val_loss: 0.2145 - val_accuracy: 0.9236\n"
     ]
    }
   ],
   "source": [
    "fashion_train_dropout = fashion_model.fit(train_X, train_label, batch_size=batch_size,epochs=epochs,verbose=1,validation_data=(valid_X, valid_label))"
   ]
  },
  {
   "cell_type": "code",
   "execution_count": 23,
   "metadata": {},
   "outputs": [],
   "source": [
    "# save the model so that you can directly load it and not have to train it again for 20 epochs. This way, you can load the model later on if you need it and modify the architecture; Alternatively, you can start the training process on this saved model. It is always a good idea to save the model -and even the model's weights!- because it saves you time. Note that you can also save the model after every epoch so that, if some issue occurs that stops the training at an epoch, you will not have to start the training from the beginning.\n",
    "\n",
    "fashion_model.save(\"fashion_model_dropout.h5py\") "
   ]
  },
  {
   "cell_type": "code",
   "execution_count": 24,
   "metadata": {},
   "outputs": [
    {
     "name": "stdout",
     "output_type": "stream",
     "text": [
      "10000/10000 [==============================] - 3s 338us/step\n"
     ]
    }
   ],
   "source": [
    "# Model Evaluation on the Test Set\n",
    "test_eval = fashion_model.evaluate(test_X, test_Y_one_hot, verbose=1)"
   ]
  },
  {
   "cell_type": "code",
   "execution_count": 25,
   "metadata": {},
   "outputs": [
    {
     "name": "stdout",
     "output_type": "stream",
     "text": [
      "Test loss: 0.22584365205168724\n",
      "Test accuracy: 0.9133999943733215\n"
     ]
    }
   ],
   "source": [
    "print('Test loss:', test_eval[0])\n",
    "# plot the accuracy and loss plots between training and validation dataprint('Test accuracy:', test_eval[1])"
   ]
  },
  {
   "cell_type": "code",
   "execution_count": 27,
   "metadata": {},
   "outputs": [
    {
     "data": {
      "image/png": "[encoded data removed]",
      "text/plain": [
       "<Figure size 432x288 with 1 Axes>"
      ]
     },
     "metadata": {
      "needs_background": "light"
     },
     "output_type": "display_data"
    },
    {
     "data": {
      "image/png": "[encoded data removed]",
      "text/plain": [
       "<Figure size 432x288 with 1 Axes>"
      ]
     },
     "metadata": {
      "needs_background": "light"
     },
     "output_type": "display_data"
    }
   ],
   "source": [
    "# plot the accuracy and loss plots between training and validation data\n",
    "\n",
    "accuracy = fashion_train_dropout.history['accuracy']\n",
    "val_accuracy = fashion_train_dropout.history['val_accuracy']\n",
    "loss = fashion_train_dropout.history['loss']\n",
    "val_loss = fashion_train_dropout.history['val_loss']\n",
    "epochs = range(len(accuracy))\n",
    "plt.plot(epochs, accuracy, 'bo', label='Training accuracy')\n",
    "plt.plot(epochs, val_accuracy, 'b', label='Validation accuracy')\n",
    "plt.title('Training and validation accuracy')\n",
    "plt.legend()\n",
    "plt.figure()\n",
    "plt.plot(epochs, loss, 'bo', label='Training loss')\n",
    "plt.plot(epochs, val_loss, 'b', label='Validation loss')\n",
    "plt.title('Training and validation loss')\n",
    "plt.legend()\n",
    "plt.show()"
   ]
  },
  {
   "cell_type": "code",
   "execution_count": 28,
   "metadata": {},
   "outputs": [],
   "source": [
    "# Predict Labels\n",
    "\n",
    "predicted_classes = fashion_model.predict(test_X)"
   ]
  },
  {
   "cell_type": "code",
   "execution_count": 29,
   "metadata": {},
   "outputs": [],
   "source": [
    "predicted_classes = np.argmax(np.round(predicted_classes),axis=1)"
   ]
  },
  {
   "cell_type": "code",
   "execution_count": 30,
   "metadata": {},
   "outputs": [
    {
     "data": {
      "text/plain": [
       "((10000,), (10000,))"
      ]
     },
     "execution_count": 30,
     "metadata": {},
     "output_type": "execute_result"
    }
   ],
   "source": [
    "predicted_classes.shape, test_Y.shape"
   ]
  },
  {
   "cell_type": "code",
   "execution_count": 35,
   "metadata": {},
   "outputs": [
    {
     "data": {
      "image/png": "[encoded data removed]",
      "text/plain": [
       "<Figure size 432x288 with 8 Axes>"
      ]
     },
     "metadata": {
      "needs_background": "light"
     },
     "output_type": "display_data"
    }
   ],
   "source": [
    "# correct label\n",
    "\n",
    "correct = np.where(predicted_classes==test_Y)[0]\n",
    "\n",
    "for i, correct in enumerate(correct[:9]):\n",
    "    plt.subplot(3,3,i+1)\n",
    "    plt.imshow(test_X[correct].reshape(28,28), cmap='gray', interpolation='none')\n",
    "    plt.title(\"Predicted {}, Class {}\".format(predicted_classes[correct], test_Y[correct]))\n",
    "    plt.tight_layout()"
   ]
  },
  {
   "cell_type": "code",
   "execution_count": 36,
   "metadata": {},
   "outputs": [
    {
     "data": {
      "image/png": "[encoded data removed]",
      "text/plain": [
       "<Figure size 432x288 with 8 Axes>"
      ]
     },
     "metadata": {
      "needs_background": "light"
     },
     "output_type": "display_data"
    }
   ],
   "source": [
    "# incorrect label\n",
    "\n",
    "incorrect = np.where(predicted_classes!=test_Y)[0]\n",
    "\n",
    "for i, incorrect in enumerate(incorrect[:9]):\n",
    "    plt.subplot(3,3,i+1)\n",
    "    plt.imshow(test_X[incorrect].reshape(28,28), cmap='gray', interpolation='none')\n",
    "    plt.title(\"Predicted {}, Class {}\".format(predicted_classes[incorrect], test_Y[incorrect]))\n",
    "    plt.tight_layout()"
   ]
  },
  {
   "cell_type": "code",
   "execution_count": 37,
   "metadata": {},
   "outputs": [
    {
     "name": "stdout",
     "output_type": "stream",
     "text": [
      "              precision    recall  f1-score   support\n",
      "\n",
      "     Class 0       0.79      0.85      0.82      1000\n",
      "     Class 1       0.99      0.98      0.99      1000\n",
      "     Class 2       0.86      0.88      0.87      1000\n",
      "     Class 3       0.92      0.93      0.92      1000\n",
      "     Class 4       0.88      0.83      0.85      1000\n",
      "     Class 5       0.99      0.97      0.98      1000\n",
      "     Class 6       0.77      0.76      0.76      1000\n",
      "     Class 7       0.94      0.99      0.96      1000\n",
      "     Class 8       0.99      0.98      0.99      1000\n",
      "     Class 9       0.98      0.95      0.97      1000\n",
      "\n",
      "    accuracy                           0.91     10000\n",
      "   macro avg       0.91      0.91      0.91     10000\n",
      "weighted avg       0.91      0.91      0.91     10000\n",
      "\n"
     ]
    }
   ],
   "source": [
    "# classification report \n",
    "\n",
    "from sklearn.metrics import classification_report\n",
    "target_names = [\"Class {}\".format(i) for i in range(num_classes)]\n",
    "print(classification_report(test_Y, predicted_classes, target_names=target_names))"
   ]
  },
  {
   "cell_type": "code",
   "execution_count": null,
   "metadata": {},
   "outputs": [],
   "source": [
    "# You can see that the classifier is underperforming for class 6 regarding both precision and recall. For class 0 and class 2, the classifier is lacking precision. Also, for class 4, the classifier is slightly lacking both precision and recall."
   ]
  }
 ],
 "metadata": {
  "kernelspec": {
   "display_name": "Python [conda env:AntonioEnv] *",
   "language": "python",
   "name": "conda-env-AntonioEnv-py"
  },
  "language_info": {
   "codemirror_mode": {
    "name": "ipython",
    "version": 3
   },
   "file_extension": ".py",
   "mimetype": "text/x-python",
   "name": "python",
   "nbconvert_exporter": "python",
   "pygments_lexer": "ipython3",
   "version": "3.7.9"
  }
 },
 "nbformat": 4,
 "nbformat_minor": 4
}
