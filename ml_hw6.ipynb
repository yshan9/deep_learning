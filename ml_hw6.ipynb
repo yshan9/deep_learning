{
  "nbformat": 4,
  "nbformat_minor": 0,
  "metadata": {
    "accelerator": "GPU",
    "colab": {
      "name": "Homework_6.ipynb",
      "provenance": [],
      "collapsed_sections": [],
      "include_colab_link": true
    },
    "kernelspec": {
      "display_name": "Python 3",
      "language": "python",
      "name": "python3"
    },
    "language_info": {
      "codemirror_mode": {
        "name": "ipython",
        "version": 3
      },
      "file_extension": ".py",
      "mimetype": "text/x-python",
      "name": "python",
      "nbconvert_exporter": "python",
      "pygments_lexer": "ipython3",
      "version": "3.7.6"
    },
    "toc": {
      "base_numbering": 1,
      "nav_menu": {},
      "number_sections": true,
      "sideBar": true,
      "skip_h1_title": false,
      "title_cell": "Table of Contents",
      "title_sidebar": "Contents",
      "toc_cell": true,
      "toc_position": {},
      "toc_section_display": true,
      "toc_window_display": false
    },
    "widgets": {
      "application/vnd.jupyter.widget-state+json": {
        "9888eae2e70e42da934b7895f376cb92": {
          "model_module": "@jupyter-widgets/controls",
          "model_name": "HBoxModel",
          "state": {
            "_view_name": "HBoxView",
            "_dom_classes": [],
            "_model_name": "HBoxModel",
            "_view_module": "@jupyter-widgets/controls",
            "_model_module_version": "1.5.0",
            "_view_count": null,
            "_view_module_version": "1.5.0",
            "box_style": "",
            "layout": "IPY_MODEL_10924b9da73f41d4aa63ff66ded685da",
            "_model_module": "@jupyter-widgets/controls",
            "children": [
              "IPY_MODEL_3d7cfc5064064cd292d3ba565ce710ec",
              "IPY_MODEL_3dfaaf35511b41a28fabb0114410549c"
            ]
          }
        },
        "10924b9da73f41d4aa63ff66ded685da": {
          "model_module": "@jupyter-widgets/base",
          "model_name": "LayoutModel",
          "state": {
            "_view_name": "LayoutView",
            "grid_template_rows": null,
            "right": null,
            "justify_content": null,
            "_view_module": "@jupyter-widgets/base",
            "overflow": null,
            "_model_module_version": "1.2.0",
            "_view_count": null,
            "flex_flow": null,
            "width": null,
            "min_width": null,
            "border": null,
            "align_items": null,
            "bottom": null,
            "_model_module": "@jupyter-widgets/base",
            "top": null,
            "grid_column": null,
            "overflow_y": null,
            "overflow_x": null,
            "grid_auto_flow": null,
            "grid_area": null,
            "grid_template_columns": null,
            "flex": null,
            "_model_name": "LayoutModel",
            "justify_items": null,
            "grid_row": null,
            "max_height": null,
            "align_content": null,
            "visibility": null,
            "align_self": null,
            "height": null,
            "min_height": null,
            "padding": null,
            "grid_auto_rows": null,
            "grid_gap": null,
            "max_width": null,
            "order": null,
            "_view_module_version": "1.2.0",
            "grid_template_areas": null,
            "object_position": null,
            "object_fit": null,
            "grid_auto_columns": null,
            "margin": null,
            "display": null,
            "left": null
          }
        },
        "3d7cfc5064064cd292d3ba565ce710ec": {
          "model_module": "@jupyter-widgets/controls",
          "model_name": "FloatProgressModel",
          "state": {
            "_view_name": "ProgressView",
            "style": "IPY_MODEL_9ce94c1176d945e2a8f2d5de97ef561b",
            "_dom_classes": [],
            "description": "Dl Completed...: 100%",
            "_model_name": "FloatProgressModel",
            "bar_style": "success",
            "max": 1,
            "_view_module": "@jupyter-widgets/controls",
            "_model_module_version": "1.5.0",
            "value": 1,
            "_view_count": null,
            "_view_module_version": "1.5.0",
            "orientation": "horizontal",
            "min": 0,
            "description_tooltip": null,
            "_model_module": "@jupyter-widgets/controls",
            "layout": "IPY_MODEL_cfd166979d9546599c8ffb38288f2f58"
          }
        },
        "3dfaaf35511b41a28fabb0114410549c": {
          "model_module": "@jupyter-widgets/controls",
          "model_name": "HTMLModel",
          "state": {
            "_view_name": "HTMLView",
            "style": "IPY_MODEL_32ec5edc47f245e7be62ea66399d36da",
            "_dom_classes": [],
            "description": "",
            "_model_name": "HTMLModel",
            "placeholder": "​",
            "_view_module": "@jupyter-widgets/controls",
            "_model_module_version": "1.5.0",
            "value": " 1/1 [00:04&lt;00:00,  4.70s/ url]",
            "_view_count": null,
            "_view_module_version": "1.5.0",
            "description_tooltip": null,
            "_model_module": "@jupyter-widgets/controls",
            "layout": "IPY_MODEL_cf9d483ab3b64d7e88e8b08ce26fe9f6"
          }
        },
        "9ce94c1176d945e2a8f2d5de97ef561b": {
          "model_module": "@jupyter-widgets/controls",
          "model_name": "ProgressStyleModel",
          "state": {
            "_view_name": "StyleView",
            "_model_name": "ProgressStyleModel",
            "description_width": "initial",
            "_view_module": "@jupyter-widgets/base",
            "_model_module_version": "1.5.0",
            "_view_count": null,
            "_view_module_version": "1.2.0",
            "bar_color": null,
            "_model_module": "@jupyter-widgets/controls"
          }
        },
        "cfd166979d9546599c8ffb38288f2f58": {
          "model_module": "@jupyter-widgets/base",
          "model_name": "LayoutModel",
          "state": {
            "_view_name": "LayoutView",
            "grid_template_rows": null,
            "right": null,
            "justify_content": null,
            "_view_module": "@jupyter-widgets/base",
            "overflow": null,
            "_model_module_version": "1.2.0",
            "_view_count": null,
            "flex_flow": null,
            "width": null,
            "min_width": null,
            "border": null,
            "align_items": null,
            "bottom": null,
            "_model_module": "@jupyter-widgets/base",
            "top": null,
            "grid_column": null,
            "overflow_y": null,
            "overflow_x": null,
            "grid_auto_flow": null,
            "grid_area": null,
            "grid_template_columns": null,
            "flex": null,
            "_model_name": "LayoutModel",
            "justify_items": null,
            "grid_row": null,
            "max_height": null,
            "align_content": null,
            "visibility": null,
            "align_self": null,
            "height": null,
            "min_height": null,
            "padding": null,
            "grid_auto_rows": null,
            "grid_gap": null,
            "max_width": null,
            "order": null,
            "_view_module_version": "1.2.0",
            "grid_template_areas": null,
            "object_position": null,
            "object_fit": null,
            "grid_auto_columns": null,
            "margin": null,
            "display": null,
            "left": null
          }
        },
        "32ec5edc47f245e7be62ea66399d36da": {
          "model_module": "@jupyter-widgets/controls",
          "model_name": "DescriptionStyleModel",
          "state": {
            "_view_name": "StyleView",
            "_model_name": "DescriptionStyleModel",
            "description_width": "",
            "_view_module": "@jupyter-widgets/base",
            "_model_module_version": "1.5.0",
            "_view_count": null,
            "_view_module_version": "1.2.0",
            "_model_module": "@jupyter-widgets/controls"
          }
        },
        "cf9d483ab3b64d7e88e8b08ce26fe9f6": {
          "model_module": "@jupyter-widgets/base",
          "model_name": "LayoutModel",
          "state": {
            "_view_name": "LayoutView",
            "grid_template_rows": null,
            "right": null,
            "justify_content": null,
            "_view_module": "@jupyter-widgets/base",
            "overflow": null,
            "_model_module_version": "1.2.0",
            "_view_count": null,
            "flex_flow": null,
            "width": null,
            "min_width": null,
            "border": null,
            "align_items": null,
            "bottom": null,
            "_model_module": "@jupyter-widgets/base",
            "top": null,
            "grid_column": null,
            "overflow_y": null,
            "overflow_x": null,
            "grid_auto_flow": null,
            "grid_area": null,
            "grid_template_columns": null,
            "flex": null,
            "_model_name": "LayoutModel",
            "justify_items": null,
            "grid_row": null,
            "max_height": null,
            "align_content": null,
            "visibility": null,
            "align_self": null,
            "height": null,
            "min_height": null,
            "padding": null,
            "grid_auto_rows": null,
            "grid_gap": null,
            "max_width": null,
            "order": null,
            "_view_module_version": "1.2.0",
            "grid_template_areas": null,
            "object_position": null,
            "object_fit": null,
            "grid_auto_columns": null,
            "margin": null,
            "display": null,
            "left": null
          }
        },
        "37ad9a19299045a887874f64690fe790": {
          "model_module": "@jupyter-widgets/controls",
          "model_name": "HBoxModel",
          "state": {
            "_view_name": "HBoxView",
            "_dom_classes": [],
            "_model_name": "HBoxModel",
            "_view_module": "@jupyter-widgets/controls",
            "_model_module_version": "1.5.0",
            "_view_count": null,
            "_view_module_version": "1.5.0",
            "box_style": "",
            "layout": "IPY_MODEL_38c98539b22640ea98d077971b86f238",
            "_model_module": "@jupyter-widgets/controls",
            "children": [
              "IPY_MODEL_a62f138ec3474b59b7f7245c1f3703f5",
              "IPY_MODEL_8bc62140ac764a24b607e483a15cd485"
            ]
          }
        },
        "38c98539b22640ea98d077971b86f238": {
          "model_module": "@jupyter-widgets/base",
          "model_name": "LayoutModel",
          "state": {
            "_view_name": "LayoutView",
            "grid_template_rows": null,
            "right": null,
            "justify_content": null,
            "_view_module": "@jupyter-widgets/base",
            "overflow": null,
            "_model_module_version": "1.2.0",
            "_view_count": null,
            "flex_flow": null,
            "width": null,
            "min_width": null,
            "border": null,
            "align_items": null,
            "bottom": null,
            "_model_module": "@jupyter-widgets/base",
            "top": null,
            "grid_column": null,
            "overflow_y": null,
            "overflow_x": null,
            "grid_auto_flow": null,
            "grid_area": null,
            "grid_template_columns": null,
            "flex": null,
            "_model_name": "LayoutModel",
            "justify_items": null,
            "grid_row": null,
            "max_height": null,
            "align_content": null,
            "visibility": null,
            "align_self": null,
            "height": null,
            "min_height": null,
            "padding": null,
            "grid_auto_rows": null,
            "grid_gap": null,
            "max_width": null,
            "order": null,
            "_view_module_version": "1.2.0",
            "grid_template_areas": null,
            "object_position": null,
            "object_fit": null,
            "grid_auto_columns": null,
            "margin": null,
            "display": null,
            "left": null
          }
        },
        "a62f138ec3474b59b7f7245c1f3703f5": {
          "model_module": "@jupyter-widgets/controls",
          "model_name": "FloatProgressModel",
          "state": {
            "_view_name": "ProgressView",
            "style": "IPY_MODEL_60dc0d6849fd4ec8bf8ffb16dff96e90",
            "_dom_classes": [],
            "description": "Dl Size...: 100%",
            "_model_name": "FloatProgressModel",
            "bar_style": "success",
            "max": 1,
            "_view_module": "@jupyter-widgets/controls",
            "_model_module_version": "1.5.0",
            "value": 1,
            "_view_count": null,
            "_view_module_version": "1.5.0",
            "orientation": "horizontal",
            "min": 0,
            "description_tooltip": null,
            "_model_module": "@jupyter-widgets/controls",
            "layout": "IPY_MODEL_ce22ffa872fe4ab6aed89628a0a343e8"
          }
        },
        "8bc62140ac764a24b607e483a15cd485": {
          "model_module": "@jupyter-widgets/controls",
          "model_name": "HTMLModel",
          "state": {
            "_view_name": "HTMLView",
            "style": "IPY_MODEL_e39b00693c4b4b7daef6629c94349c06",
            "_dom_classes": [],
            "description": "",
            "_model_name": "HTMLModel",
            "placeholder": "​",
            "_view_module": "@jupyter-widgets/controls",
            "_model_module_version": "1.5.0",
            "value": " 80/80 [00:04&lt;00:00, 17.11 MiB/s]",
            "_view_count": null,
            "_view_module_version": "1.5.0",
            "description_tooltip": null,
            "_model_module": "@jupyter-widgets/controls",
            "layout": "IPY_MODEL_85fb437c923f4142bf772c6032ea14d7"
          }
        },
        "60dc0d6849fd4ec8bf8ffb16dff96e90": {
          "model_module": "@jupyter-widgets/controls",
          "model_name": "ProgressStyleModel",
          "state": {
            "_view_name": "StyleView",
            "_model_name": "ProgressStyleModel",
            "description_width": "initial",
            "_view_module": "@jupyter-widgets/base",
            "_model_module_version": "1.5.0",
            "_view_count": null,
            "_view_module_version": "1.2.0",
            "bar_color": null,
            "_model_module": "@jupyter-widgets/controls"
          }
        },
        "ce22ffa872fe4ab6aed89628a0a343e8": {
          "model_module": "@jupyter-widgets/base",
          "model_name": "LayoutModel",
          "state": {
            "_view_name": "LayoutView",
            "grid_template_rows": null,
            "right": null,
            "justify_content": null,
            "_view_module": "@jupyter-widgets/base",
            "overflow": null,
            "_model_module_version": "1.2.0",
            "_view_count": null,
            "flex_flow": null,
            "width": null,
            "min_width": null,
            "border": null,
            "align_items": null,
            "bottom": null,
            "_model_module": "@jupyter-widgets/base",
            "top": null,
            "grid_column": null,
            "overflow_y": null,
            "overflow_x": null,
            "grid_auto_flow": null,
            "grid_area": null,
            "grid_template_columns": null,
            "flex": null,
            "_model_name": "LayoutModel",
            "justify_items": null,
            "grid_row": null,
            "max_height": null,
            "align_content": null,
            "visibility": null,
            "align_self": null,
            "height": null,
            "min_height": null,
            "padding": null,
            "grid_auto_rows": null,
            "grid_gap": null,
            "max_width": null,
            "order": null,
            "_view_module_version": "1.2.0",
            "grid_template_areas": null,
            "object_position": null,
            "object_fit": null,
            "grid_auto_columns": null,
            "margin": null,
            "display": null,
            "left": null
          }
        },
        "e39b00693c4b4b7daef6629c94349c06": {
          "model_module": "@jupyter-widgets/controls",
          "model_name": "DescriptionStyleModel",
          "state": {
            "_view_name": "StyleView",
            "_model_name": "DescriptionStyleModel",
            "description_width": "",
            "_view_module": "@jupyter-widgets/base",
            "_model_module_version": "1.5.0",
            "_view_count": null,
            "_view_module_version": "1.2.0",
            "_model_module": "@jupyter-widgets/controls"
          }
        },
        "85fb437c923f4142bf772c6032ea14d7": {
          "model_module": "@jupyter-widgets/base",
          "model_name": "LayoutModel",
          "state": {
            "_view_name": "LayoutView",
            "grid_template_rows": null,
            "right": null,
            "justify_content": null,
            "_view_module": "@jupyter-widgets/base",
            "overflow": null,
            "_model_module_version": "1.2.0",
            "_view_count": null,
            "flex_flow": null,
            "width": null,
            "min_width": null,
            "border": null,
            "align_items": null,
            "bottom": null,
            "_model_module": "@jupyter-widgets/base",
            "top": null,
            "grid_column": null,
            "overflow_y": null,
            "overflow_x": null,
            "grid_auto_flow": null,
            "grid_area": null,
            "grid_template_columns": null,
            "flex": null,
            "_model_name": "LayoutModel",
            "justify_items": null,
            "grid_row": null,
            "max_height": null,
            "align_content": null,
            "visibility": null,
            "align_self": null,
            "height": null,
            "min_height": null,
            "padding": null,
            "grid_auto_rows": null,
            "grid_gap": null,
            "max_width": null,
            "order": null,
            "_view_module_version": "1.2.0",
            "grid_template_areas": null,
            "object_position": null,
            "object_fit": null,
            "grid_auto_columns": null,
            "margin": null,
            "display": null,
            "left": null
          }
        },
        "e86c032b52ef48fb9b7c6ed765584d0a": {
          "model_module": "@jupyter-widgets/controls",
          "model_name": "HBoxModel",
          "state": {
            "_view_name": "HBoxView",
            "_dom_classes": [],
            "_model_name": "HBoxModel",
            "_view_module": "@jupyter-widgets/controls",
            "_model_module_version": "1.5.0",
            "_view_count": null,
            "_view_module_version": "1.5.0",
            "box_style": "",
            "layout": "IPY_MODEL_884b8692d6604fa8a77980e554042e7d",
            "_model_module": "@jupyter-widgets/controls",
            "children": [
              "IPY_MODEL_2b66f972ed0b427eaf4cdbeb9d64e0a3",
              "IPY_MODEL_f8238d8f0647473ea2877065e006f891"
            ]
          }
        },
        "884b8692d6604fa8a77980e554042e7d": {
          "model_module": "@jupyter-widgets/base",
          "model_name": "LayoutModel",
          "state": {
            "_view_name": "LayoutView",
            "grid_template_rows": null,
            "right": null,
            "justify_content": null,
            "_view_module": "@jupyter-widgets/base",
            "overflow": null,
            "_model_module_version": "1.2.0",
            "_view_count": null,
            "flex_flow": null,
            "width": null,
            "min_width": null,
            "border": null,
            "align_items": null,
            "bottom": null,
            "_model_module": "@jupyter-widgets/base",
            "top": null,
            "grid_column": null,
            "overflow_y": null,
            "overflow_x": null,
            "grid_auto_flow": null,
            "grid_area": null,
            "grid_template_columns": null,
            "flex": null,
            "_model_name": "LayoutModel",
            "justify_items": null,
            "grid_row": null,
            "max_height": null,
            "align_content": null,
            "visibility": null,
            "align_self": null,
            "height": null,
            "min_height": null,
            "padding": null,
            "grid_auto_rows": null,
            "grid_gap": null,
            "max_width": null,
            "order": null,
            "_view_module_version": "1.2.0",
            "grid_template_areas": null,
            "object_position": null,
            "object_fit": null,
            "grid_auto_columns": null,
            "margin": null,
            "display": null,
            "left": null
          }
        },
        "2b66f972ed0b427eaf4cdbeb9d64e0a3": {
          "model_module": "@jupyter-widgets/controls",
          "model_name": "FloatProgressModel",
          "state": {
            "_view_name": "ProgressView",
            "style": "IPY_MODEL_e94f4e02f4de4c7ab1b4cd1f92a5e6c9",
            "_dom_classes": [],
            "description": "",
            "_model_name": "FloatProgressModel",
            "bar_style": "info",
            "max": 1,
            "_view_module": "@jupyter-widgets/controls",
            "_model_module_version": "1.5.0",
            "value": 1,
            "_view_count": null,
            "_view_module_version": "1.5.0",
            "orientation": "horizontal",
            "min": 0,
            "description_tooltip": null,
            "_model_module": "@jupyter-widgets/controls",
            "layout": "IPY_MODEL_ae0d830af3914eadafd0163ed6675ec3"
          }
        },
        "f8238d8f0647473ea2877065e006f891": {
          "model_module": "@jupyter-widgets/controls",
          "model_name": "HTMLModel",
          "state": {
            "_view_name": "HTMLView",
            "style": "IPY_MODEL_f085b3214cca40dd85a4c08c99de9916",
            "_dom_classes": [],
            "description": "",
            "_model_name": "HTMLModel",
            "placeholder": "​",
            "_view_module": "@jupyter-widgets/controls",
            "_model_module_version": "1.5.0",
            "value": " 25000/0 [00:12&lt;00:00, 3556.45 examples/s]",
            "_view_count": null,
            "_view_module_version": "1.5.0",
            "description_tooltip": null,
            "_model_module": "@jupyter-widgets/controls",
            "layout": "IPY_MODEL_99dbd13e743e496ba4872402eb091f2a"
          }
        },
        "e94f4e02f4de4c7ab1b4cd1f92a5e6c9": {
          "model_module": "@jupyter-widgets/controls",
          "model_name": "ProgressStyleModel",
          "state": {
            "_view_name": "StyleView",
            "_model_name": "ProgressStyleModel",
            "description_width": "initial",
            "_view_module": "@jupyter-widgets/base",
            "_model_module_version": "1.5.0",
            "_view_count": null,
            "_view_module_version": "1.2.0",
            "bar_color": null,
            "_model_module": "@jupyter-widgets/controls"
          }
        },
        "ae0d830af3914eadafd0163ed6675ec3": {
          "model_module": "@jupyter-widgets/base",
          "model_name": "LayoutModel",
          "state": {
            "_view_name": "LayoutView",
            "grid_template_rows": null,
            "right": null,
            "justify_content": null,
            "_view_module": "@jupyter-widgets/base",
            "overflow": null,
            "_model_module_version": "1.2.0",
            "_view_count": null,
            "flex_flow": null,
            "width": null,
            "min_width": null,
            "border": null,
            "align_items": null,
            "bottom": null,
            "_model_module": "@jupyter-widgets/base",
            "top": null,
            "grid_column": null,
            "overflow_y": null,
            "overflow_x": null,
            "grid_auto_flow": null,
            "grid_area": null,
            "grid_template_columns": null,
            "flex": null,
            "_model_name": "LayoutModel",
            "justify_items": null,
            "grid_row": null,
            "max_height": null,
            "align_content": null,
            "visibility": null,
            "align_self": null,
            "height": null,
            "min_height": null,
            "padding": null,
            "grid_auto_rows": null,
            "grid_gap": null,
            "max_width": null,
            "order": null,
            "_view_module_version": "1.2.0",
            "grid_template_areas": null,
            "object_position": null,
            "object_fit": null,
            "grid_auto_columns": null,
            "margin": null,
            "display": null,
            "left": null
          }
        },
        "f085b3214cca40dd85a4c08c99de9916": {
          "model_module": "@jupyter-widgets/controls",
          "model_name": "DescriptionStyleModel",
          "state": {
            "_view_name": "StyleView",
            "_model_name": "DescriptionStyleModel",
            "description_width": "",
            "_view_module": "@jupyter-widgets/base",
            "_model_module_version": "1.5.0",
            "_view_count": null,
            "_view_module_version": "1.2.0",
            "_model_module": "@jupyter-widgets/controls"
          }
        },
        "99dbd13e743e496ba4872402eb091f2a": {
          "model_module": "@jupyter-widgets/base",
          "model_name": "LayoutModel",
          "state": {
            "_view_name": "LayoutView",
            "grid_template_rows": null,
            "right": null,
            "justify_content": null,
            "_view_module": "@jupyter-widgets/base",
            "overflow": null,
            "_model_module_version": "1.2.0",
            "_view_count": null,
            "flex_flow": null,
            "width": null,
            "min_width": null,
            "border": null,
            "align_items": null,
            "bottom": null,
            "_model_module": "@jupyter-widgets/base",
            "top": null,
            "grid_column": null,
            "overflow_y": null,
            "overflow_x": null,
            "grid_auto_flow": null,
            "grid_area": null,
            "grid_template_columns": null,
            "flex": null,
            "_model_name": "LayoutModel",
            "justify_items": null,
            "grid_row": null,
            "max_height": null,
            "align_content": null,
            "visibility": null,
            "align_self": null,
            "height": null,
            "min_height": null,
            "padding": null,
            "grid_auto_rows": null,
            "grid_gap": null,
            "max_width": null,
            "order": null,
            "_view_module_version": "1.2.0",
            "grid_template_areas": null,
            "object_position": null,
            "object_fit": null,
            "grid_auto_columns": null,
            "margin": null,
            "display": null,
            "left": null
          }
        },
        "db8ab3e59ad64e018b1d8de0f74bc048": {
          "model_module": "@jupyter-widgets/controls",
          "model_name": "HBoxModel",
          "state": {
            "_view_name": "HBoxView",
            "_dom_classes": [],
            "_model_name": "HBoxModel",
            "_view_module": "@jupyter-widgets/controls",
            "_model_module_version": "1.5.0",
            "_view_count": null,
            "_view_module_version": "1.5.0",
            "box_style": "",
            "layout": "IPY_MODEL_0c58a06fb62147a08084277f74e574c5",
            "_model_module": "@jupyter-widgets/controls",
            "children": [
              "IPY_MODEL_fb72e4b647e34fe8a7b177a9f88a9441",
              "IPY_MODEL_f92f72266ed340d68d09578bc0f4c91d"
            ]
          }
        },
        "0c58a06fb62147a08084277f74e574c5": {
          "model_module": "@jupyter-widgets/base",
          "model_name": "LayoutModel",
          "state": {
            "_view_name": "LayoutView",
            "grid_template_rows": null,
            "right": null,
            "justify_content": null,
            "_view_module": "@jupyter-widgets/base",
            "overflow": null,
            "_model_module_version": "1.2.0",
            "_view_count": null,
            "flex_flow": null,
            "width": null,
            "min_width": null,
            "border": null,
            "align_items": null,
            "bottom": null,
            "_model_module": "@jupyter-widgets/base",
            "top": null,
            "grid_column": null,
            "overflow_y": null,
            "overflow_x": null,
            "grid_auto_flow": null,
            "grid_area": null,
            "grid_template_columns": null,
            "flex": null,
            "_model_name": "LayoutModel",
            "justify_items": null,
            "grid_row": null,
            "max_height": null,
            "align_content": null,
            "visibility": null,
            "align_self": null,
            "height": null,
            "min_height": null,
            "padding": null,
            "grid_auto_rows": null,
            "grid_gap": null,
            "max_width": null,
            "order": null,
            "_view_module_version": "1.2.0",
            "grid_template_areas": null,
            "object_position": null,
            "object_fit": null,
            "grid_auto_columns": null,
            "margin": null,
            "display": null,
            "left": null
          }
        },
        "fb72e4b647e34fe8a7b177a9f88a9441": {
          "model_module": "@jupyter-widgets/controls",
          "model_name": "FloatProgressModel",
          "state": {
            "_view_name": "ProgressView",
            "style": "IPY_MODEL_1a36f11e5b06419bbca751123b2728e4",
            "_dom_classes": [],
            "description": " 81%",
            "_model_name": "FloatProgressModel",
            "bar_style": "danger",
            "max": 25000,
            "_view_module": "@jupyter-widgets/controls",
            "_model_module_version": "1.5.0",
            "value": 20301,
            "_view_count": null,
            "_view_module_version": "1.5.0",
            "orientation": "horizontal",
            "min": 0,
            "description_tooltip": null,
            "_model_module": "@jupyter-widgets/controls",
            "layout": "IPY_MODEL_8da55d5223a04456a63f23412927cd7b"
          }
        },
        "f92f72266ed340d68d09578bc0f4c91d": {
          "model_module": "@jupyter-widgets/controls",
          "model_name": "HTMLModel",
          "state": {
            "_view_name": "HTMLView",
            "style": "IPY_MODEL_3ee6ddebd3f24efbbc7ce758f68860ed",
            "_dom_classes": [],
            "description": "",
            "_model_name": "HTMLModel",
            "placeholder": "​",
            "_view_module": "@jupyter-widgets/controls",
            "_model_module_version": "1.5.0",
            "value": " 20301/25000 [00:00&lt;00:00, 44623.35 examples/s]",
            "_view_count": null,
            "_view_module_version": "1.5.0",
            "description_tooltip": null,
            "_model_module": "@jupyter-widgets/controls",
            "layout": "IPY_MODEL_c44be3a83d5e4e06adfcf00fd24d039b"
          }
        },
        "1a36f11e5b06419bbca751123b2728e4": {
          "model_module": "@jupyter-widgets/controls",
          "model_name": "ProgressStyleModel",
          "state": {
            "_view_name": "StyleView",
            "_model_name": "ProgressStyleModel",
            "description_width": "initial",
            "_view_module": "@jupyter-widgets/base",
            "_model_module_version": "1.5.0",
            "_view_count": null,
            "_view_module_version": "1.2.0",
            "bar_color": null,
            "_model_module": "@jupyter-widgets/controls"
          }
        },
        "8da55d5223a04456a63f23412927cd7b": {
          "model_module": "@jupyter-widgets/base",
          "model_name": "LayoutModel",
          "state": {
            "_view_name": "LayoutView",
            "grid_template_rows": null,
            "right": null,
            "justify_content": null,
            "_view_module": "@jupyter-widgets/base",
            "overflow": null,
            "_model_module_version": "1.2.0",
            "_view_count": null,
            "flex_flow": null,
            "width": null,
            "min_width": null,
            "border": null,
            "align_items": null,
            "bottom": null,
            "_model_module": "@jupyter-widgets/base",
            "top": null,
            "grid_column": null,
            "overflow_y": null,
            "overflow_x": null,
            "grid_auto_flow": null,
            "grid_area": null,
            "grid_template_columns": null,
            "flex": null,
            "_model_name": "LayoutModel",
            "justify_items": null,
            "grid_row": null,
            "max_height": null,
            "align_content": null,
            "visibility": null,
            "align_self": null,
            "height": null,
            "min_height": null,
            "padding": null,
            "grid_auto_rows": null,
            "grid_gap": null,
            "max_width": null,
            "order": null,
            "_view_module_version": "1.2.0",
            "grid_template_areas": null,
            "object_position": null,
            "object_fit": null,
            "grid_auto_columns": null,
            "margin": null,
            "display": null,
            "left": null
          }
        },
        "3ee6ddebd3f24efbbc7ce758f68860ed": {
          "model_module": "@jupyter-widgets/controls",
          "model_name": "DescriptionStyleModel",
          "state": {
            "_view_name": "StyleView",
            "_model_name": "DescriptionStyleModel",
            "description_width": "",
            "_view_module": "@jupyter-widgets/base",
            "_model_module_version": "1.5.0",
            "_view_count": null,
            "_view_module_version": "1.2.0",
            "_model_module": "@jupyter-widgets/controls"
          }
        },
        "c44be3a83d5e4e06adfcf00fd24d039b": {
          "model_module": "@jupyter-widgets/base",
          "model_name": "LayoutModel",
          "state": {
            "_view_name": "LayoutView",
            "grid_template_rows": null,
            "right": null,
            "justify_content": null,
            "_view_module": "@jupyter-widgets/base",
            "overflow": null,
            "_model_module_version": "1.2.0",
            "_view_count": null,
            "flex_flow": null,
            "width": null,
            "min_width": null,
            "border": null,
            "align_items": null,
            "bottom": null,
            "_model_module": "@jupyter-widgets/base",
            "top": null,
            "grid_column": null,
            "overflow_y": null,
            "overflow_x": null,
            "grid_auto_flow": null,
            "grid_area": null,
            "grid_template_columns": null,
            "flex": null,
            "_model_name": "LayoutModel",
            "justify_items": null,
            "grid_row": null,
            "max_height": null,
            "align_content": null,
            "visibility": null,
            "align_self": null,
            "height": null,
            "min_height": null,
            "padding": null,
            "grid_auto_rows": null,
            "grid_gap": null,
            "max_width": null,
            "order": null,
            "_view_module_version": "1.2.0",
            "grid_template_areas": null,
            "object_position": null,
            "object_fit": null,
            "grid_auto_columns": null,
            "margin": null,
            "display": null,
            "left": null
          }
        },
        "511c300e12c74932901e51a02b0ca25f": {
          "model_module": "@jupyter-widgets/controls",
          "model_name": "HBoxModel",
          "state": {
            "_view_name": "HBoxView",
            "_dom_classes": [],
            "_model_name": "HBoxModel",
            "_view_module": "@jupyter-widgets/controls",
            "_model_module_version": "1.5.0",
            "_view_count": null,
            "_view_module_version": "1.5.0",
            "box_style": "",
            "layout": "IPY_MODEL_b93a122a25944b87ba1abb7774fe67dd",
            "_model_module": "@jupyter-widgets/controls",
            "children": [
              "IPY_MODEL_67fe04324b7e424e8afeb5748f43bea9",
              "IPY_MODEL_6b49a61fe368474994abd76ba02792a7"
            ]
          }
        },
        "b93a122a25944b87ba1abb7774fe67dd": {
          "model_module": "@jupyter-widgets/base",
          "model_name": "LayoutModel",
          "state": {
            "_view_name": "LayoutView",
            "grid_template_rows": null,
            "right": null,
            "justify_content": null,
            "_view_module": "@jupyter-widgets/base",
            "overflow": null,
            "_model_module_version": "1.2.0",
            "_view_count": null,
            "flex_flow": null,
            "width": null,
            "min_width": null,
            "border": null,
            "align_items": null,
            "bottom": null,
            "_model_module": "@jupyter-widgets/base",
            "top": null,
            "grid_column": null,
            "overflow_y": null,
            "overflow_x": null,
            "grid_auto_flow": null,
            "grid_area": null,
            "grid_template_columns": null,
            "flex": null,
            "_model_name": "LayoutModel",
            "justify_items": null,
            "grid_row": null,
            "max_height": null,
            "align_content": null,
            "visibility": null,
            "align_self": null,
            "height": null,
            "min_height": null,
            "padding": null,
            "grid_auto_rows": null,
            "grid_gap": null,
            "max_width": null,
            "order": null,
            "_view_module_version": "1.2.0",
            "grid_template_areas": null,
            "object_position": null,
            "object_fit": null,
            "grid_auto_columns": null,
            "margin": null,
            "display": null,
            "left": null
          }
        },
        "67fe04324b7e424e8afeb5748f43bea9": {
          "model_module": "@jupyter-widgets/controls",
          "model_name": "FloatProgressModel",
          "state": {
            "_view_name": "ProgressView",
            "style": "IPY_MODEL_df9caec6ab124ef7a548284954f0de5d",
            "_dom_classes": [],
            "description": "",
            "_model_name": "FloatProgressModel",
            "bar_style": "info",
            "max": 1,
            "_view_module": "@jupyter-widgets/controls",
            "_model_module_version": "1.5.0",
            "value": 1,
            "_view_count": null,
            "_view_module_version": "1.5.0",
            "orientation": "horizontal",
            "min": 0,
            "description_tooltip": null,
            "_model_module": "@jupyter-widgets/controls",
            "layout": "IPY_MODEL_52e3c0f0a5c44a2e94f8fd7463b048f7"
          }
        },
        "6b49a61fe368474994abd76ba02792a7": {
          "model_module": "@jupyter-widgets/controls",
          "model_name": "HTMLModel",
          "state": {
            "_view_name": "HTMLView",
            "style": "IPY_MODEL_097e64cbe0834c2596035a9a10883cf3",
            "_dom_classes": [],
            "description": "",
            "_model_name": "HTMLModel",
            "placeholder": "​",
            "_view_module": "@jupyter-widgets/controls",
            "_model_module_version": "1.5.0",
            "value": " 25000/0 [00:12&lt;00:00, 3570.60 examples/s]",
            "_view_count": null,
            "_view_module_version": "1.5.0",
            "description_tooltip": null,
            "_model_module": "@jupyter-widgets/controls",
            "layout": "IPY_MODEL_bdde9c4a1a454a4894dcd6cc8c42944b"
          }
        },
        "df9caec6ab124ef7a548284954f0de5d": {
          "model_module": "@jupyter-widgets/controls",
          "model_name": "ProgressStyleModel",
          "state": {
            "_view_name": "StyleView",
            "_model_name": "ProgressStyleModel",
            "description_width": "initial",
            "_view_module": "@jupyter-widgets/base",
            "_model_module_version": "1.5.0",
            "_view_count": null,
            "_view_module_version": "1.2.0",
            "bar_color": null,
            "_model_module": "@jupyter-widgets/controls"
          }
        },
        "52e3c0f0a5c44a2e94f8fd7463b048f7": {
          "model_module": "@jupyter-widgets/base",
          "model_name": "LayoutModel",
          "state": {
            "_view_name": "LayoutView",
            "grid_template_rows": null,
            "right": null,
            "justify_content": null,
            "_view_module": "@jupyter-widgets/base",
            "overflow": null,
            "_model_module_version": "1.2.0",
            "_view_count": null,
            "flex_flow": null,
            "width": null,
            "min_width": null,
            "border": null,
            "align_items": null,
            "bottom": null,
            "_model_module": "@jupyter-widgets/base",
            "top": null,
            "grid_column": null,
            "overflow_y": null,
            "overflow_x": null,
            "grid_auto_flow": null,
            "grid_area": null,
            "grid_template_columns": null,
            "flex": null,
            "_model_name": "LayoutModel",
            "justify_items": null,
            "grid_row": null,
            "max_height": null,
            "align_content": null,
            "visibility": null,
            "align_self": null,
            "height": null,
            "min_height": null,
            "padding": null,
            "grid_auto_rows": null,
            "grid_gap": null,
            "max_width": null,
            "order": null,
            "_view_module_version": "1.2.0",
            "grid_template_areas": null,
            "object_position": null,
            "object_fit": null,
            "grid_auto_columns": null,
            "margin": null,
            "display": null,
            "left": null
          }
        },
        "097e64cbe0834c2596035a9a10883cf3": {
          "model_module": "@jupyter-widgets/controls",
          "model_name": "DescriptionStyleModel",
          "state": {
            "_view_name": "StyleView",
            "_model_name": "DescriptionStyleModel",
            "description_width": "",
            "_view_module": "@jupyter-widgets/base",
            "_model_module_version": "1.5.0",
            "_view_count": null,
            "_view_module_version": "1.2.0",
            "_model_module": "@jupyter-widgets/controls"
          }
        },
        "bdde9c4a1a454a4894dcd6cc8c42944b": {
          "model_module": "@jupyter-widgets/base",
          "model_name": "LayoutModel",
          "state": {
            "_view_name": "LayoutView",
            "grid_template_rows": null,
            "right": null,
            "justify_content": null,
            "_view_module": "@jupyter-widgets/base",
            "overflow": null,
            "_model_module_version": "1.2.0",
            "_view_count": null,
            "flex_flow": null,
            "width": null,
            "min_width": null,
            "border": null,
            "align_items": null,
            "bottom": null,
            "_model_module": "@jupyter-widgets/base",
            "top": null,
            "grid_column": null,
            "overflow_y": null,
            "overflow_x": null,
            "grid_auto_flow": null,
            "grid_area": null,
            "grid_template_columns": null,
            "flex": null,
            "_model_name": "LayoutModel",
            "justify_items": null,
            "grid_row": null,
            "max_height": null,
            "align_content": null,
            "visibility": null,
            "align_self": null,
            "height": null,
            "min_height": null,
            "padding": null,
            "grid_auto_rows": null,
            "grid_gap": null,
            "max_width": null,
            "order": null,
            "_view_module_version": "1.2.0",
            "grid_template_areas": null,
            "object_position": null,
            "object_fit": null,
            "grid_auto_columns": null,
            "margin": null,
            "display": null,
            "left": null
          }
        },
        "a88763f548c5493fbfbee20050e229e8": {
          "model_module": "@jupyter-widgets/controls",
          "model_name": "HBoxModel",
          "state": {
            "_view_name": "HBoxView",
            "_dom_classes": [],
            "_model_name": "HBoxModel",
            "_view_module": "@jupyter-widgets/controls",
            "_model_module_version": "1.5.0",
            "_view_count": null,
            "_view_module_version": "1.5.0",
            "box_style": "",
            "layout": "IPY_MODEL_e0893be23d4a49d38983cb9a7611d9e6",
            "_model_module": "@jupyter-widgets/controls",
            "children": [
              "IPY_MODEL_908d6a56e82848a5bf5b883d2397ba22",
              "IPY_MODEL_8f65d015e85945fb980d94e2ecd9f086"
            ]
          }
        },
        "e0893be23d4a49d38983cb9a7611d9e6": {
          "model_module": "@jupyter-widgets/base",
          "model_name": "LayoutModel",
          "state": {
            "_view_name": "LayoutView",
            "grid_template_rows": null,
            "right": null,
            "justify_content": null,
            "_view_module": "@jupyter-widgets/base",
            "overflow": null,
            "_model_module_version": "1.2.0",
            "_view_count": null,
            "flex_flow": null,
            "width": null,
            "min_width": null,
            "border": null,
            "align_items": null,
            "bottom": null,
            "_model_module": "@jupyter-widgets/base",
            "top": null,
            "grid_column": null,
            "overflow_y": null,
            "overflow_x": null,
            "grid_auto_flow": null,
            "grid_area": null,
            "grid_template_columns": null,
            "flex": null,
            "_model_name": "LayoutModel",
            "justify_items": null,
            "grid_row": null,
            "max_height": null,
            "align_content": null,
            "visibility": null,
            "align_self": null,
            "height": null,
            "min_height": null,
            "padding": null,
            "grid_auto_rows": null,
            "grid_gap": null,
            "max_width": null,
            "order": null,
            "_view_module_version": "1.2.0",
            "grid_template_areas": null,
            "object_position": null,
            "object_fit": null,
            "grid_auto_columns": null,
            "margin": null,
            "display": null,
            "left": null
          }
        },
        "908d6a56e82848a5bf5b883d2397ba22": {
          "model_module": "@jupyter-widgets/controls",
          "model_name": "FloatProgressModel",
          "state": {
            "_view_name": "ProgressView",
            "style": "IPY_MODEL_12ed05909e394292a764f25eafe3660b",
            "_dom_classes": [],
            "description": " 95%",
            "_model_name": "FloatProgressModel",
            "bar_style": "danger",
            "max": 25000,
            "_view_module": "@jupyter-widgets/controls",
            "_model_module_version": "1.5.0",
            "value": 23628,
            "_view_count": null,
            "_view_module_version": "1.5.0",
            "orientation": "horizontal",
            "min": 0,
            "description_tooltip": null,
            "_model_module": "@jupyter-widgets/controls",
            "layout": "IPY_MODEL_4e4a17d84b3c44a1866f0eb002a377cc"
          }
        },
        "8f65d015e85945fb980d94e2ecd9f086": {
          "model_module": "@jupyter-widgets/controls",
          "model_name": "HTMLModel",
          "state": {
            "_view_name": "HTMLView",
            "style": "IPY_MODEL_5a35470f42b94631ad89213f338edb46",
            "_dom_classes": [],
            "description": "",
            "_model_name": "HTMLModel",
            "placeholder": "​",
            "_view_module": "@jupyter-widgets/controls",
            "_model_module_version": "1.5.0",
            "value": " 23628/25000 [00:00&lt;00:00, 38665.32 examples/s]",
            "_view_count": null,
            "_view_module_version": "1.5.0",
            "description_tooltip": null,
            "_model_module": "@jupyter-widgets/controls",
            "layout": "IPY_MODEL_b89ff09081394b93a8c1d3e1aa5a5dd6"
          }
        },
        "12ed05909e394292a764f25eafe3660b": {
          "model_module": "@jupyter-widgets/controls",
          "model_name": "ProgressStyleModel",
          "state": {
            "_view_name": "StyleView",
            "_model_name": "ProgressStyleModel",
            "description_width": "initial",
            "_view_module": "@jupyter-widgets/base",
            "_model_module_version": "1.5.0",
            "_view_count": null,
            "_view_module_version": "1.2.0",
            "bar_color": null,
            "_model_module": "@jupyter-widgets/controls"
          }
        },
        "4e4a17d84b3c44a1866f0eb002a377cc": {
          "model_module": "@jupyter-widgets/base",
          "model_name": "LayoutModel",
          "state": {
            "_view_name": "LayoutView",
            "grid_template_rows": null,
            "right": null,
            "justify_content": null,
            "_view_module": "@jupyter-widgets/base",
            "overflow": null,
            "_model_module_version": "1.2.0",
            "_view_count": null,
            "flex_flow": null,
            "width": null,
            "min_width": null,
            "border": null,
            "align_items": null,
            "bottom": null,
            "_model_module": "@jupyter-widgets/base",
            "top": null,
            "grid_column": null,
            "overflow_y": null,
            "overflow_x": null,
            "grid_auto_flow": null,
            "grid_area": null,
            "grid_template_columns": null,
            "flex": null,
            "_model_name": "LayoutModel",
            "justify_items": null,
            "grid_row": null,
            "max_height": null,
            "align_content": null,
            "visibility": null,
            "align_self": null,
            "height": null,
            "min_height": null,
            "padding": null,
            "grid_auto_rows": null,
            "grid_gap": null,
            "max_width": null,
            "order": null,
            "_view_module_version": "1.2.0",
            "grid_template_areas": null,
            "object_position": null,
            "object_fit": null,
            "grid_auto_columns": null,
            "margin": null,
            "display": null,
            "left": null
          }
        },
        "5a35470f42b94631ad89213f338edb46": {
          "model_module": "@jupyter-widgets/controls",
          "model_name": "DescriptionStyleModel",
          "state": {
            "_view_name": "StyleView",
            "_model_name": "DescriptionStyleModel",
            "description_width": "",
            "_view_module": "@jupyter-widgets/base",
            "_model_module_version": "1.5.0",
            "_view_count": null,
            "_view_module_version": "1.2.0",
            "_model_module": "@jupyter-widgets/controls"
          }
        },
        "b89ff09081394b93a8c1d3e1aa5a5dd6": {
          "model_module": "@jupyter-widgets/base",
          "model_name": "LayoutModel",
          "state": {
            "_view_name": "LayoutView",
            "grid_template_rows": null,
            "right": null,
            "justify_content": null,
            "_view_module": "@jupyter-widgets/base",
            "overflow": null,
            "_model_module_version": "1.2.0",
            "_view_count": null,
            "flex_flow": null,
            "width": null,
            "min_width": null,
            "border": null,
            "align_items": null,
            "bottom": null,
            "_model_module": "@jupyter-widgets/base",
            "top": null,
            "grid_column": null,
            "overflow_y": null,
            "overflow_x": null,
            "grid_auto_flow": null,
            "grid_area": null,
            "grid_template_columns": null,
            "flex": null,
            "_model_name": "LayoutModel",
            "justify_items": null,
            "grid_row": null,
            "max_height": null,
            "align_content": null,
            "visibility": null,
            "align_self": null,
            "height": null,
            "min_height": null,
            "padding": null,
            "grid_auto_rows": null,
            "grid_gap": null,
            "max_width": null,
            "order": null,
            "_view_module_version": "1.2.0",
            "grid_template_areas": null,
            "object_position": null,
            "object_fit": null,
            "grid_auto_columns": null,
            "margin": null,
            "display": null,
            "left": null
          }
        },
        "08e571bbc18b4feea5ebbd1847686623": {
          "model_module": "@jupyter-widgets/controls",
          "model_name": "HBoxModel",
          "state": {
            "_view_name": "HBoxView",
            "_dom_classes": [],
            "_model_name": "HBoxModel",
            "_view_module": "@jupyter-widgets/controls",
            "_model_module_version": "1.5.0",
            "_view_count": null,
            "_view_module_version": "1.5.0",
            "box_style": "",
            "layout": "IPY_MODEL_58f52eb97d50468c925be5e835c46c6b",
            "_model_module": "@jupyter-widgets/controls",
            "children": [
              "IPY_MODEL_86da2cd638a047d28eea84720912174d",
              "IPY_MODEL_ffab24297429400ab8ae0fea0a3da1e7"
            ]
          }
        },
        "58f52eb97d50468c925be5e835c46c6b": {
          "model_module": "@jupyter-widgets/base",
          "model_name": "LayoutModel",
          "state": {
            "_view_name": "LayoutView",
            "grid_template_rows": null,
            "right": null,
            "justify_content": null,
            "_view_module": "@jupyter-widgets/base",
            "overflow": null,
            "_model_module_version": "1.2.0",
            "_view_count": null,
            "flex_flow": null,
            "width": null,
            "min_width": null,
            "border": null,
            "align_items": null,
            "bottom": null,
            "_model_module": "@jupyter-widgets/base",
            "top": null,
            "grid_column": null,
            "overflow_y": null,
            "overflow_x": null,
            "grid_auto_flow": null,
            "grid_area": null,
            "grid_template_columns": null,
            "flex": null,
            "_model_name": "LayoutModel",
            "justify_items": null,
            "grid_row": null,
            "max_height": null,
            "align_content": null,
            "visibility": null,
            "align_self": null,
            "height": null,
            "min_height": null,
            "padding": null,
            "grid_auto_rows": null,
            "grid_gap": null,
            "max_width": null,
            "order": null,
            "_view_module_version": "1.2.0",
            "grid_template_areas": null,
            "object_position": null,
            "object_fit": null,
            "grid_auto_columns": null,
            "margin": null,
            "display": null,
            "left": null
          }
        },
        "86da2cd638a047d28eea84720912174d": {
          "model_module": "@jupyter-widgets/controls",
          "model_name": "FloatProgressModel",
          "state": {
            "_view_name": "ProgressView",
            "style": "IPY_MODEL_32bf52d4bd9543afa89aceaaf4ee44c3",
            "_dom_classes": [],
            "description": "",
            "_model_name": "FloatProgressModel",
            "bar_style": "info",
            "max": 1,
            "_view_module": "@jupyter-widgets/controls",
            "_model_module_version": "1.5.0",
            "value": 1,
            "_view_count": null,
            "_view_module_version": "1.5.0",
            "orientation": "horizontal",
            "min": 0,
            "description_tooltip": null,
            "_model_module": "@jupyter-widgets/controls",
            "layout": "IPY_MODEL_2e89a7b53fdf4028a9725854a3b16013"
          }
        },
        "ffab24297429400ab8ae0fea0a3da1e7": {
          "model_module": "@jupyter-widgets/controls",
          "model_name": "HTMLModel",
          "state": {
            "_view_name": "HTMLView",
            "style": "IPY_MODEL_f9b5c4bc50a5411ba27c4d94819dcc0f",
            "_dom_classes": [],
            "description": "",
            "_model_name": "HTMLModel",
            "placeholder": "​",
            "_view_module": "@jupyter-widgets/controls",
            "_model_module_version": "1.5.0",
            "value": " 50000/0 [00:17&lt;00:00, 3692.05 examples/s]",
            "_view_count": null,
            "_view_module_version": "1.5.0",
            "description_tooltip": null,
            "_model_module": "@jupyter-widgets/controls",
            "layout": "IPY_MODEL_4b5a4b10ded0421d9ea05bfce7e5c7f4"
          }
        },
        "32bf52d4bd9543afa89aceaaf4ee44c3": {
          "model_module": "@jupyter-widgets/controls",
          "model_name": "ProgressStyleModel",
          "state": {
            "_view_name": "StyleView",
            "_model_name": "ProgressStyleModel",
            "description_width": "initial",
            "_view_module": "@jupyter-widgets/base",
            "_model_module_version": "1.5.0",
            "_view_count": null,
            "_view_module_version": "1.2.0",
            "bar_color": null,
            "_model_module": "@jupyter-widgets/controls"
          }
        },
        "2e89a7b53fdf4028a9725854a3b16013": {
          "model_module": "@jupyter-widgets/base",
          "model_name": "LayoutModel",
          "state": {
            "_view_name": "LayoutView",
            "grid_template_rows": null,
            "right": null,
            "justify_content": null,
            "_view_module": "@jupyter-widgets/base",
            "overflow": null,
            "_model_module_version": "1.2.0",
            "_view_count": null,
            "flex_flow": null,
            "width": null,
            "min_width": null,
            "border": null,
            "align_items": null,
            "bottom": null,
            "_model_module": "@jupyter-widgets/base",
            "top": null,
            "grid_column": null,
            "overflow_y": null,
            "overflow_x": null,
            "grid_auto_flow": null,
            "grid_area": null,
            "grid_template_columns": null,
            "flex": null,
            "_model_name": "LayoutModel",
            "justify_items": null,
            "grid_row": null,
            "max_height": null,
            "align_content": null,
            "visibility": null,
            "align_self": null,
            "height": null,
            "min_height": null,
            "padding": null,
            "grid_auto_rows": null,
            "grid_gap": null,
            "max_width": null,
            "order": null,
            "_view_module_version": "1.2.0",
            "grid_template_areas": null,
            "object_position": null,
            "object_fit": null,
            "grid_auto_columns": null,
            "margin": null,
            "display": null,
            "left": null
          }
        },
        "f9b5c4bc50a5411ba27c4d94819dcc0f": {
          "model_module": "@jupyter-widgets/controls",
          "model_name": "DescriptionStyleModel",
          "state": {
            "_view_name": "StyleView",
            "_model_name": "DescriptionStyleModel",
            "description_width": "",
            "_view_module": "@jupyter-widgets/base",
            "_model_module_version": "1.5.0",
            "_view_count": null,
            "_view_module_version": "1.2.0",
            "_model_module": "@jupyter-widgets/controls"
          }
        },
        "4b5a4b10ded0421d9ea05bfce7e5c7f4": {
          "model_module": "@jupyter-widgets/base",
          "model_name": "LayoutModel",
          "state": {
            "_view_name": "LayoutView",
            "grid_template_rows": null,
            "right": null,
            "justify_content": null,
            "_view_module": "@jupyter-widgets/base",
            "overflow": null,
            "_model_module_version": "1.2.0",
            "_view_count": null,
            "flex_flow": null,
            "width": null,
            "min_width": null,
            "border": null,
            "align_items": null,
            "bottom": null,
            "_model_module": "@jupyter-widgets/base",
            "top": null,
            "grid_column": null,
            "overflow_y": null,
            "overflow_x": null,
            "grid_auto_flow": null,
            "grid_area": null,
            "grid_template_columns": null,
            "flex": null,
            "_model_name": "LayoutModel",
            "justify_items": null,
            "grid_row": null,
            "max_height": null,
            "align_content": null,
            "visibility": null,
            "align_self": null,
            "height": null,
            "min_height": null,
            "padding": null,
            "grid_auto_rows": null,
            "grid_gap": null,
            "max_width": null,
            "order": null,
            "_view_module_version": "1.2.0",
            "grid_template_areas": null,
            "object_position": null,
            "object_fit": null,
            "grid_auto_columns": null,
            "margin": null,
            "display": null,
            "left": null
          }
        },
        "0b54a93697d0406d823cb231c1bcb198": {
          "model_module": "@jupyter-widgets/controls",
          "model_name": "HBoxModel",
          "state": {
            "_view_name": "HBoxView",
            "_dom_classes": [],
            "_model_name": "HBoxModel",
            "_view_module": "@jupyter-widgets/controls",
            "_model_module_version": "1.5.0",
            "_view_count": null,
            "_view_module_version": "1.5.0",
            "box_style": "",
            "layout": "IPY_MODEL_8b7bc7e77aa84350bedb09dc55b7e874",
            "_model_module": "@jupyter-widgets/controls",
            "children": [
              "IPY_MODEL_0fc2c0833dc14bf4bafce13b89aeea2c",
              "IPY_MODEL_9c28314437ce42ec9f08781b43710577"
            ]
          }
        },
        "8b7bc7e77aa84350bedb09dc55b7e874": {
          "model_module": "@jupyter-widgets/base",
          "model_name": "LayoutModel",
          "state": {
            "_view_name": "LayoutView",
            "grid_template_rows": null,
            "right": null,
            "justify_content": null,
            "_view_module": "@jupyter-widgets/base",
            "overflow": null,
            "_model_module_version": "1.2.0",
            "_view_count": null,
            "flex_flow": null,
            "width": null,
            "min_width": null,
            "border": null,
            "align_items": null,
            "bottom": null,
            "_model_module": "@jupyter-widgets/base",
            "top": null,
            "grid_column": null,
            "overflow_y": null,
            "overflow_x": null,
            "grid_auto_flow": null,
            "grid_area": null,
            "grid_template_columns": null,
            "flex": null,
            "_model_name": "LayoutModel",
            "justify_items": null,
            "grid_row": null,
            "max_height": null,
            "align_content": null,
            "visibility": null,
            "align_self": null,
            "height": null,
            "min_height": null,
            "padding": null,
            "grid_auto_rows": null,
            "grid_gap": null,
            "max_width": null,
            "order": null,
            "_view_module_version": "1.2.0",
            "grid_template_areas": null,
            "object_position": null,
            "object_fit": null,
            "grid_auto_columns": null,
            "margin": null,
            "display": null,
            "left": null
          }
        },
        "0fc2c0833dc14bf4bafce13b89aeea2c": {
          "model_module": "@jupyter-widgets/controls",
          "model_name": "FloatProgressModel",
          "state": {
            "_view_name": "ProgressView",
            "style": "IPY_MODEL_2142fc24d8f34f8fb95d46068c086165",
            "_dom_classes": [],
            "description": " 91%",
            "_model_name": "FloatProgressModel",
            "bar_style": "danger",
            "max": 50000,
            "_view_module": "@jupyter-widgets/controls",
            "_model_module_version": "1.5.0",
            "value": 45622,
            "_view_count": null,
            "_view_module_version": "1.5.0",
            "orientation": "horizontal",
            "min": 0,
            "description_tooltip": null,
            "_model_module": "@jupyter-widgets/controls",
            "layout": "IPY_MODEL_79fdbfaff9ab43878b1abbff41df74ec"
          }
        },
        "9c28314437ce42ec9f08781b43710577": {
          "model_module": "@jupyter-widgets/controls",
          "model_name": "HTMLModel",
          "state": {
            "_view_name": "HTMLView",
            "style": "IPY_MODEL_93823d8f76a44887adf25774852526f6",
            "_dom_classes": [],
            "description": "",
            "_model_name": "HTMLModel",
            "placeholder": "​",
            "_view_module": "@jupyter-widgets/controls",
            "_model_module_version": "1.5.0",
            "value": " 45622/50000 [00:06&lt;00:00, 41625.29 examples/s]",
            "_view_count": null,
            "_view_module_version": "1.5.0",
            "description_tooltip": null,
            "_model_module": "@jupyter-widgets/controls",
            "layout": "IPY_MODEL_67976486035746378d6895e90984e857"
          }
        },
        "2142fc24d8f34f8fb95d46068c086165": {
          "model_module": "@jupyter-widgets/controls",
          "model_name": "ProgressStyleModel",
          "state": {
            "_view_name": "StyleView",
            "_model_name": "ProgressStyleModel",
            "description_width": "initial",
            "_view_module": "@jupyter-widgets/base",
            "_model_module_version": "1.5.0",
            "_view_count": null,
            "_view_module_version": "1.2.0",
            "bar_color": null,
            "_model_module": "@jupyter-widgets/controls"
          }
        },
        "79fdbfaff9ab43878b1abbff41df74ec": {
          "model_module": "@jupyter-widgets/base",
          "model_name": "LayoutModel",
          "state": {
            "_view_name": "LayoutView",
            "grid_template_rows": null,
            "right": null,
            "justify_content": null,
            "_view_module": "@jupyter-widgets/base",
            "overflow": null,
            "_model_module_version": "1.2.0",
            "_view_count": null,
            "flex_flow": null,
            "width": null,
            "min_width": null,
            "border": null,
            "align_items": null,
            "bottom": null,
            "_model_module": "@jupyter-widgets/base",
            "top": null,
            "grid_column": null,
            "overflow_y": null,
            "overflow_x": null,
            "grid_auto_flow": null,
            "grid_area": null,
            "grid_template_columns": null,
            "flex": null,
            "_model_name": "LayoutModel",
            "justify_items": null,
            "grid_row": null,
            "max_height": null,
            "align_content": null,
            "visibility": null,
            "align_self": null,
            "height": null,
            "min_height": null,
            "padding": null,
            "grid_auto_rows": null,
            "grid_gap": null,
            "max_width": null,
            "order": null,
            "_view_module_version": "1.2.0",
            "grid_template_areas": null,
            "object_position": null,
            "object_fit": null,
            "grid_auto_columns": null,
            "margin": null,
            "display": null,
            "left": null
          }
        },
        "93823d8f76a44887adf25774852526f6": {
          "model_module": "@jupyter-widgets/controls",
          "model_name": "DescriptionStyleModel",
          "state": {
            "_view_name": "StyleView",
            "_model_name": "DescriptionStyleModel",
            "description_width": "",
            "_view_module": "@jupyter-widgets/base",
            "_model_module_version": "1.5.0",
            "_view_count": null,
            "_view_module_version": "1.2.0",
            "_model_module": "@jupyter-widgets/controls"
          }
        },
        "67976486035746378d6895e90984e857": {
          "model_module": "@jupyter-widgets/base",
          "model_name": "LayoutModel",
          "state": {
            "_view_name": "LayoutView",
            "grid_template_rows": null,
            "right": null,
            "justify_content": null,
            "_view_module": "@jupyter-widgets/base",
            "overflow": null,
            "_model_module_version": "1.2.0",
            "_view_count": null,
            "flex_flow": null,
            "width": null,
            "min_width": null,
            "border": null,
            "align_items": null,
            "bottom": null,
            "_model_module": "@jupyter-widgets/base",
            "top": null,
            "grid_column": null,
            "overflow_y": null,
            "overflow_x": null,
            "grid_auto_flow": null,
            "grid_area": null,
            "grid_template_columns": null,
            "flex": null,
            "_model_name": "LayoutModel",
            "justify_items": null,
            "grid_row": null,
            "max_height": null,
            "align_content": null,
            "visibility": null,
            "align_self": null,
            "height": null,
            "min_height": null,
            "padding": null,
            "grid_auto_rows": null,
            "grid_gap": null,
            "max_width": null,
            "order": null,
            "_view_module_version": "1.2.0",
            "grid_template_areas": null,
            "object_position": null,
            "object_fit": null,
            "grid_auto_columns": null,
            "margin": null,
            "display": null,
            "left": null
          }
        }
      }
    }
  },
  "cells": [
    {
      "cell_type": "markdown",
      "metadata": {
        "id": "view-in-github",
        "colab_type": "text"
      },
      "source": [
        "<a href=\"https://colab.research.google.com/github/yshan9/deep_learning/blob/master/ml_hw6.ipynb\" target=\"_parent\"><img src=\"https://colab.research.google.com/assets/colab-badge.svg\" alt=\"Open In Colab\"/></a>"
      ]
    },
    {
      "cell_type": "markdown",
      "metadata": {
        "id": "cMSn67px4ANI",
        "toc": true
      },
      "source": [
        "<h1>Table of Contents<span class=\"tocSkip\"></span></h1>\n",
        "<div class=\"toc\"><ul class=\"toc-item\"><li><span><a href=\"#Overview\" data-toc-modified-id=\"Overview-1\"><span class=\"toc-item-num\">1&nbsp;&nbsp;</span>Overview</a></span></li><li><span><a href=\"#Notebook-Configuration\" data-toc-modified-id=\"Notebook-Configuration-2\"><span class=\"toc-item-num\">2&nbsp;&nbsp;</span>Notebook Configuration</a></span><ul class=\"toc-item\"><li><span><a href=\"#Google-drive\" data-toc-modified-id=\"Google-drive-2.1\"><span class=\"toc-item-num\">2.1&nbsp;&nbsp;</span>Google drive</a></span></li><li><span><a href=\"#Warning\" data-toc-modified-id=\"Warning-2.2\"><span class=\"toc-item-num\">2.2&nbsp;&nbsp;</span>Warning</a></span></li><li><span><a href=\"#Matplotlib\" data-toc-modified-id=\"Matplotlib-2.3\"><span class=\"toc-item-num\">2.3&nbsp;&nbsp;</span>Matplotlib</a></span></li><li><span><a href=\"#TensorFlow\" data-toc-modified-id=\"TensorFlow-2.4\"><span class=\"toc-item-num\">2.4&nbsp;&nbsp;</span>TensorFlow</a></span></li><li><span><a href=\"#Random-seed\" data-toc-modified-id=\"Random-seed-2.5\"><span class=\"toc-item-num\">2.5&nbsp;&nbsp;</span>Random seed</a></span></li></ul></li><li><span><a href=\"#Data-Preprocessing\" data-toc-modified-id=\"Data-Preprocessing-3\"><span class=\"toc-item-num\">3&nbsp;&nbsp;</span>Data Preprocessing</a></span><ul class=\"toc-item\"><li><span><a href=\"#Loading-data\" data-toc-modified-id=\"Loading-data-3.1\"><span class=\"toc-item-num\">3.1&nbsp;&nbsp;</span>Loading data</a></span><ul class=\"toc-item\"><li><span><a href=\"#Creating-the-directory-for-the-data\" data-toc-modified-id=\"Creating-the-directory-for-the-data-3.1.1\"><span class=\"toc-item-num\">3.1.1&nbsp;&nbsp;</span>Creating the directory for the data</a></span></li><li><span><a href=\"#Downloading-data-to-the-directory\" data-toc-modified-id=\"Downloading-data-to-the-directory-3.1.2\"><span class=\"toc-item-num\">3.1.2&nbsp;&nbsp;</span>Downloading data to the directory</a></span></li></ul></li><li><span><a href=\"#Getting-the-name-of-the-target\" data-toc-modified-id=\"Getting-the-name-of-the-target-3.2\"><span class=\"toc-item-num\">3.2&nbsp;&nbsp;</span>Getting the name of the target</a></span></li><li><span><a href=\"#Getting-the-info\" data-toc-modified-id=\"Getting-the-info-3.3\"><span class=\"toc-item-num\">3.3&nbsp;&nbsp;</span>Getting the info</a></span></li><li><span><a href=\"#Getting-the-training,-validation-and-test-data\" data-toc-modified-id=\"Getting-the-training,-validation-and-test-data-3.4\"><span class=\"toc-item-num\">3.4&nbsp;&nbsp;</span>Getting the training, validation and test data</a></span></li><li><span><a href=\"#Batching-and-prefetching-the-data\" data-toc-modified-id=\"Batching-and-prefetching-the-data-3.5\"><span class=\"toc-item-num\">3.5&nbsp;&nbsp;</span>Batching and prefetching the data</a></span></li></ul></li><li><span><a href=\"#Training\" data-toc-modified-id=\"Training-4\"><span class=\"toc-item-num\">4&nbsp;&nbsp;</span>Training</a></span><ul class=\"toc-item\"><li><span><a href=\"#Creating-the-directory-for-the-model\" data-toc-modified-id=\"Creating-the-directory-for-the-model-4.1\"><span class=\"toc-item-num\">4.1&nbsp;&nbsp;</span>Creating the directory for the model</a></span></li><li><span><a href=\"#Building-the-architecture-of-the-model\" data-toc-modified-id=\"Building-the-architecture-of-the-model-4.2\"><span class=\"toc-item-num\">4.2&nbsp;&nbsp;</span>Building the architecture of the model</a></span></li><li><span><a href=\"#Freezing-the-pretrained-layers\" data-toc-modified-id=\"Freezing-the-pretrained-layers-4.3\"><span class=\"toc-item-num\">4.3&nbsp;&nbsp;</span>Freezing the pretrained layers</a></span></li><li><span><a href=\"#Setting-Callbacks\" data-toc-modified-id=\"Setting-Callbacks-4.4\"><span class=\"toc-item-num\">4.4&nbsp;&nbsp;</span>Setting Callbacks</a></span></li><li><span><a href=\"#Compiling-the-model\" data-toc-modified-id=\"Compiling-the-model-4.5\"><span class=\"toc-item-num\">4.5&nbsp;&nbsp;</span>Compiling the model</a></span></li><li><span><a href=\"#Training-the-model\" data-toc-modified-id=\"Training-the-model-4.6\"><span class=\"toc-item-num\">4.6&nbsp;&nbsp;</span>Training the model</a></span></li><li><span><a href=\"#Plotting-the-learning-curve\" data-toc-modified-id=\"Plotting-the-learning-curve-4.7\"><span class=\"toc-item-num\">4.7&nbsp;&nbsp;</span>Plotting the learning curve</a></span><ul class=\"toc-item\"><li><span><a href=\"#Creating-the-directory-for-the-figure\" data-toc-modified-id=\"Creating-the-directory-for-the-figure-4.7.1\"><span class=\"toc-item-num\">4.7.1&nbsp;&nbsp;</span>Creating the directory for the figure</a></span></li></ul></li><li><span><a href=\"#Unfreezing-the-pretrained-layers\" data-toc-modified-id=\"Unfreezing-the-pretrained-layers-4.8\"><span class=\"toc-item-num\">4.8&nbsp;&nbsp;</span>Unfreezing the pretrained layers</a></span></li><li><span><a href=\"#Compiling-the-model\" data-toc-modified-id=\"Compiling-the-model-4.9\"><span class=\"toc-item-num\">4.9&nbsp;&nbsp;</span>Compiling the model</a></span></li><li><span><a href=\"#Training-the-model\" data-toc-modified-id=\"Training-the-model-4.10\"><span class=\"toc-item-num\">4.10&nbsp;&nbsp;</span>Training the model</a></span></li><li><span><a href=\"#Plotting-the-learning-curve\" data-toc-modified-id=\"Plotting-the-learning-curve-4.11\"><span class=\"toc-item-num\">4.11&nbsp;&nbsp;</span>Plotting the learning curve</a></span></li></ul></li><li><span><a href=\"#Testing\" data-toc-modified-id=\"Testing-5\"><span class=\"toc-item-num\">5&nbsp;&nbsp;</span>Testing</a></span><ul class=\"toc-item\"><li><span><a href=\"#Loading-the-saved-model\" data-toc-modified-id=\"Loading-the-saved-model-5.1\"><span class=\"toc-item-num\">5.1&nbsp;&nbsp;</span>Loading the saved model</a></span></li><li><span><a href=\"#Evaluating-the-model\" data-toc-modified-id=\"Evaluating-the-model-5.2\"><span class=\"toc-item-num\">5.2&nbsp;&nbsp;</span>Evaluating the model</a></span></li></ul></li></ul></div>"
      ]
    },
    {
      "cell_type": "markdown",
      "metadata": {
        "id": "42yc1zUrzlEh"
      },
      "source": [
        "<b>\n",
        "<p>\n",
        "<center>\n",
        "<font size='5'>\n",
        "Popular Machine Learning Methods: Idea, Practice and Math\n",
        "</font>\n",
        "</center>\n",
        "</p>\n",
        "\n",
        "<p>\n",
        "<center>\n",
        "<font size='4'>\n",
        "Part 3, Chapter 2, Section 4: Recurrent Neural Networks\n",
        "</font>\n",
        "</center>\n",
        "</p>\n",
        "    \n",
        "<p>\n",
        "<center>\n",
        "<font size='4'>\n",
        "Homework 6\n",
        "</font>\n",
        "</center>\n",
        "</p>\n",
        "\n",
        "<p>\n",
        "<center>\n",
        "<font size='3'>\n",
        "Data Science, Columbian College of Arts & Sciences, George Washington University\n",
        "</font>\n",
        "</center>\n",
        "</p>\n",
        "\n",
        "<p>\n",
        "<center>\n",
        "<font size='3'>\n",
        "Yuxiao Huang\n",
        "</font>\n",
        "</center>\n",
        "</p>\n",
        "</b>"
      ]
    },
    {
      "cell_type": "markdown",
      "metadata": {
        "id": "rT2SKHw2zlEi"
      },
      "source": [
        "# Overview"
      ]
    },
    {
      "cell_type": "markdown",
      "metadata": {
        "id": "asZWLrJKzlEj"
      },
      "source": [
        "- This notebook includes homework 6 for Recurrent Neural Networks (Part 3, Chapter 2, Section 4).\n",
        "- See the accompanied slides in our [github repository](https://github.com/yuxiaohuang/teaching/tree/master/gwu/machine_learning_I/fall_2020/slides/p3_deep_learning/p3_c2_supervised_learning/p3_c2_s4_recurrent_neural_networks).\n",
        "- Here we will work on TensorFlow Dataset [yelp_polarity_reviews](https://www.tensorflow.org/datasets/catalog/yelp_polarity_reviews).\n",
        "- The goal of this homework is tweaking the pipeline (including data preprocessing, building, compiling and training DNNs) implemented in [/p3 c2 s4 recurrent_neural_networks/case_study](https://github.com/yuxiaohuang/teaching/blob/master/gwu/machine_learning_I/fall_2020/code/p3_deep_learning/p3_c2_supervised_learning/p3_c2_s4_recurrent_neural_networks/case_study/case_study.ipynb) to make it work for the new dataset mentioned above.\n",
        "- Complete the missing parts indicated by # Implement me.\n",
        "- Particularly, the code should\n",
        "    - be bug-free (note that the output produced by your solution may not necessarily be the same as the provided output, due to version issues)\n",
        "    - be commented\n",
        "- **Marks will be deducted if the above requirements (for the code) are not met**.\n",
        "- Submit an ipynb file named homework_6.ipynb to [blackboard](https://blackboard.gwu.edu) folder /Assignments/Homework_6/."
      ]
    },
    {
      "cell_type": "markdown",
      "metadata": {
        "id": "WJ-IbZqAgILJ"
      },
      "source": [
        "# Notebook Configuration"
      ]
    },
    {
      "cell_type": "markdown",
      "metadata": {
        "id": "H3yB94KtgMHu"
      },
      "source": [
        "## Google drive"
      ]
    },
    {
      "cell_type": "code",
      "metadata": {
        "colab": {
          "base_uri": "https://localhost:8080/"
        },
        "id": "jWmYBTOwgNs-",
        "scrolled": true,
        "outputId": "c1a83a3c-5d84-4405-ea29-c3510c6bd257"
      },
      "source": [
        "from google.colab import drive\n",
        "import sys\n",
        "\n",
        "# Mount Google Drive\n",
        "drive.mount('/content/drive')\n",
        "\n",
        "# Get the absolute path of the current folder\n",
        "abspath_curr = '/content/drive/My Drive/Colab Notebooks/datasets'\n",
        "\n",
        "# Get the absolute path of the deep utilities folder\n",
        "abspath_util_deep = '/content/drive/My Drive/Colab Notebooks/code/utilities/p3_deep_learning/'"
      ],
      "execution_count": 1,
      "outputs": [
        {
          "output_type": "stream",
          "text": [
            "Mounted at /content/drive\n"
          ],
          "name": "stdout"
        }
      ]
    },
    {
      "cell_type": "markdown",
      "metadata": {
        "id": "bYZhU1Wqgmqx"
      },
      "source": [
        "## Warning"
      ]
    },
    {
      "cell_type": "code",
      "metadata": {
        "id": "MUl4k83e4ANR"
      },
      "source": [
        "import warnings\n",
        "\n",
        "# Ignore warnings\n",
        "warnings.filterwarnings('ignore')"
      ],
      "execution_count": 3,
      "outputs": []
    },
    {
      "cell_type": "markdown",
      "metadata": {
        "id": "6WMODpPfgn2U"
      },
      "source": [
        "## Matplotlib"
      ]
    },
    {
      "cell_type": "code",
      "metadata": {
        "id": "DBRVH9SB4ANb"
      },
      "source": [
        "import matplotlib.pyplot as plt\n",
        "%matplotlib inline \n",
        "\n",
        "# Set matplotlib sizes\n",
        "plt.rc('font', size=20)\n",
        "plt.rc('axes', titlesize=20)\n",
        "plt.rc('axes', labelsize=20)\n",
        "plt.rc('xtick', labelsize=20)\n",
        "plt.rc('ytick', labelsize=20)\n",
        "plt.rc('legend', fontsize=20)\n",
        "plt.rc('figure', titlesize=20)"
      ],
      "execution_count": 4,
      "outputs": []
    },
    {
      "cell_type": "markdown",
      "metadata": {
        "id": "n-wNDk5nZhhO"
      },
      "source": [
        "## TensorFlow"
      ]
    },
    {
      "cell_type": "code",
      "metadata": {
        "id": "LjG43tEnZkfE"
      },
      "source": [
        "# The magic below allows us to use tensorflow version 2.x\n",
        "%tensorflow_version 2.x \n",
        "import tensorflow_hub as hub\n",
        "import tensorflow as tf\n",
        "from tensorflow import keras"
      ],
      "execution_count": 5,
      "outputs": []
    },
    {
      "cell_type": "markdown",
      "metadata": {
        "id": "40FN3UNfO2Z7"
      },
      "source": [
        "## Random seed"
      ]
    },
    {
      "cell_type": "code",
      "metadata": {
        "id": "uSADk0hJP71d"
      },
      "source": [
        "# The random seed\n",
        "random_seed = 42\n",
        "\n",
        "# Set random seed in tensorflow\n",
        "tf.random.set_seed(random_seed)\n",
        "\n",
        "# Set random seed in numpy\n",
        "import numpy as np\n",
        "np.random.seed(random_seed)"
      ],
      "execution_count": 6,
      "outputs": []
    },
    {
      "cell_type": "markdown",
      "metadata": {
        "id": "1eOpQpPu4ANk"
      },
      "source": [
        "# Data Preprocessing"
      ]
    },
    {
      "cell_type": "code",
      "metadata": {
        "colab": {
          "base_uri": "https://localhost:8080/"
        },
        "id": "D-Mwc6MczlFD",
        "outputId": "71a78cd9-6bfb-4ba3-8767-be40ead15b1e"
      },
      "source": [
        "# Change working directory to the absolute path of the deep utilities folder\n",
        "%cd $abspath_util_deep\n",
        "\n",
        "# Import the deep utitilities\n",
        "%run pmlm_utilities_deep.ipynb"
      ],
      "execution_count": 7,
      "outputs": [
        {
          "output_type": "stream",
          "text": [
            "/content/drive/My Drive/Colab Notebooks/code/utilities/p3_deep_learning\n"
          ],
          "name": "stdout"
        }
      ]
    },
    {
      "cell_type": "code",
      "metadata": {
        "id": "yBIqyg1W3zSR"
      },
      "source": [
        "import os\n",
        "\n",
        "# Make directory\n",
        "directory = os.path.dirname(abspath_curr + 'acllmdb_v1.tar/')\n",
        "if not os.path.exists(directory):\n",
        "    os.makedirs(directory)"
      ],
      "execution_count": 8,
      "outputs": []
    },
    {
      "cell_type": "code",
      "metadata": {
        "id": "X-TVbUtZ3f9G"
      },
      "source": [
        "# Implement me"
      ],
      "execution_count": null,
      "outputs": []
    },
    {
      "cell_type": "code",
      "metadata": {
        "colab": {
          "base_uri": "https://localhost:8080/",
          "height": 367,
          "referenced_widgets": [
            "9888eae2e70e42da934b7895f376cb92",
            "10924b9da73f41d4aa63ff66ded685da",
            "3d7cfc5064064cd292d3ba565ce710ec",
            "3dfaaf35511b41a28fabb0114410549c",
            "9ce94c1176d945e2a8f2d5de97ef561b",
            "cfd166979d9546599c8ffb38288f2f58",
            "32ec5edc47f245e7be62ea66399d36da",
            "cf9d483ab3b64d7e88e8b08ce26fe9f6",
            "37ad9a19299045a887874f64690fe790",
            "38c98539b22640ea98d077971b86f238",
            "a62f138ec3474b59b7f7245c1f3703f5",
            "8bc62140ac764a24b607e483a15cd485",
            "60dc0d6849fd4ec8bf8ffb16dff96e90",
            "ce22ffa872fe4ab6aed89628a0a343e8",
            "e39b00693c4b4b7daef6629c94349c06",
            "85fb437c923f4142bf772c6032ea14d7",
            "e86c032b52ef48fb9b7c6ed765584d0a",
            "884b8692d6604fa8a77980e554042e7d",
            "2b66f972ed0b427eaf4cdbeb9d64e0a3",
            "f8238d8f0647473ea2877065e006f891",
            "e94f4e02f4de4c7ab1b4cd1f92a5e6c9",
            "ae0d830af3914eadafd0163ed6675ec3",
            "f085b3214cca40dd85a4c08c99de9916",
            "99dbd13e743e496ba4872402eb091f2a",
            "db8ab3e59ad64e018b1d8de0f74bc048",
            "0c58a06fb62147a08084277f74e574c5",
            "fb72e4b647e34fe8a7b177a9f88a9441",
            "f92f72266ed340d68d09578bc0f4c91d",
            "1a36f11e5b06419bbca751123b2728e4",
            "8da55d5223a04456a63f23412927cd7b",
            "3ee6ddebd3f24efbbc7ce758f68860ed",
            "c44be3a83d5e4e06adfcf00fd24d039b",
            "511c300e12c74932901e51a02b0ca25f",
            "b93a122a25944b87ba1abb7774fe67dd",
            "67fe04324b7e424e8afeb5748f43bea9",
            "6b49a61fe368474994abd76ba02792a7",
            "df9caec6ab124ef7a548284954f0de5d",
            "52e3c0f0a5c44a2e94f8fd7463b048f7",
            "097e64cbe0834c2596035a9a10883cf3",
            "bdde9c4a1a454a4894dcd6cc8c42944b",
            "a88763f548c5493fbfbee20050e229e8",
            "e0893be23d4a49d38983cb9a7611d9e6",
            "908d6a56e82848a5bf5b883d2397ba22",
            "8f65d015e85945fb980d94e2ecd9f086",
            "12ed05909e394292a764f25eafe3660b",
            "4e4a17d84b3c44a1866f0eb002a377cc",
            "5a35470f42b94631ad89213f338edb46",
            "b89ff09081394b93a8c1d3e1aa5a5dd6",
            "08e571bbc18b4feea5ebbd1847686623",
            "58f52eb97d50468c925be5e835c46c6b",
            "86da2cd638a047d28eea84720912174d",
            "ffab24297429400ab8ae0fea0a3da1e7",
            "32bf52d4bd9543afa89aceaaf4ee44c3",
            "2e89a7b53fdf4028a9725854a3b16013",
            "f9b5c4bc50a5411ba27c4d94819dcc0f",
            "4b5a4b10ded0421d9ea05bfce7e5c7f4",
            "0b54a93697d0406d823cb231c1bcb198",
            "8b7bc7e77aa84350bedb09dc55b7e874",
            "0fc2c0833dc14bf4bafce13b89aeea2c",
            "9c28314437ce42ec9f08781b43710577",
            "2142fc24d8f34f8fb95d46068c086165",
            "79fdbfaff9ab43878b1abbff41df74ec",
            "93823d8f76a44887adf25774852526f6",
            "67976486035746378d6895e90984e857"
          ]
        },
        "id": "fopGGcMQ36ia",
        "outputId": "19f89c5f-7674-4e4e-bf41-d144e9992a27"
      },
      "source": [
        "import tensorflow_datasets as tfds\n",
        "\n",
        "# Get the name of the data\n",
        "data_name = \"imdb_reviews\"\n",
        "\n",
        "# Load data\n",
        "data, info = tfds.load(name=data_name,\n",
        "                       data_dir=abspath_curr + 'yelp_review_polarity_csv.tar/',\n",
        "                       as_supervised=True,\n",
        "                       with_info=True)"
      ],
      "execution_count": 15,
      "outputs": [
        {
          "output_type": "stream",
          "text": [
            "\u001b[1mDownloading and preparing dataset imdb_reviews/plain_text/1.0.0 (download: 80.23 MiB, generated: Unknown size, total: 80.23 MiB) to /content/drive/My Drive/Colab Notebooks/datasetsyelp_review_polarity_csv.tar/imdb_reviews/plain_text/1.0.0...\u001b[0m\n"
          ],
          "name": "stdout"
        },
        {
          "output_type": "display_data",
          "data": {
            "application/vnd.jupyter.widget-view+json": {
              "model_id": "9888eae2e70e42da934b7895f376cb92",
              "version_minor": 0,
              "version_major": 2
            },
            "text/plain": [
              "HBox(children=(FloatProgress(value=1.0, bar_style='info', description='Dl Completed...', max=1.0, style=Progre…"
            ]
          },
          "metadata": {
            "tags": []
          }
        },
        {
          "output_type": "display_data",
          "data": {
            "application/vnd.jupyter.widget-view+json": {
              "model_id": "37ad9a19299045a887874f64690fe790",
              "version_minor": 0,
              "version_major": 2
            },
            "text/plain": [
              "HBox(children=(FloatProgress(value=1.0, bar_style='info', description='Dl Size...', max=1.0, style=ProgressSty…"
            ]
          },
          "metadata": {
            "tags": []
          }
        },
        {
          "output_type": "stream",
          "text": [
            "\n",
            "\n",
            "\n",
            "\n"
          ],
          "name": "stdout"
        },
        {
          "output_type": "display_data",
          "data": {
            "application/vnd.jupyter.widget-view+json": {
              "model_id": "e86c032b52ef48fb9b7c6ed765584d0a",
              "version_minor": 0,
              "version_major": 2
            },
            "text/plain": [
              "HBox(children=(FloatProgress(value=1.0, bar_style='info', max=1.0), HTML(value='')))"
            ]
          },
          "metadata": {
            "tags": []
          }
        },
        {
          "output_type": "stream",
          "text": [
            "Shuffling and writing examples to /content/drive/My Drive/Colab Notebooks/datasetsyelp_review_polarity_csv.tar/imdb_reviews/plain_text/1.0.0.incompleteT2IY3X/imdb_reviews-train.tfrecord\n"
          ],
          "name": "stdout"
        },
        {
          "output_type": "display_data",
          "data": {
            "application/vnd.jupyter.widget-view+json": {
              "model_id": "db8ab3e59ad64e018b1d8de0f74bc048",
              "version_minor": 0,
              "version_major": 2
            },
            "text/plain": [
              "HBox(children=(FloatProgress(value=0.0, max=25000.0), HTML(value='')))"
            ]
          },
          "metadata": {
            "tags": []
          }
        },
        {
          "output_type": "display_data",
          "data": {
            "application/vnd.jupyter.widget-view+json": {
              "model_id": "511c300e12c74932901e51a02b0ca25f",
              "version_minor": 0,
              "version_major": 2
            },
            "text/plain": [
              "HBox(children=(FloatProgress(value=1.0, bar_style='info', max=1.0), HTML(value='')))"
            ]
          },
          "metadata": {
            "tags": []
          }
        },
        {
          "output_type": "stream",
          "text": [
            "Shuffling and writing examples to /content/drive/My Drive/Colab Notebooks/datasetsyelp_review_polarity_csv.tar/imdb_reviews/plain_text/1.0.0.incompleteT2IY3X/imdb_reviews-test.tfrecord\n"
          ],
          "name": "stdout"
        },
        {
          "output_type": "display_data",
          "data": {
            "application/vnd.jupyter.widget-view+json": {
              "model_id": "a88763f548c5493fbfbee20050e229e8",
              "version_minor": 0,
              "version_major": 2
            },
            "text/plain": [
              "HBox(children=(FloatProgress(value=0.0, max=25000.0), HTML(value='')))"
            ]
          },
          "metadata": {
            "tags": []
          }
        },
        {
          "output_type": "display_data",
          "data": {
            "application/vnd.jupyter.widget-view+json": {
              "model_id": "08e571bbc18b4feea5ebbd1847686623",
              "version_minor": 0,
              "version_major": 2
            },
            "text/plain": [
              "HBox(children=(FloatProgress(value=1.0, bar_style='info', max=1.0), HTML(value='')))"
            ]
          },
          "metadata": {
            "tags": []
          }
        },
        {
          "output_type": "stream",
          "text": [
            "Shuffling and writing examples to /content/drive/My Drive/Colab Notebooks/datasetsyelp_review_polarity_csv.tar/imdb_reviews/plain_text/1.0.0.incompleteT2IY3X/imdb_reviews-unsupervised.tfrecord\n"
          ],
          "name": "stdout"
        },
        {
          "output_type": "display_data",
          "data": {
            "application/vnd.jupyter.widget-view+json": {
              "model_id": "0b54a93697d0406d823cb231c1bcb198",
              "version_minor": 0,
              "version_major": 2
            },
            "text/plain": [
              "HBox(children=(FloatProgress(value=0.0, max=50000.0), HTML(value='')))"
            ]
          },
          "metadata": {
            "tags": []
          }
        },
        {
          "output_type": "stream",
          "text": [
            "WARNING:absl:Dataset is using deprecated text encoder API which will be removed soon. Please use the plain_text version of the dataset and migrate to `tensorflow_text`.\n"
          ],
          "name": "stderr"
        },
        {
          "output_type": "stream",
          "text": [
            "\u001b[1mDataset imdb_reviews downloaded and prepared to /content/drive/My Drive/Colab Notebooks/datasetsyelp_review_polarity_csv.tar/imdb_reviews/plain_text/1.0.0. Subsequent calls will reuse this data.\u001b[0m\n"
          ],
          "name": "stdout"
        }
      ]
    },
    {
      "cell_type": "code",
      "metadata": {
        "id": "dVeJXlCw4oU1"
      },
      "source": [
        "target = 'label'"
      ],
      "execution_count": 16,
      "outputs": []
    },
    {
      "cell_type": "code",
      "metadata": {
        "colab": {
          "base_uri": "https://localhost:8080/"
        },
        "id": "oQQdd5884o6M",
        "outputId": "62535df7-0ee5-4739-830e-f4af04cad6ce"
      },
      "source": [
        "# Print the splits\n",
        "info.splits"
      ],
      "execution_count": 17,
      "outputs": [
        {
          "output_type": "execute_result",
          "data": {
            "text/plain": [
              "{'test': <tfds.core.SplitInfo num_examples=25000>,\n",
              " 'train': <tfds.core.SplitInfo num_examples=25000>,\n",
              " 'unsupervised': <tfds.core.SplitInfo num_examples=50000>}"
            ]
          },
          "metadata": {
            "tags": []
          },
          "execution_count": 17
        }
      ]
    },
    {
      "cell_type": "code",
      "metadata": {
        "colab": {
          "base_uri": "https://localhost:8080/"
        },
        "id": "AsI8T-vG4rBb",
        "outputId": "7a03edea-013b-4e78-8185-376b70b7b8dd"
      },
      "source": [
        "# Get the classes\n",
        "classes = info.features['label'].names\n",
        "\n",
        "# Print the classes\n",
        "classes"
      ],
      "execution_count": 18,
      "outputs": [
        {
          "output_type": "execute_result",
          "data": {
            "text/plain": [
              "['neg', 'pos']"
            ]
          },
          "metadata": {
            "tags": []
          },
          "execution_count": 18
        }
      ]
    },
    {
      "cell_type": "code",
      "metadata": {
        "colab": {
          "base_uri": "https://localhost:8080/"
        },
        "id": "Epo9rCEz4sw2",
        "outputId": "102d34ea-529a-42c2-bec8-2c2dec8ffeb6"
      },
      "source": [
        "# Get the number of classes\n",
        "n_classes = info.features['label'].num_classes\n",
        "\n",
        "# Print the number of classes\n",
        "info.features['label'].num_classes"
      ],
      "execution_count": 19,
      "outputs": [
        {
          "output_type": "execute_result",
          "data": {
            "text/plain": [
              "2"
            ]
          },
          "metadata": {
            "tags": []
          },
          "execution_count": 19
        }
      ]
    },
    {
      "cell_type": "code",
      "metadata": {
        "id": "VvbdeHVM4uro"
      },
      "source": [
        "# Set the training, validation and test split\n",
        "split_train, split_valid, split_test = 'train[:70%]', 'train[70%:]', 'test'\n",
        "\n",
        "# Get the training data\n",
        "data_train = tfds.load(name=data_name,\n",
        "                       split=split_train,\n",
        "                       data_dir=abspath_curr + 'yelp_review_polarity_csv.tar/',\n",
        "                       as_supervised=True)\n",
        "\n",
        "# Get the validation data\n",
        "data_valid = tfds.load(name=data_name,\n",
        "                       split=split_valid,\n",
        "                       data_dir=abspath_curr + 'yelp_review_polarity_csv.tar/',\n",
        "                       as_supervised=True)\n",
        "\n",
        "# Get the test data\n",
        "data_test = tfds.load(name=data_name,\n",
        "                      split=split_test,\n",
        "                      data_dir=abspath_curr + 'yelp_review_polarity_csv.tar/',\n",
        "                      as_supervised=True)"
      ],
      "execution_count": 20,
      "outputs": []
    },
    {
      "cell_type": "code",
      "metadata": {
        "id": "KzyZhJ7p46kI"
      },
      "source": [
        "# Set the batch size\n",
        "batch_size = 16\n",
        "\n",
        "# Batch and prefetch the training data\n",
        "data_train = data_train.batch(batch_size).prefetch(1)\n",
        "\n",
        "# Batch and prefetch the validation data\n",
        "data_valid = data_valid.batch(batch_size).prefetch(1)\n",
        "\n",
        "# Batch and prefetch the testing data\n",
        "data_test = data_test.batch(batch_size).prefetch(1)"
      ],
      "execution_count": 21,
      "outputs": []
    },
    {
      "cell_type": "markdown",
      "metadata": {
        "id": "rMLlv9xK4AO9"
      },
      "source": [
        "# Training"
      ]
    },
    {
      "cell_type": "code",
      "metadata": {
        "id": "A7OIn4WO3f9H"
      },
      "source": [
        "# Implement me"
      ],
      "execution_count": null,
      "outputs": []
    },
    {
      "cell_type": "code",
      "metadata": {
        "id": "OxMMNtSk5AHx"
      },
      "source": [
        "# Make directory\n",
        "directory = os.path.dirname(abspath_curr + '/ml_hw6/model/')\n",
        "if not os.path.exists(directory):\n",
        "    os.makedirs(directory)"
      ],
      "execution_count": 22,
      "outputs": []
    },
    {
      "cell_type": "code",
      "metadata": {
        "colab": {
          "base_uri": "https://localhost:8080/"
        },
        "id": "BaV2VI055CyL",
        "outputId": "c724dcb9-5967-4106-9280-d8d4669c5511"
      },
      "source": [
        "# Get the model\n",
        "model = keras.Sequential([hub.KerasLayer('https://tfhub.dev/google/tf2-preview/nnlm-en-dim50/1',\n",
        "                                         trainable=False,\n",
        "                                         dtype=tf.string,\n",
        "                                         input_shape=[],\n",
        "                                         output_shape=[50]),\n",
        "                          keras.layers.Dense(128, activation='relu'),\n",
        "                          keras.layers.Dense(1, activation='sigmoid')])\n",
        "\n",
        "# Get the model summary\n",
        "model.summary()"
      ],
      "execution_count": 23,
      "outputs": [
        {
          "output_type": "stream",
          "text": [
            "Model: \"sequential\"\n",
            "_________________________________________________________________\n",
            "Layer (type)                 Output Shape              Param #   \n",
            "=================================================================\n",
            "keras_layer (KerasLayer)     (None, 50)                48190600  \n",
            "_________________________________________________________________\n",
            "dense (Dense)                (None, 128)               6528      \n",
            "_________________________________________________________________\n",
            "dense_1 (Dense)              (None, 1)                 129       \n",
            "=================================================================\n",
            "Total params: 48,197,257\n",
            "Trainable params: 6,657\n",
            "Non-trainable params: 48,190,600\n",
            "_________________________________________________________________\n"
          ],
          "name": "stdout"
        }
      ]
    },
    {
      "cell_type": "code",
      "metadata": {
        "colab": {
          "base_uri": "https://localhost:8080/"
        },
        "id": "k7iiea6P5GVQ",
        "outputId": "c5cccc09-0b37-4ca1-82b6-1116ac2ab352"
      },
      "source": [
        "# Freeze the pretrained layers\n",
        "model.layers[0].trainable = False\n",
        "\n",
        "# Get the model summary\n",
        "model.summary()"
      ],
      "execution_count": 24,
      "outputs": [
        {
          "output_type": "stream",
          "text": [
            "Model: \"sequential\"\n",
            "_________________________________________________________________\n",
            "Layer (type)                 Output Shape              Param #   \n",
            "=================================================================\n",
            "keras_layer (KerasLayer)     (None, 50)                48190600  \n",
            "_________________________________________________________________\n",
            "dense (Dense)                (None, 128)               6528      \n",
            "_________________________________________________________________\n",
            "dense_1 (Dense)              (None, 1)                 129       \n",
            "=================================================================\n",
            "Total params: 48,197,257\n",
            "Trainable params: 6,657\n",
            "Non-trainable params: 48,190,600\n",
            "_________________________________________________________________\n"
          ],
          "name": "stdout"
        }
      ]
    },
    {
      "cell_type": "code",
      "metadata": {
        "id": "MB_3bvId5LJQ"
      },
      "source": [
        "# ModelCheckpoint callback\n",
        "model_checkpoint_cb = keras.callbacks.ModelCheckpoint(filepath=abspath_curr + '/ml_hw6/model/model.h5',\n",
        "                                                      save_best_only=True,\n",
        "                                                      save_weights_only=True)\n",
        "\n",
        "# EarlyStopping callback\n",
        "early_stopping_cb = keras.callbacks.EarlyStopping(patience=5,\n",
        "                                                  restore_best_weights=True)\n",
        "\n",
        "# ReduceLROnPlateau callback\n",
        "reduce_lr_on_plateau_cb = keras.callbacks.ReduceLROnPlateau(factor=0.1,\n",
        "                                                            patience=5)"
      ],
      "execution_count": 26,
      "outputs": []
    },
    {
      "cell_type": "code",
      "metadata": {
        "id": "4hFUVVEU5NsA"
      },
      "source": [
        "# Compile the model\n",
        "model.compile(optimizer=keras.optimizers.Adam(learning_rate=10 ** -3),\n",
        "              loss='binary_crossentropy',    \n",
        "              metrics=['accuracy'])"
      ],
      "execution_count": 27,
      "outputs": []
    },
    {
      "cell_type": "code",
      "metadata": {
        "colab": {
          "base_uri": "https://localhost:8080/"
        },
        "id": "Q70S01DU5SdQ",
        "outputId": "f126d91e-845d-443e-e4d8-5eade80cd03b"
      },
      "source": [
        "# Train, evaluate and save the best model\n",
        "history = model.fit(data_train,\n",
        "                    epochs=10,\n",
        "                    validation_data=data_valid,\n",
        "                    callbacks=[model_checkpoint_cb,\n",
        "                               early_stopping_cb,\n",
        "                               reduce_lr_on_plateau_cb])"
      ],
      "execution_count": 28,
      "outputs": [
        {
          "output_type": "stream",
          "text": [
            "Epoch 1/10\n",
            "1094/1094 [==============================] - 8s 7ms/step - loss: 0.5484 - accuracy: 0.7267 - val_loss: 0.5174 - val_accuracy: 0.7483\n",
            "Epoch 2/10\n",
            "1094/1094 [==============================] - 8s 8ms/step - loss: 0.5144 - accuracy: 0.7495 - val_loss: 0.5152 - val_accuracy: 0.7500\n",
            "Epoch 3/10\n",
            "1094/1094 [==============================] - 8s 8ms/step - loss: 0.5086 - accuracy: 0.7525 - val_loss: 0.5145 - val_accuracy: 0.7536\n",
            "Epoch 4/10\n",
            "1094/1094 [==============================] - 8s 7ms/step - loss: 0.5046 - accuracy: 0.7537 - val_loss: 0.5145 - val_accuracy: 0.7523\n",
            "Epoch 5/10\n",
            "1094/1094 [==============================] - 9s 8ms/step - loss: 0.5013 - accuracy: 0.7554 - val_loss: 0.5128 - val_accuracy: 0.7531\n",
            "Epoch 6/10\n",
            "1094/1094 [==============================] - 8s 7ms/step - loss: 0.4986 - accuracy: 0.7564 - val_loss: 0.5130 - val_accuracy: 0.7524\n",
            "Epoch 7/10\n",
            "1094/1094 [==============================] - 8s 7ms/step - loss: 0.4954 - accuracy: 0.7584 - val_loss: 0.5131 - val_accuracy: 0.7509\n",
            "Epoch 8/10\n",
            "1094/1094 [==============================] - 9s 8ms/step - loss: 0.4927 - accuracy: 0.7606 - val_loss: 0.5127 - val_accuracy: 0.7527\n",
            "Epoch 9/10\n",
            "1094/1094 [==============================] - 8s 7ms/step - loss: 0.4897 - accuracy: 0.7619 - val_loss: 0.5121 - val_accuracy: 0.7523\n",
            "Epoch 10/10\n",
            "1094/1094 [==============================] - 8s 7ms/step - loss: 0.4868 - accuracy: 0.7646 - val_loss: 0.5124 - val_accuracy: 0.7519\n"
          ],
          "name": "stdout"
        }
      ]
    },
    {
      "cell_type": "code",
      "metadata": {
        "id": "hXBPTQNz5WoO"
      },
      "source": [
        "# Make directory\n",
        "directory = os.path.dirname(abspath_curr + '/ml_hw6/figure/')\n",
        "if not os.path.exists(directory):\n",
        "    os.makedirs(directory)"
      ],
      "execution_count": 29,
      "outputs": []
    },
    {
      "cell_type": "code",
      "metadata": {
        "colab": {
          "base_uri": "https://localhost:8080/",
          "height": 348
        },
        "id": "aiRwACVO5Yvy",
        "outputId": "82f816ac-589b-40a7-b9f2-52942d622efb"
      },
      "source": [
        "import pandas as pd\n",
        "\n",
        "# Create a figure\n",
        "pd.DataFrame(history.history).plot(figsize=(8, 5))\n",
        "\n",
        "# Set grid\n",
        "plt.grid(True)\n",
        "\n",
        "# Save and show the figure\n",
        "plt.tight_layout()\n",
        "plt.savefig(abspath_curr + '/ml_hw6/figure/learning_curve_before_unfreezing.pdf')\n",
        "plt.show()"
      ],
      "execution_count": 30,
      "outputs": [
        {
          "output_type": "display_data",
          "data": {
            "image/png": "[encoded data removed]",
            "text/plain": [
              "<Figure size 576x360 with 1 Axes>"
            ]
          },
          "metadata": {
            "tags": [],
            "needs_background": "light"
          }
        }
      ]
    },
    {
      "cell_type": "code",
      "metadata": {
        "colab": {
          "base_uri": "https://localhost:8080/"
        },
        "id": "ThjsIZCn5czR",
        "outputId": "abc2ff72-b2fb-43a8-e312-5d7747592183"
      },
      "source": [
        "# Unfreeze the pretrained layers\n",
        "model.layers[0].trainable = True\n",
        "\n",
        "# Get the model summary\n",
        "model.summary()"
      ],
      "execution_count": 31,
      "outputs": [
        {
          "output_type": "stream",
          "text": [
            "Model: \"sequential\"\n",
            "_________________________________________________________________\n",
            "Layer (type)                 Output Shape              Param #   \n",
            "=================================================================\n",
            "keras_layer (KerasLayer)     (None, 50)                48190600  \n",
            "_________________________________________________________________\n",
            "dense (Dense)                (None, 128)               6528      \n",
            "_________________________________________________________________\n",
            "dense_1 (Dense)              (None, 1)                 129       \n",
            "=================================================================\n",
            "Total params: 48,197,257\n",
            "Trainable params: 48,197,257\n",
            "Non-trainable params: 0\n",
            "_________________________________________________________________\n"
          ],
          "name": "stdout"
        }
      ]
    },
    {
      "cell_type": "markdown",
      "metadata": {
        "id": "MdwRwHup5isn"
      },
      "source": [
        "Here we use a lower learning rate (by a factor of 10) of Adam optimizer, so that it is less likely to compromise the pretrained weights."
      ]
    },
    {
      "cell_type": "code",
      "metadata": {
        "id": "3V8_-5kT5fl8"
      },
      "source": [
        "# Compile the model\n",
        "model.compile(optimizer=keras.optimizers.Adam(learning_rate=10 ** -4),\n",
        "              loss='binary_crossentropy',\n",
        "              metrics=['accuracy'])"
      ],
      "execution_count": 32,
      "outputs": []
    },
    {
      "cell_type": "code",
      "metadata": {
        "colab": {
          "base_uri": "https://localhost:8080/"
        },
        "id": "55jGfrFg5lnK",
        "outputId": "2561ebad-9b95-41cb-8504-da25d67a6a89"
      },
      "source": [
        "# Train, evaluate and save the best model\n",
        "history = model.fit(data_train,\n",
        "                    epochs=10,\n",
        "                    validation_data=data_valid,\n",
        "                    callbacks=[model_checkpoint_cb,\n",
        "                               early_stopping_cb,\n",
        "                               reduce_lr_on_plateau_cb])"
      ],
      "execution_count": 33,
      "outputs": [
        {
          "output_type": "stream",
          "text": [
            "Epoch 1/10\n",
            "1094/1094 [==============================] - 37s 34ms/step - loss: 0.4330 - accuracy: 0.8006 - val_loss: 0.4117 - val_accuracy: 0.8169\n",
            "Epoch 2/10\n",
            "1094/1094 [==============================] - 37s 34ms/step - loss: 0.3312 - accuracy: 0.8605 - val_loss: 0.3659 - val_accuracy: 0.8383\n",
            "Epoch 3/10\n",
            "1094/1094 [==============================] - 37s 34ms/step - loss: 0.2579 - accuracy: 0.8981 - val_loss: 0.3416 - val_accuracy: 0.8492\n",
            "Epoch 4/10\n",
            "1094/1094 [==============================] - 37s 34ms/step - loss: 0.1999 - accuracy: 0.9294 - val_loss: 0.3299 - val_accuracy: 0.8591\n",
            "Epoch 5/10\n",
            "1094/1094 [==============================] - 37s 33ms/step - loss: 0.1524 - accuracy: 0.9505 - val_loss: 0.3277 - val_accuracy: 0.8652\n",
            "Epoch 6/10\n",
            "1094/1094 [==============================] - 36s 32ms/step - loss: 0.1132 - accuracy: 0.9673 - val_loss: 0.3338 - val_accuracy: 0.8681\n",
            "Epoch 7/10\n",
            "1094/1094 [==============================] - 36s 32ms/step - loss: 0.0817 - accuracy: 0.9798 - val_loss: 0.3474 - val_accuracy: 0.8675\n",
            "Epoch 8/10\n",
            "1094/1094 [==============================] - 35s 32ms/step - loss: 0.0571 - accuracy: 0.9881 - val_loss: 0.3665 - val_accuracy: 0.8685\n",
            "Epoch 9/10\n",
            "1094/1094 [==============================] - 35s 32ms/step - loss: 0.0387 - accuracy: 0.9938 - val_loss: 0.3911 - val_accuracy: 0.8676\n",
            "Epoch 10/10\n",
            "1094/1094 [==============================] - 35s 32ms/step - loss: 0.0253 - accuracy: 0.9969 - val_loss: 0.4210 - val_accuracy: 0.8659\n"
          ],
          "name": "stdout"
        }
      ]
    },
    {
      "cell_type": "code",
      "metadata": {
        "colab": {
          "base_uri": "https://localhost:8080/",
          "height": 348
        },
        "id": "_0BksNNE5qVi",
        "outputId": "c569c2c8-0d1c-44a1-8ae4-5d805e79f2b1"
      },
      "source": [
        "# Create a figure\n",
        "pd.DataFrame(history.history).plot(figsize=(8, 5))\n",
        "\n",
        "# Set grid\n",
        "plt.grid(True)\n",
        "\n",
        "# Save and show the figure\n",
        "plt.tight_layout()\n",
        "plt.savefig(abspath_curr + '/ml_hw6/figure/learning_curve_after_unfreezing.pdf')\n",
        "plt.show()"
      ],
      "execution_count": 34,
      "outputs": [
        {
          "output_type": "display_data",
          "data": {
            "image/png": "[encoded data removed]",
            "text/plain": [
              "<Figure size 576x360 with 1 Axes>"
            ]
          },
          "metadata": {
            "tags": [],
            "needs_background": "light"
          }
        }
      ]
    },
    {
      "cell_type": "markdown",
      "metadata": {
        "id": "RkGivY_MA6m1"
      },
      "source": [
        "# Testing"
      ]
    },
    {
      "cell_type": "code",
      "metadata": {
        "id": "ByBdp5sN3f9H"
      },
      "source": [
        "# Implement me"
      ],
      "execution_count": null,
      "outputs": []
    },
    {
      "cell_type": "code",
      "metadata": {
        "id": "jvzeDiq75zFy"
      },
      "source": [
        "# Load the saved model\n",
        "model.load_weights(filepath=abspath_curr + '/ml_hw6/model/model.h5')"
      ],
      "execution_count": 35,
      "outputs": []
    },
    {
      "cell_type": "code",
      "metadata": {
        "colab": {
          "base_uri": "https://localhost:8080/"
        },
        "id": "QeVqnrvx51Cv",
        "outputId": "bbebd6a7-53b3-4a73-de32-259d138f6446"
      },
      "source": [
        "# Evaluate the model\n",
        "\n",
        "loss, accuracy = model.evaluate(data_test)"
      ],
      "execution_count": 36,
      "outputs": [
        {
          "output_type": "stream",
          "text": [
            "1563/1563 [==============================] - 7s 4ms/step - loss: 0.3499 - accuracy: 0.8528\n"
          ],
          "name": "stdout"
        }
      ]
    }
  ]
}